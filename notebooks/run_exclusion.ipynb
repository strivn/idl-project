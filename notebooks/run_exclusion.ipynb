{
 "cells": [
  {
   "cell_type": "code",
   "execution_count": 1,
   "metadata": {},
   "outputs": [
    {
     "name": "stderr",
     "output_type": "stream",
     "text": [
      "/jet/home/jhwang4/.local/lib/python3.10/site-packages/tqdm/auto.py:21: TqdmWarning: IProgress not found. Please update jupyter and ipywidgets. See https://ipywidgets.readthedocs.io/en/stable/user_install.html\n",
      "  from .autonotebook import tqdm as notebook_tqdm\n"
     ]
    },
    {
     "name": "stdout",
     "output_type": "stream",
     "text": [
      "Using device: cuda\n"
     ]
    }
   ],
   "source": [
    "import sys \n",
    "import os \n",
    "sys.path.append(os.path.abspath(os.path.join(os.getcwd(), '..')))\n",
    "sys.path.append('/ocean/projects/cis250068p/jhwang4/idl-project')\n",
    "import torch as t\n",
    "import numpy as np\n",
    "import pandas as pd\n",
    "import torch.nn.functional as F\n",
    "from tqdm.auto import tqdm\n",
    "\n",
    "from transformers import GPTNeoXForCausalLM, AutoTokenizer\n",
    "from datasets import load_dataset, Dataset\n",
    "from sentence_transformers import SentenceTransformer, util\n",
    "\n",
    "from sklearn.feature_extraction.text import TfidfVectorizer\n",
    "from sklearn.metrics.pairwise import cosine_similarity\n",
    "\n",
    "import nltk\n",
    "from nltk.translate.bleu_score import sentence_bleu, SmoothingFunction\n",
    "from rouge_score import rouge_scorer\n",
    "from nltk.tokenize import sent_tokenize\n",
    "\n",
    "from sentence_transformers import SentenceTransformer\n",
    "from rouge_score import rouge_scorer\n",
    "from sklearn.feature_extraction.text import TfidfVectorizer\n",
    "import ast\n",
    "import re\n",
    "from scipy.spatial.distance import cosine\n",
    "from src.model import load_fo_model, load_ba_model, DEVICE\n",
    "from src.data import load_cnn_dataset\n",
    "#from src.utils import *\n",
    "from src.utils_batch_v2 import *\n",
    "#from src.search import *\n",
    "from src.search_batch_v2 import *\n"
   ]
  },
  {
   "cell_type": "code",
   "execution_count": 2,
   "metadata": {},
   "outputs": [
    {
     "name": "stderr",
     "output_type": "stream",
     "text": [
      "[nltk_data] Downloading package punkt_tab to\n",
      "[nltk_data]     /jet/home/jhwang4/nltk_data...\n",
      "[nltk_data]   Package punkt_tab is already up-to-date!\n"
     ]
    },
    {
     "data": {
      "text/plain": [
       "True"
      ]
     },
     "execution_count": 2,
     "metadata": {},
     "output_type": "execute_result"
    }
   ],
   "source": [
    "pd.set_option('display.max_colwidth', 200)\n",
    "pd.set_option('display.float_format', '{:.4f}'.format)\n",
    "nltk.download(\"punkt_tab\")\n"
   ]
  },
  {
   "cell_type": "code",
   "execution_count": 3,
   "metadata": {},
   "outputs": [
    {
     "data": {
      "text/plain": [
       "'cuda'"
      ]
     },
     "execution_count": 3,
     "metadata": {},
     "output_type": "execute_result"
    }
   ],
   "source": [
    "DEVICE"
   ]
  },
  {
   "cell_type": "code",
   "execution_count": 4,
   "metadata": {},
   "outputs": [
    {
     "name": "stdout",
     "output_type": "stream",
     "text": [
      "4\n"
     ]
    }
   ],
   "source": [
    "# Load the models\n",
    "fo_model, fo_tokenizer = load_fo_model()\n",
    "ba_model, ba_tokenizer = load_ba_model()\n",
    "fo_model = fo_model.to(DEVICE)\n",
    "ba_model = ba_model.to(DEVICE)\n",
    "fo_model.half()\n",
    "ba_model.half()\n",
    "\n",
    "# 멀티-GPU 자동 적용\n",
    "if t.cuda.device_count() > 1:\n",
    "    print(t.cuda.device_count())\n",
    "    fo_model = t.nn.DataParallel(fo_model)\n",
    "    ba_model = t.nn.DataParallel(ba_model)"
   ]
  },
  {
   "cell_type": "code",
   "execution_count": 7,
   "metadata": {},
   "outputs": [
    {
     "name": "stdout",
     "output_type": "stream",
     "text": [
      "Error loading streamed dataset: 429 Client Error: Too Many Requests for url: https://huggingface.co/api/datasets/cnn_dailymail/revision/96df5e686bee6baa90b8bee7c28b81fa3fa6223d\n",
      "Creating synthetic test dataset instead...\n"
     ]
    }
   ],
   "source": [
    "dataset = load_cnn_dataset(num_samples=47852)\n",
    "dataset = pd.DataFrame(dataset)"
   ]
  },
  {
   "cell_type": "code",
   "execution_count": 6,
   "metadata": {},
   "outputs": [
    {
     "name": "stderr",
     "output_type": "stream",
     "text": [
      "  0%|                                                                                                    | 0/2 [00:00<?, ?it/s]/ocean/projects/cis250068p/jhwang4/idl-project/src/utils_batch_v2.py:272: FutureWarning: `torch.cuda.amp.autocast(args...)` is deprecated. Please use `torch.amp.autocast('cuda', args...)` instead.\n",
      "  with t.no_grad(), autocast():\n",
      "100%|████████████████████████████████████████████████████████████████████████████████████████████| 2/2 [00:01<00:00,  1.45it/s]\n"
     ]
    }
   ],
   "source": [
    "exclusion_results = exclusion_search_attribution_search(dataset, fo_model, fo_tokenizer, ba_model, ba_tokenizer, sentence_batch_size=32) # 3m30.4s"
   ]
  },
  {
   "cell_type": "code",
   "execution_count": null,
   "metadata": {},
   "outputs": [],
   "source": [
    "EMB_MODEL    = SentenceTransformer('all-MiniLM-L6-v2')\n",
    "ROUGE_SCORER = rouge_scorer.RougeScorer(['rougeL'], use_stemmer=True)\n",
    "TFIDF_VEC    = TfidfVectorizer(\n",
    "    token_pattern=r\"(?u)\\b\\w+\\b\",  # 좀 더 느슨한 토큰화\n",
    "    stop_words=None               # 불용어 필터링 끄기\n",
    ")\n",
    "\n",
    "def calculate_embedding_similarity(highlight, citation):\n",
    "    he = EMB_MODEL.encode([highlight])[0]\n",
    "    ce = EMB_MODEL.encode([citation])[0]\n",
    "    return 1 - cosine(he, ce)\n",
    "\n",
    "def calculate_rouge_score(highlight, citation):\n",
    "    return ROUGE_SCORER.score(highlight, citation)['rougeL'].fmeasure\n",
    "\n",
    "def calculate_tfidf_score(highlight, citation):\n",
    "    try:\n",
    "        mat = TFIDF_VEC.fit_transform([highlight, citation]).toarray()\n",
    "        return 1 - cosine(mat[0], mat[1])\n",
    "    except ValueError:\n",
    "        # 어휘가 하나도 없으면 0.0\n",
    "        return 0.0\n",
    "\n",
    "def process_data(data):\n",
    "    results = []\n",
    "    for item in data:\n",
    "        hl = item['highlight']\n",
    "        rec = {'id': item['id'], 'highlight': hl}\n",
    "        for citation_type in ['base_citation','fo_citation','ba_citation']:\n",
    "            prefix = citation_type.split('_')[0]\n",
    "            cit = item.get(citation_type, None)\n",
    "            if cit:\n",
    "                rec[f'{prefix}_emb_similarity'] = calculate_embedding_similarity(hl, cit)\n",
    "                rec[f'{prefix}_rouge_score']     = calculate_rouge_score(hl, cit)\n",
    "                rec[f'{prefix}_tfidf_score']     = calculate_tfidf_score(hl, cit)\n",
    "            else:\n",
    "                rec[f'{prefix}_emb_similarity'] = None\n",
    "                rec[f'{prefix}_rouge_score']     = None\n",
    "                rec[f'{prefix}_tfidf_score']     = None\n",
    "        results.append(rec)\n",
    "    return results\n",
    "\n",
    "\n",
    "exclusion_final_results = process_data(exclusion_results)"
   ]
  },
  {
   "cell_type": "code",
   "execution_count": null,
   "metadata": {},
   "outputs": [],
   "source": [
    "r = pd.DataFrame(exclusion_final_results) \n",
    "r.drop(['id', 'highlight'], axis=1).mean()"
   ]
  },
  {
   "cell_type": "code",
   "execution_count": null,
   "metadata": {},
   "outputs": [],
   "source": [
    "df_exclusion = pd.DataFrame(exclusion_final_results)\n",
    "mean_series = df_exclusion.drop(['id', 'highlight'], axis=1).mean()\n",
    "\n",
    "data = {\n",
    "    'Base_exclusion': [\n",
    "        mean_series['base_emb_similarity'],\n",
    "        mean_series['base_rouge_score'],\n",
    "        mean_series['base_tfidf_score']\n",
    "    ],\n",
    "    'Fo_exclusion': [\n",
    "        mean_series['fo_emb_similarity'],\n",
    "        mean_series['fo_rouge_score'],\n",
    "        mean_series['fo_tfidf_score']\n",
    "    ],\n",
    "    'Ba_exclusion': [\n",
    "        mean_series['ba_emb_similarity'],\n",
    "        mean_series['ba_rouge_score'],\n",
    "        mean_series['ba_tfidf_score']\n",
    "    ]\n",
    "}\n",
    "\n",
    "table_df = pd.DataFrame(data, index=['Embedding', 'Rouge', 'Tfidf'])\n",
    "table_df\n",
    "table_df.to_csv(\"/ocean/projects/cis250068p/jhwang4/idl-project/notebooks/exclusion_result.csv\", index=True)"
   ]
  }
 ],
 "metadata": {
  "kernelspec": {
   "display_name": "Python 3 (ipykernel)",
   "language": "python",
   "name": "python3"
  }
 },
 "nbformat": 4,
 "nbformat_minor": 2
}
