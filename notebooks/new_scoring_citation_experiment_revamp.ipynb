{
 "cells": [
  {
   "cell_type": "markdown",
   "metadata": {},
   "source": [
    "# Scoring and Citations Testbed\n",
    "---"
   ]
  },
  {
   "cell_type": "markdown",
   "metadata": {},
   "source": []
  },
  {
   "cell_type": "markdown",
   "metadata": {},
   "source": [
    "## Import Libraries"
   ]
  },
  {
   "cell_type": "code",
   "execution_count": null,
   "metadata": {},
   "outputs": [],
   "source": [
    "import sys \n",
    "import os \n",
    "sys.path.append(os.path.abspath(os.path.join(os.getcwd(), '..')))\n",
    "sys.path.append('/ocean/projects/cis250068p/jhwang4/idl-project')"
   ]
  },
  {
   "cell_type": "code",
   "execution_count": 2,
   "metadata": {},
   "outputs": [
    {
     "name": "stderr",
     "output_type": "stream",
     "text": [
      "/jet/home/jhwang4/.local/lib/python3.10/site-packages/tqdm/auto.py:21: TqdmWarning: IProgress not found. Please update jupyter and ipywidgets. See https://ipywidgets.readthedocs.io/en/stable/user_install.html\n",
      "  from .autonotebook import tqdm as notebook_tqdm\n"
     ]
    }
   ],
   "source": [
    "import torch as t\n",
    "import numpy as np\n",
    "import pandas as pd\n",
    "import torch.nn.functional as F\n",
    "from tqdm.auto import tqdm\n",
    "\n",
    "from transformers import GPTNeoXForCausalLM, AutoTokenizer\n",
    "from datasets import load_dataset, Dataset\n",
    "from sentence_transformers import SentenceTransformer, util\n",
    "\n",
    "from sklearn.feature_extraction.text import TfidfVectorizer\n",
    "from sklearn.metrics.pairwise import cosine_similarity\n",
    "\n",
    "import nltk\n",
    "from nltk.translate.bleu_score import sentence_bleu, SmoothingFunction\n",
    "from rouge_score import rouge_scorer\n",
    "from nltk.tokenize import sent_tokenize\n",
    "\n",
    "from sentence_transformers import SentenceTransformer\n",
    "from rouge_score import rouge_scorer\n",
    "from sklearn.feature_extraction.text import TfidfVectorizer\n",
    "import ast\n",
    "import re\n",
    "from scipy.spatial.distance import cosine\n"
   ]
  },
  {
   "cell_type": "code",
   "execution_count": 3,
   "metadata": {},
   "outputs": [
    {
     "name": "stdout",
     "output_type": "stream",
     "text": [
      "Using device: cuda\n"
     ]
    }
   ],
   "source": [
    "from src.model import load_fo_model, load_ba_model, DEVICE\n",
    "from src.data import load_cnn_dataset\n",
    "#from src.utils import *\n",
    "from src.utils_batch_v2 import *\n",
    "#from src.search import *\n",
    "from src.search_batch_v2 import *"
   ]
  },
  {
   "cell_type": "code",
   "execution_count": 4,
   "metadata": {},
   "outputs": [],
   "source": [
    "pd.set_option('display.max_colwidth', 200)\n",
    "pd.set_option('display.float_format', '{:.4f}'.format)"
   ]
  },
  {
   "cell_type": "code",
   "execution_count": 5,
   "metadata": {},
   "outputs": [
    {
     "name": "stderr",
     "output_type": "stream",
     "text": [
      "[nltk_data] Downloading package punkt_tab to\n",
      "[nltk_data]     /jet/home/jhwang4/nltk_data...\n",
      "[nltk_data]   Package punkt_tab is already up-to-date!\n"
     ]
    },
    {
     "data": {
      "text/plain": [
       "True"
      ]
     },
     "execution_count": 5,
     "metadata": {},
     "output_type": "execute_result"
    }
   ],
   "source": [
    "nltk.download(\"punkt_tab\")"
   ]
  },
  {
   "cell_type": "code",
   "execution_count": 6,
   "metadata": {},
   "outputs": [
    {
     "data": {
      "text/plain": [
       "'cuda'"
      ]
     },
     "execution_count": 6,
     "metadata": {},
     "output_type": "execute_result"
    }
   ],
   "source": [
    "DEVICE"
   ]
  },
  {
   "cell_type": "markdown",
   "metadata": {},
   "source": [
    "## Quick Test"
   ]
  },
  {
   "cell_type": "code",
   "execution_count": 7,
   "metadata": {},
   "outputs": [
    {
     "name": "stdout",
     "output_type": "stream",
     "text": [
      "4\n"
     ]
    }
   ],
   "source": [
    "# Load the models\n",
    "fo_model, fo_tokenizer = load_fo_model()\n",
    "ba_model, ba_tokenizer = load_ba_model()\n",
    "fo_model = fo_model.to(DEVICE)\n",
    "ba_model = ba_model.to(DEVICE)\n",
    "fo_model.half()\n",
    "ba_model.half()\n",
    "if t.cuda.device_count() > 1:\n",
    "    print(t.cuda.device_count())\n",
    "    fo_model = t.nn.DataParallel(fo_model)\n",
    "    ba_model = t.nn.DataParallel(ba_model)\n",
    "\n",
    "fo_model = t.compile(fo_model)\n",
    "ba_model = t.compile(ba_model)\n",
    "\n",
    "\n",
    "# Example Text\n",
    "# article = \"Harry Potter star Daniel Radcliffe gains access to a reported £20 million ($41.1 million) fortune as he turns 18 on Monday, but he insists the money won't cast a spell on him.\"\n",
    "# summary = \"Harry Potter star Daniel Radcliffe gets £20M fortune as he turns 18 Monday\"\n",
    "# adverse_summary = \"Daniel Craig is recasted as James Bond again\""
   ]
  },
  {
   "cell_type": "code",
   "execution_count": null,
   "metadata": {},
   "outputs": [],
   "source": [
    "# debug = True\n",
    "\n",
    "# # In normal, query is sentence/article, and answer is summary/highlight (S->A direction)\n",
    "# base = calculate_score(summary, article, fo_model, fo_tokenizer, backward=False, query_direction=\"normal\", debug=debug)\n",
    "\n",
    "# # In Fo, query is summary/highlight , and answer is sentence/article(A->S direction)\n",
    "# fo = calculate_score(summary, article, fo_model, fo_tokenizer, backward=False, query_direction=\"reverse\", debug=debug)\n",
    "\n",
    "# # In Ba, query is summary/highlight , and answer is sentence/article(A->S direction)\n",
    "# ba = calculate_score(summary, article, ba_model, ba_tokenizer, backward=True, query_direction=\"reverse\", debug=debug)\n",
    "\n",
    "\n",
    "# adv_base = calculate_score(adverse_summary, article, fo_model, fo_tokenizer, backward=False, query_direction=\"normal\", debug=debug)\n",
    "\n",
    "# adv_fo = calculate_score(adverse_summary, article, fo_model, fo_tokenizer, backward=False, query_direction=\"reverse\", debug=debug)\n",
    "\n",
    "# adv_ba = calculate_score(adverse_summary, article, ba_model, ba_tokenizer, backward=True, query_direction=\"reverse\", debug=debug)\n",
    "\n",
    "\n",
    "# scores_data = {\n",
    "#     'Model Type': ['Base', 'Forward', 'Backward', 'Adv Base', 'Adv Forward', 'Adv Backward'],\n",
    "    \n",
    "#     'Query Direction': ['S->A', 'A->S', 'A->S', 'S->A', 'A->S', 'A->S'],\n",
    "    \n",
    "#     'Sequence Log Prob': [\n",
    "#         base['sequence_log_prob'],\n",
    "#         fo['sequence_log_prob'],\n",
    "#         ba['sequence_log_prob'],\n",
    "        \n",
    "#         adv_base['sequence_log_prob'],\n",
    "#         adv_fo['sequence_log_prob'],\n",
    "#         adv_ba['sequence_log_prob'],\n",
    "#     ],\n",
    "#     'Normalized Log Prob': [\n",
    "#         base['normalized_log_prob'],\n",
    "#         fo['normalized_log_prob'],\n",
    "#         ba['normalized_log_prob'],\n",
    "        \n",
    "#         adv_base['normalized_log_prob'],\n",
    "#         adv_fo['normalized_log_prob'],\n",
    "#         adv_ba['normalized_log_prob'],\n",
    "#     ],\n",
    "#     'Perplexity': [\n",
    "#         base['perplexity'],\n",
    "#         fo['perplexity'],\n",
    "#         ba['perplexity'],\n",
    "        \n",
    "#         adv_base['perplexity'],\n",
    "#         adv_fo['perplexity'],\n",
    "#         adv_ba['perplexity'],\n",
    "#     ]\n",
    "# }"
   ]
  },
  {
   "cell_type": "code",
   "execution_count": null,
   "metadata": {},
   "outputs": [],
   "source": [
    "# result_df = pd.DataFrame(scores_data)\n",
    "# result_df"
   ]
  },
  {
   "cell_type": "markdown",
   "metadata": {},
   "source": [
    "## Linear Search"
   ]
  },
  {
   "cell_type": "code",
   "execution_count": 8,
   "metadata": {},
   "outputs": [
    {
     "name": "stdout",
     "output_type": "stream",
     "text": [
      "Dataset loaded successfully\n",
      "Example dataset item: {'article': 'LONDON, England (Reuters) -- Harry Potter star Daniel Radcliffe gains access to a reported £20 million ($41.1 million) fortune as he turns 18 on Monday, but he insists the money won\\'t cast a spell on him. Daniel Radcliffe as Harry Potter in \"Harry Potter and the Order of the Phoenix\" To the disappointment of gossip columnists around the world, the young actor says he has no plans to fritter his cash away on fast cars, drink and celebrity parties. \"I don\\'t plan to be one of those people who, as soon as they turn 18, suddenly buy themselves a massive sports car collection or something similar,\" he told an Australian interviewer earlier this month. \"I don\\'t think I\\'ll be particularly extravagant. \"The things I like buying are things that cost about 10 pounds -- books and CDs and DVDs.\" At 18, Radcliffe will be able to gamble in a casino, buy a drink in a pub or see the horror film \"Hostel: Part II,\" currently six places below his number one movie on the UK box office chart. Details of how he\\'ll mark his landmark birthday are under wraps. His agent and publicist had no comment on his plans. \"I\\'ll definitely have some sort of party,\" he said in an interview. \"Hopefully none of you will be reading about it.\" Radcliffe\\'s earnings from the first five Potter films have been held in a trust fund which he has not been able to touch. Despite his growing fame and riches, the actor says he is keeping his feet firmly on the ground. \"People are always looking to say \\'kid star goes off the rails,\\'\" he told reporters last month. \"But I try very hard not to go that way because it would be too easy for them.\" His latest outing as the boy wizard in \"Harry Potter and the Order of the Phoenix\" is breaking records on both sides of the Atlantic and he will reprise the role in the last two films.  Watch I-Reporter give her review of Potter\\'s latest » . There is life beyond Potter, however. The Londoner has filmed a TV movie called \"My Boy Jack,\" about author Rudyard Kipling and his son, due for release later this year. He will also appear in \"December Boys,\" an Australian film about four boys who escape an orphanage. Earlier this year, he made his stage debut playing a tortured teenager in Peter Shaffer\\'s \"Equus.\" Meanwhile, he is braced for even closer media scrutiny now that he\\'s legally an adult: \"I just think I\\'m going to be more sort of fair game,\" he told Reuters. E-mail to a friend . Copyright 2007 Reuters. All rights reserved.This material may not be published, broadcast, rewritten, or redistributed.', 'highlights': \"Harry Potter star Daniel Radcliffe gets £20M fortune as he turns 18 Monday .\\nYoung actor says he has no plans to fritter his cash away .\\nRadcliffe's earnings from first five Potter films have been held in trust fund .\", 'id': '42c027e4ff9730fbb3de84c1af0d2c506e41c3e4'}\n"
     ]
    }
   ],
   "source": [
    "dataset = load_cnn_dataset(num_samples=500)\n",
    "#dataset = load_cnn_dataset()\n",
    "dataset = pd.DataFrame(dataset)"
   ]
  },
  {
   "cell_type": "code",
   "execution_count": 9,
   "metadata": {},
   "outputs": [
    {
     "data": {
      "text/html": [
       "<div>\n",
       "<style scoped>\n",
       "    .dataframe tbody tr th:only-of-type {\n",
       "        vertical-align: middle;\n",
       "    }\n",
       "\n",
       "    .dataframe tbody tr th {\n",
       "        vertical-align: top;\n",
       "    }\n",
       "\n",
       "    .dataframe thead th {\n",
       "        text-align: right;\n",
       "    }\n",
       "</style>\n",
       "<table border=\"1\" class=\"dataframe\">\n",
       "  <thead>\n",
       "    <tr style=\"text-align: right;\">\n",
       "      <th></th>\n",
       "      <th>article</th>\n",
       "      <th>highlights</th>\n",
       "      <th>id</th>\n",
       "    </tr>\n",
       "  </thead>\n",
       "  <tbody>\n",
       "    <tr>\n",
       "      <th>0</th>\n",
       "      <td>LONDON, England (Reuters) -- Harry Potter star Daniel Radcliffe gains access to a reported £20 million ($41.1 million) fortune as he turns 18 on Monday, but he insists the money won't cast a spell...</td>\n",
       "      <td>Harry Potter star Daniel Radcliffe gets £20M fortune as he turns 18 Monday .\\nYoung actor says he has no plans to fritter his cash away .\\nRadcliffe's earnings from first five Potter films have be...</td>\n",
       "      <td>42c027e4ff9730fbb3de84c1af0d2c506e41c3e4</td>\n",
       "    </tr>\n",
       "    <tr>\n",
       "      <th>1</th>\n",
       "      <td>Editor's note: In our Behind the Scenes series, CNN correspondents share their experiences in covering news and analyze the stories behind the events. Here, Soledad O'Brien takes users inside a ja...</td>\n",
       "      <td>Mentally ill inmates in Miami are housed on the \"forgotten floor\"\\nJudge Steven Leifman says most are there as a result of \"avoidable felonies\"\\nWhile CNN tours facility, patient shouts: \"I am the...</td>\n",
       "      <td>ee8871b15c50d0db17b0179a6d2beab35065f1e9</td>\n",
       "    </tr>\n",
       "    <tr>\n",
       "      <th>2</th>\n",
       "      <td>MINNEAPOLIS, Minnesota (CNN) -- Drivers who were on the Minneapolis bridge when it collapsed told harrowing tales of survival. \"The whole bridge from one side of the Mississippi to the other just ...</td>\n",
       "      <td>NEW: \"I thought I was going to die,\" driver says .\\nMan says pickup truck was folded in half; he just has cut on face .\\nDriver: \"I probably had a 30-, 35-foot free fall\"\\nMinnesota bridge collaps...</td>\n",
       "      <td>06352019a19ae31e527f37f7571c6dd7f0c5da37</td>\n",
       "    </tr>\n",
       "    <tr>\n",
       "      <th>3</th>\n",
       "      <td>WASHINGTON (CNN) -- Doctors removed five small polyps from President Bush's colon on Saturday, and \"none appeared worrisome,\" a White House spokesman said. The polyps were removed and sent to the ...</td>\n",
       "      <td>Five small polyps found during procedure; \"none worrisome,\" spokesman says .\\nPresident reclaims powers transferred to vice president .\\nBush undergoes routine colonoscopy at Camp David .</td>\n",
       "      <td>24521a2abb2e1f5e34e6824e0f9e56904a2b0e88</td>\n",
       "    </tr>\n",
       "    <tr>\n",
       "      <th>4</th>\n",
       "      <td>(CNN)  -- The National Football League has indefinitely suspended Atlanta Falcons quarterback Michael Vick without pay, officials with the league said Friday. NFL star Michael Vick is set to appea...</td>\n",
       "      <td>NEW: NFL chief, Atlanta Falcons owner critical of Michael Vick's conduct .\\nNFL suspends Falcons quarterback indefinitely without pay .\\nVick admits funding dogfighting operation but says he did n...</td>\n",
       "      <td>7fe70cc8b12fab2d0a258fababf7d9c6b5e1262a</td>\n",
       "    </tr>\n",
       "  </tbody>\n",
       "</table>\n",
       "</div>"
      ],
      "text/plain": [
       "                                                                                                                                                                                                   article  \\\n",
       "0  LONDON, England (Reuters) -- Harry Potter star Daniel Radcliffe gains access to a reported £20 million ($41.1 million) fortune as he turns 18 on Monday, but he insists the money won't cast a spell...   \n",
       "1  Editor's note: In our Behind the Scenes series, CNN correspondents share their experiences in covering news and analyze the stories behind the events. Here, Soledad O'Brien takes users inside a ja...   \n",
       "2  MINNEAPOLIS, Minnesota (CNN) -- Drivers who were on the Minneapolis bridge when it collapsed told harrowing tales of survival. \"The whole bridge from one side of the Mississippi to the other just ...   \n",
       "3  WASHINGTON (CNN) -- Doctors removed five small polyps from President Bush's colon on Saturday, and \"none appeared worrisome,\" a White House spokesman said. The polyps were removed and sent to the ...   \n",
       "4  (CNN)  -- The National Football League has indefinitely suspended Atlanta Falcons quarterback Michael Vick without pay, officials with the league said Friday. NFL star Michael Vick is set to appea...   \n",
       "\n",
       "                                                                                                                                                                                                highlights  \\\n",
       "0  Harry Potter star Daniel Radcliffe gets £20M fortune as he turns 18 Monday .\\nYoung actor says he has no plans to fritter his cash away .\\nRadcliffe's earnings from first five Potter films have be...   \n",
       "1  Mentally ill inmates in Miami are housed on the \"forgotten floor\"\\nJudge Steven Leifman says most are there as a result of \"avoidable felonies\"\\nWhile CNN tours facility, patient shouts: \"I am the...   \n",
       "2  NEW: \"I thought I was going to die,\" driver says .\\nMan says pickup truck was folded in half; he just has cut on face .\\nDriver: \"I probably had a 30-, 35-foot free fall\"\\nMinnesota bridge collaps...   \n",
       "3              Five small polyps found during procedure; \"none worrisome,\" spokesman says .\\nPresident reclaims powers transferred to vice president .\\nBush undergoes routine colonoscopy at Camp David .   \n",
       "4  NEW: NFL chief, Atlanta Falcons owner critical of Michael Vick's conduct .\\nNFL suspends Falcons quarterback indefinitely without pay .\\nVick admits funding dogfighting operation but says he did n...   \n",
       "\n",
       "                                         id  \n",
       "0  42c027e4ff9730fbb3de84c1af0d2c506e41c3e4  \n",
       "1  ee8871b15c50d0db17b0179a6d2beab35065f1e9  \n",
       "2  06352019a19ae31e527f37f7571c6dd7f0c5da37  \n",
       "3  24521a2abb2e1f5e34e6824e0f9e56904a2b0e88  \n",
       "4  7fe70cc8b12fab2d0a258fababf7d9c6b5e1262a  "
      ]
     },
     "execution_count": 9,
     "metadata": {},
     "output_type": "execute_result"
    }
   ],
   "source": [
    "dataset.head(5)"
   ]
  },
  {
   "cell_type": "code",
   "execution_count": 10,
   "metadata": {},
   "outputs": [
    {
     "name": "stdout",
     "output_type": "stream",
     "text": [
      "500\n"
     ]
    }
   ],
   "source": [
    "print(dataset.shape[0])"
   ]
  },
  {
   "cell_type": "code",
   "execution_count": null,
   "metadata": {},
   "outputs": [],
   "source": [
    "#linear_results = linear_attribution_search(dataset, fo_model, fo_tokenizer, ba_model, ba_tokenizer) # 50 - 59.4s\n",
    "linear_results = linear_attribution_search(dataset, fo_model, fo_tokenizer, ba_model, ba_tokenizer, sentence_batch_size=500) # 52.4s, 2m30.9s, 6h18m49s"
   ]
  },
  {
   "cell_type": "code",
   "execution_count": null,
   "metadata": {},
   "outputs": [],
   "source": [
    "#binary_results = binary_search_attribution_search(dataset, fo_model, fo_tokenizer, ba_model, ba_tokenizer) # 50 - 25.7s\n",
    "binary_results = binary_search_attribution_search(dataset, fo_model, fo_tokenizer, ba_model, ba_tokenizer, max_iterations=30, sentence_batch_size=1000) # 35.7s, 7m 47.6s, 5m 15.6s, 5m0.8s"
   ]
  },
  {
   "cell_type": "code",
   "execution_count": null,
   "metadata": {},
   "outputs": [],
   "source": [
    "t.cuda.empty_cache()"
   ]
  },
  {
   "cell_type": "code",
   "execution_count": 11,
   "metadata": {},
   "outputs": [
    {
     "name": "stderr",
     "output_type": "stream",
     "text": [
      "  0%|                                                                                                  | 0/500 [00:00<?, ?it/s]/ocean/projects/cis250068p/jhwang4/idl-project/src/utils_batch_v2.py:245: FutureWarning: `torch.cuda.amp.autocast(args...)` is deprecated. Please use `torch.amp.autocast('cuda', args...)` instead.\n",
      "  with t.no_grad(), autocast():\n",
      "W0424 07:56:07.916000 93137 torch/_logging/_internal.py:1081] [0/0] Profiler function <class 'torch.autograd.profiler.record_function'> will be ignored\n",
      "/ocean/projects/cis250068p/jhwang4/idl-project/src/utils_batch_v2.py:245: FutureWarning: `torch.cuda.amp.autocast(args...)` is deprecated. Please use `torch.amp.autocast('cuda', args...)` instead.\n",
      "  with t.no_grad(), autocast():\n",
      "/jet/home/jhwang4/.local/lib/python3.10/site-packages/torch/_inductor/compile_fx.py:167: UserWarning: TensorFloat32 tensor cores for float32 matrix multiplication available but not enabled. Consider setting `torch.set_float32_matmul_precision('high')` for better performance.\n",
      "  warnings.warn(\n",
      "/ocean/projects/cis250068p/jhwang4/idl-project/src/utils_batch_v2.py:245: FutureWarning: `torch.cuda.amp.autocast(args...)` is deprecated. Please use `torch.amp.autocast('cuda', args...)` instead.\n",
      "  with t.no_grad(), autocast():\n",
      "/ocean/projects/cis250068p/jhwang4/idl-project/src/utils_batch_v2.py:245: FutureWarning: `torch.cuda.amp.autocast(args...)` is deprecated. Please use `torch.amp.autocast('cuda', args...)` instead.\n",
      "  with t.no_grad(), autocast():\n",
      "  0%|▏                                                                                       | 1/500 [00:29<4:07:57, 29.81s/it]/ocean/projects/cis250068p/jhwang4/idl-project/src/utils_batch_v2.py:245: FutureWarning: `torch.cuda.amp.autocast(args...)` is deprecated. Please use `torch.amp.autocast('cuda', args...)` instead.\n",
      "  with t.no_grad(), autocast():\n",
      "/ocean/projects/cis250068p/jhwang4/idl-project/src/utils_batch_v2.py:245: FutureWarning: `torch.cuda.amp.autocast(args...)` is deprecated. Please use `torch.amp.autocast('cuda', args...)` instead.\n",
      "  with t.no_grad(), autocast():\n",
      "  0%|▎                                                                                       | 2/500 [00:44<2:53:09, 20.86s/it]/ocean/projects/cis250068p/jhwang4/idl-project/src/utils_batch_v2.py:245: FutureWarning: `torch.cuda.amp.autocast(args...)` is deprecated. Please use `torch.amp.autocast('cuda', args...)` instead.\n",
      "  with t.no_grad(), autocast():\n",
      "  6%|█████▎                                                                                   | 30/500 [02:04<32:25,  4.14s/it]\n"
     ]
    },
    {
     "ename": "KeyboardInterrupt",
     "evalue": "",
     "output_type": "error",
     "traceback": [
      "\u001b[0;31m---------------------------------------------------------------------------\u001b[0m",
      "\u001b[0;31mKeyboardInterrupt\u001b[0m                         Traceback (most recent call last)",
      "Cell \u001b[0;32mIn[11], line 2\u001b[0m\n\u001b[1;32m      1\u001b[0m \u001b[38;5;66;03m#exclusion_results = exclusion_search_attribution_search(dataset, fo_model, fo_tokenizer, ba_model, ba_tokenizer) # 50 - 4m54.5s\u001b[39;00m\n\u001b[0;32m----> 2\u001b[0m exclusion_results \u001b[38;5;241m=\u001b[39m \u001b[43mexclusion_search_attribution_search\u001b[49m\u001b[43m(\u001b[49m\u001b[43mdataset\u001b[49m\u001b[43m,\u001b[49m\u001b[43m \u001b[49m\u001b[43mfo_model\u001b[49m\u001b[43m,\u001b[49m\u001b[43m \u001b[49m\u001b[43mfo_tokenizer\u001b[49m\u001b[43m,\u001b[49m\u001b[43m \u001b[49m\u001b[43mba_model\u001b[49m\u001b[43m,\u001b[49m\u001b[43m \u001b[49m\u001b[43mba_tokenizer\u001b[49m\u001b[43m,\u001b[49m\u001b[43m \u001b[49m\u001b[43msentence_batch_size\u001b[49m\u001b[38;5;241;43m=\u001b[39;49m\u001b[38;5;241;43m256\u001b[39;49m\u001b[43m)\u001b[49m\n",
      "File \u001b[0;32m/ocean/projects/cis250068p/jhwang4/idl-project/src/search_batch_v2.py:313\u001b[0m, in \u001b[0;36mexclusion_search_attribution_search\u001b[0;34m(dataset, fo_model, fo_tokenizer, ba_model, ba_tokenizer, sentence_batch_size)\u001b[0m\n\u001b[1;32m    310\u001b[0m highlight \u001b[38;5;241m=\u001b[39m highlights[\u001b[38;5;241m0\u001b[39m]\n\u001b[1;32m    311\u001b[0m article   \u001b[38;5;241m=\u001b[39m example[\u001b[38;5;124m'\u001b[39m\u001b[38;5;124marticle\u001b[39m\u001b[38;5;124m'\u001b[39m]\n\u001b[0;32m--> 313\u001b[0m base \u001b[38;5;241m=\u001b[39m \u001b[43mexclusion_search_citation\u001b[49m\u001b[43m(\u001b[49m\n\u001b[1;32m    314\u001b[0m \u001b[43m    \u001b[49m\u001b[43mhighlight\u001b[49m\u001b[43m,\u001b[49m\u001b[43m \u001b[49m\u001b[43marticle\u001b[49m\u001b[43m,\u001b[49m\u001b[43m \u001b[49m\u001b[43mfo_model\u001b[49m\u001b[43m,\u001b[49m\u001b[43m \u001b[49m\u001b[43mfo_tokenizer\u001b[49m\u001b[43m,\u001b[49m\n\u001b[1;32m    315\u001b[0m \u001b[43m    \u001b[49m\u001b[43mbackward\u001b[49m\u001b[38;5;241;43m=\u001b[39;49m\u001b[38;5;28;43;01mFalse\u001b[39;49;00m\u001b[43m,\u001b[49m\u001b[43m \u001b[49m\u001b[43mquery_direction\u001b[49m\u001b[38;5;241;43m=\u001b[39;49m\u001b[38;5;124;43m\"\u001b[39;49m\u001b[38;5;124;43mnormal\u001b[39;49m\u001b[38;5;124;43m\"\u001b[39;49m\u001b[43m,\u001b[49m\n\u001b[1;32m    316\u001b[0m \u001b[43m    \u001b[49m\u001b[43msentence_batch_size\u001b[49m\u001b[38;5;241;43m=\u001b[39;49m\u001b[43msentence_batch_size\u001b[49m\n\u001b[1;32m    317\u001b[0m \u001b[43m\u001b[49m\u001b[43m)\u001b[49m\n\u001b[1;32m    318\u001b[0m fo  \u001b[38;5;241m=\u001b[39m exclusion_search_citation(\n\u001b[1;32m    319\u001b[0m     highlight, article, fo_model, fo_tokenizer,\n\u001b[1;32m    320\u001b[0m     backward\u001b[38;5;241m=\u001b[39m\u001b[38;5;28;01mFalse\u001b[39;00m, query_direction\u001b[38;5;241m=\u001b[39m\u001b[38;5;124m\"\u001b[39m\u001b[38;5;124mreverse\u001b[39m\u001b[38;5;124m\"\u001b[39m,\n\u001b[1;32m    321\u001b[0m     sentence_batch_size\u001b[38;5;241m=\u001b[39msentence_batch_size\n\u001b[1;32m    322\u001b[0m )\n\u001b[1;32m    323\u001b[0m ba  \u001b[38;5;241m=\u001b[39m exclusion_search_citation(\n\u001b[1;32m    324\u001b[0m     highlight, article, ba_model, ba_tokenizer,\n\u001b[1;32m    325\u001b[0m     backward\u001b[38;5;241m=\u001b[39m\u001b[38;5;28;01mTrue\u001b[39;00m,  query_direction\u001b[38;5;241m=\u001b[39m\u001b[38;5;124m\"\u001b[39m\u001b[38;5;124mreverse\u001b[39m\u001b[38;5;124m\"\u001b[39m,\n\u001b[1;32m    326\u001b[0m     sentence_batch_size\u001b[38;5;241m=\u001b[39msentence_batch_size\n\u001b[1;32m    327\u001b[0m )\n",
      "File \u001b[0;32m/ocean/projects/cis250068p/jhwang4/idl-project/src/search_batch_v2.py:275\u001b[0m, in \u001b[0;36mexclusion_search_citation\u001b[0;34m(highlight, article, model, tokenizer, backward, query_direction, sentence_batch_size)\u001b[0m\n\u001b[1;32m    273\u001b[0m     idxs\u001b[38;5;241m.\u001b[39mappend(j)\n\u001b[1;32m    274\u001b[0m \u001b[38;5;66;03m# Score batch\u001b[39;00m\n\u001b[0;32m--> 275\u001b[0m scores, ppls \u001b[38;5;241m=\u001b[39m \u001b[43mcalculate_scores_batch\u001b[49m\u001b[43m(\u001b[49m\u001b[43mbatch_ctxs\u001b[49m\u001b[43m,\u001b[49m\u001b[43m \u001b[49m\u001b[43mbatch_tgts\u001b[49m\u001b[43m,\u001b[49m\u001b[43m \u001b[49m\u001b[43mmodel\u001b[49m\u001b[43m,\u001b[49m\u001b[43m \u001b[49m\u001b[43mtokenizer\u001b[49m\u001b[43m,\u001b[49m\u001b[43m \u001b[49m\u001b[43mbackward\u001b[49m\u001b[38;5;241;43m=\u001b[39;49m\u001b[43mbackward\u001b[49m\u001b[43m)\u001b[49m\n\u001b[1;32m    276\u001b[0m \u001b[38;5;28;01mfor\u001b[39;00m j, s, p \u001b[38;5;129;01min\u001b[39;00m \u001b[38;5;28mzip\u001b[39m(idxs, scores, ppls):\n\u001b[1;32m    277\u001b[0m     all_scores\u001b[38;5;241m.\u001b[39mappend((s, j))\n",
      "File \u001b[0;32m/ocean/projects/cis250068p/jhwang4/idl-project/src/utils_batch_v2.py:269\u001b[0m, in \u001b[0;36mcalculate_scores_batch\u001b[0;34m(contexts, targets, model, tokenizer, backward)\u001b[0m\n\u001b[1;32m    267\u001b[0m next_id \u001b[38;5;241m=\u001b[39m input_ids[i, pos \u001b[38;5;241m+\u001b[39m \u001b[38;5;241m1\u001b[39m]\u001b[38;5;241m.\u001b[39mitem()      \u001b[38;5;66;03m# true token ID\u001b[39;00m\n\u001b[1;32m    268\u001b[0m \u001b[38;5;66;03m# normalization constant: log-sum-exp over vocab\u001b[39;00m\n\u001b[0;32m--> 269\u001b[0m lse \u001b[38;5;241m=\u001b[39m \u001b[43mt\u001b[49m\u001b[38;5;241;43m.\u001b[39;49m\u001b[43mlogsumexp\u001b[49m\u001b[43m(\u001b[49m\u001b[43mnext_logits\u001b[49m\u001b[43m,\u001b[49m\u001b[43m \u001b[49m\u001b[43mdim\u001b[49m\u001b[38;5;241;43m=\u001b[39;49m\u001b[38;5;241;43m-\u001b[39;49m\u001b[38;5;241;43m1\u001b[39;49m\u001b[43m)\u001b[49m\n\u001b[1;32m    270\u001b[0m \u001b[38;5;66;03m# log-prob of the true token = logit - lse\u001b[39;00m\n\u001b[1;32m    271\u001b[0m logp \u001b[38;5;241m=\u001b[39m (next_logits[next_id] \u001b[38;5;241m-\u001b[39m lse)\u001b[38;5;241m.\u001b[39mitem()\n",
      "\u001b[0;31mKeyboardInterrupt\u001b[0m: "
     ]
    }
   ],
   "source": [
    "#exclusion_results = exclusion_search_attribution_search(dataset, fo_model, fo_tokenizer, ba_model, ba_tokenizer) # 50 - 4m54.5s\n",
    "exclusion_results = exclusion_search_attribution_search(dataset, fo_model, fo_tokenizer, ba_model, ba_tokenizer, sentence_batch_size=256) # 3m30.4s, 21m"
   ]
  },
  {
   "cell_type": "code",
   "execution_count": null,
   "metadata": {},
   "outputs": [],
   "source": [
    "# def calculate_embedding_similarity(highlight, citation):\n",
    "#     \"\"\"Calculate cosine similarity between sentence embeddings.\"\"\"\n",
    "#     model = SentenceTransformer('all-MiniLM-L6-v2')\n",
    "    \n",
    "#     # Generate embeddings\n",
    "#     highlight_embedding = model.encode([highlight])[0]\n",
    "#     citation_embedding = model.encode([citation])[0]\n",
    "    \n",
    "#     # Calculate cosine similarity (1 - cosine distance)\n",
    "#     similarity = 1 - cosine(highlight_embedding, citation_embedding)\n",
    "#     return similarity\n",
    "\n",
    "# def calculate_rouge_score(highlight, citation):\n",
    "#     \"\"\"Calculate ROUGE-L F-measure score.\"\"\"\n",
    "#     scorer = rouge_scorer.RougeScorer(['rougeL'], use_stemmer=True)\n",
    "#     scores = scorer.score(highlight, citation)\n",
    "#     return scores['rougeL'].fmeasure\n",
    "\n",
    "# def calculate_tfidf_score(highlight, citation):\n",
    "#     \"\"\"Calculate TF-IDF similarity score.\"\"\"\n",
    "#     vectorizer = TfidfVectorizer()\n",
    "#     tfidf_matrix = vectorizer.fit_transform([highlight, citation])\n",
    "    \n",
    "#     # Convert sparse matrix to dense array for cosine similarity calculation\n",
    "#     dense_matrix = tfidf_matrix.toarray()\n",
    "    \n",
    "#     # Calculate cosine similarity\n",
    "#     similarity = 1 - cosine(dense_matrix[0], dense_matrix[1])\n",
    "#     return similarity\n",
    "\n",
    "# def process_data(data):\n",
    "#     \"\"\"Process the data and reformat to show scores by citation type in columns.\"\"\"\n",
    "#     results = []\n",
    "    \n",
    "#     for item in data:\n",
    "#         highlight = item['highlight']\n",
    "#         result_entry = {'id': item['id'], 'highlight': highlight}\n",
    "        \n",
    "#         # Process each citation type\n",
    "#         for citation_type in ['base_citation', 'ba_citation', 'fo_citation']:\n",
    "#             prefix = citation_type.split('_')[0]  # Extract 'base', 'ba', or 'fo'\n",
    "            \n",
    "#             if citation_type in item and item[citation_type]:\n",
    "#                 citation = item[citation_type]\n",
    "                \n",
    "#                 # Calculate scores\n",
    "#                 emb_similarity = calculate_embedding_similarity(highlight, citation)\n",
    "#                 rouge_score = calculate_rouge_score(highlight, citation)\n",
    "#                 tfidf_score = calculate_tfidf_score(highlight, citation)\n",
    "                \n",
    "#                 # Add scores as columns with prefix\n",
    "#                 result_entry[f'{prefix}_emb_similarity'] = emb_similarity\n",
    "#                 result_entry[f'{prefix}_rouge_score'] = rouge_score\n",
    "#                 result_entry[f'{prefix}_tfidf_score'] = tfidf_score\n",
    "                \n",
    "#             else:\n",
    "#                 # Set default values if citation doesn't exist\n",
    "#                 result_entry[f'{prefix}_emb_similarity'] = None\n",
    "#                 result_entry[f'{prefix}_rouge_score'] = None\n",
    "#                 result_entry[f'{prefix}_tfidf_score'] = None\n",
    "                \n",
    "#         results.append(result_entry)\n",
    "    \n",
    "#     return results\n",
    "\n",
    "# # Process the data\n",
    "# linear_final_results = process_data(linear_results)\n",
    "# binary_final_results = process_data(binary_results)\n",
    "# #exclusion_final_results = process_data(exclusion_results)\n"
   ]
  },
  {
   "cell_type": "code",
   "execution_count": null,
   "metadata": {},
   "outputs": [],
   "source": [
    "EMB_MODEL    = SentenceTransformer('all-MiniLM-L6-v2')\n",
    "ROUGE_SCORER = rouge_scorer.RougeScorer(['rougeL'], use_stemmer=True)\n",
    "TFIDF_VEC    = TfidfVectorizer(\n",
    "    token_pattern=r\"(?u)\\b\\w+\\b\",  \n",
    "    stop_words=None               \n",
    ")\n",
    "\n",
    "def calculate_embedding_similarity(highlight, citation):\n",
    "    he = EMB_MODEL.encode([highlight])[0]\n",
    "    ce = EMB_MODEL.encode([citation])[0]\n",
    "    return 1 - cosine(he, ce)\n",
    "\n",
    "def calculate_rouge_score(highlight, citation):\n",
    "    return ROUGE_SCORER.score(highlight, citation)['rougeL'].fmeasure\n",
    "\n",
    "def calculate_tfidf_score(highlight, citation):\n",
    "    try:\n",
    "        mat = TFIDF_VEC.fit_transform([highlight, citation]).toarray()\n",
    "        return 1 - cosine(mat[0], mat[1])\n",
    "    except ValueError:\n",
    "        return 0.0\n",
    "\n",
    "def process_data(data):\n",
    "    results = []\n",
    "    for item in data:\n",
    "        hl = item['highlight']\n",
    "        rec = {'id': item['id'], 'highlight': hl}\n",
    "        for citation_type in ['base_citation','fo_citation','ba_citation']:\n",
    "            prefix = citation_type.split('_')[0]\n",
    "            cit = item.get(citation_type, None)\n",
    "            if cit:\n",
    "                rec[f'{prefix}_emb_similarity'] = calculate_embedding_similarity(hl, cit)\n",
    "                rec[f'{prefix}_rouge_score']     = calculate_rouge_score(hl, cit)\n",
    "                rec[f'{prefix}_tfidf_score']     = calculate_tfidf_score(hl, cit)\n",
    "            else:\n",
    "                rec[f'{prefix}_emb_similarity'] = None\n",
    "                rec[f'{prefix}_rouge_score']     = None\n",
    "                rec[f'{prefix}_tfidf_score']     = None\n",
    "        results.append(rec)\n",
    "    return results\n",
    "\n",
    "#linear_final_results    = process_data(linear_results)\n",
    "#binary_final_results    = process_data(binary_results)\n",
    "exclusion_final_results = process_data(exclusion_results)"
   ]
  },
  {
   "cell_type": "code",
   "execution_count": null,
   "metadata": {},
   "outputs": [],
   "source": [
    "r = pd.DataFrame(linear_final_results) \n",
    "r.drop(['id', 'highlight'], axis=1).mean()\n",
    "r.to_csv(\"/ocean/projects/cis250068p/jhwang4/idl-project/notebooks/linear_result_500.csv\", index=True)"
   ]
  },
  {
   "cell_type": "code",
   "execution_count": null,
   "metadata": {},
   "outputs": [],
   "source": [
    "r = pd.DataFrame(binary_final_results) \n",
    "r.drop(['id', 'highlight'], axis=1).mean()\n",
    "#r.to_csv(\"binary_500_results.csv\", index=True)"
   ]
  },
  {
   "cell_type": "code",
   "execution_count": null,
   "metadata": {},
   "outputs": [],
   "source": [
    "r = pd.DataFrame(exclusion_final_results) \n",
    "r.drop(['id', 'highlight'], axis=1).mean()"
   ]
  },
  {
   "cell_type": "code",
   "execution_count": null,
   "metadata": {},
   "outputs": [],
   "source": [
    "df_linear = pd.DataFrame(linear_final_results)\n",
    "df_binary = pd.DataFrame(binary_final_results)\n",
    "df_exclusion = pd.DataFrame(exclusion_final_results)\n",
    "\n",
    "df_merged = pd.merge(df_linear, df_binary, on=['id', 'highlight'],suffixes=('_linear', '_binary'))\n",
    "\n",
    "df_exclusion = df_exclusion.add_suffix('_exclusion')\n",
    "df_exclusion = df_exclusion.rename(columns={'id_exclusion': 'id', 'highlight_exclusion': 'highlight'})\n",
    "\n",
    "df_merged = pd.merge(df_merged, df_exclusion, on=['id', 'highlight'])\n",
    "\n",
    "mean_series = df_merged.drop(['id', 'highlight'], axis=1).mean()\n",
    "\n",
    "data = {\n",
    "    'Base_linear': [\n",
    "        mean_series['base_emb_similarity_linear'],\n",
    "        mean_series['base_rouge_score_linear'],\n",
    "        mean_series['base_tfidf_score_linear']\n",
    "    ],\n",
    "    'Fo_linear': [\n",
    "        mean_series['fo_emb_similarity_linear'],\n",
    "        mean_series['fo_rouge_score_linear'],\n",
    "        mean_series['fo_tfidf_score_linear']\n",
    "    ],\n",
    "    'Ba_linear': [\n",
    "        mean_series['ba_emb_similarity_linear'],\n",
    "        mean_series['ba_rouge_score_linear'],\n",
    "        mean_series['ba_tfidf_score_linear']\n",
    "    ],\n",
    "    'Base_binary': [\n",
    "        mean_series['base_emb_similarity_binary'],\n",
    "        mean_series['base_rouge_score_binary'],\n",
    "        mean_series['base_tfidf_score_binary']\n",
    "    ],\n",
    "    'Fo_binary': [\n",
    "        mean_series['fo_emb_similarity_binary'],\n",
    "        mean_series['fo_rouge_score_binary'],\n",
    "        mean_series['fo_tfidf_score_binary']\n",
    "    ],\n",
    "    'Ba_binary': [\n",
    "        mean_series['ba_emb_similarity_binary'],\n",
    "        mean_series['ba_rouge_score_binary'],\n",
    "        mean_series['ba_tfidf_score_binary']\n",
    "    ],\n",
    "    'Base_exclusion': [\n",
    "        mean_series['base_emb_similarity_exclusion'],\n",
    "        mean_series['base_rouge_score_exclusion'],\n",
    "        mean_series['base_tfidf_score_exclusion']\n",
    "    ],\n",
    "    'Fo_exclusion': [\n",
    "        mean_series['fo_emb_similarity_exclusion'],\n",
    "        mean_series['fo_rouge_score_exclusion'],\n",
    "        mean_series['fo_tfidf_score_exclusion']\n",
    "    ],\n",
    "    'Ba_exclusion': [\n",
    "        mean_series['ba_emb_similarity_exclusion'],\n",
    "        mean_series['ba_rouge_score_exclusion'],\n",
    "        mean_series['ba_tfidf_score_exclusion']\n",
    "    ],\n",
    "}\n",
    "\n",
    "table_df = pd.DataFrame(data, index=['Embedding', 'Rouge', 'Tfidf'])\n",
    "table_df"
   ]
  },
  {
   "cell_type": "code",
   "execution_count": null,
   "metadata": {},
   "outputs": [],
   "source": [
    "df_linear = pd.DataFrame(linear_final_results)\n",
    "mean_series = df_linear.drop(['id', 'highlight'], axis=1).mean()\n",
    "\n",
    "data = {\n",
    "    'Base_linear': [\n",
    "        mean_series['base_emb_similarity'],\n",
    "        mean_series['base_rouge_score'],\n",
    "        mean_series['base_tfidf_score']\n",
    "    ],\n",
    "    'Fo_linear': [\n",
    "        mean_series['fo_emb_similarity'],\n",
    "        mean_series['fo_rouge_score'],\n",
    "        mean_series['fo_tfidf_score']\n",
    "    ],\n",
    "    'Ba_linear': [\n",
    "        mean_series['ba_emb_similarity'],\n",
    "        mean_series['ba_rouge_score'],\n",
    "        mean_series['ba_tfidf_score']\n",
    "    ]\n",
    "}\n",
    "\n",
    "table_df = pd.DataFrame(data, index=['Embedding', 'Rouge', 'Tfidf'])\n",
    "table_df.to_csv(\"/ocean/projects/cis250068p/jhwang4/idl-project/notebooks/linear_result.csv\", index=True)"
   ]
  },
  {
   "cell_type": "code",
   "execution_count": null,
   "metadata": {},
   "outputs": [],
   "source": [
    "table_df"
   ]
  },
  {
   "cell_type": "code",
   "execution_count": null,
   "metadata": {},
   "outputs": [],
   "source": [
    "table_df.to_csv(\"/ocean/projects/cis250068p/jhwang4/idl-project/notebooks/linear_result.csv\", index=True)"
   ]
  },
  {
   "cell_type": "code",
   "execution_count": null,
   "metadata": {},
   "outputs": [],
   "source": []
  },
  {
   "cell_type": "code",
   "execution_count": null,
   "metadata": {},
   "outputs": [],
   "source": []
  },
  {
   "cell_type": "code",
   "execution_count": null,
   "metadata": {},
   "outputs": [],
   "source": []
  },
  {
   "cell_type": "code",
   "execution_count": null,
   "metadata": {},
   "outputs": [],
   "source": []
  },
  {
   "cell_type": "code",
   "execution_count": null,
   "metadata": {},
   "outputs": [],
   "source": []
  },
  {
   "cell_type": "code",
   "execution_count": null,
   "metadata": {},
   "outputs": [],
   "source": []
  },
  {
   "cell_type": "code",
   "execution_count": null,
   "metadata": {},
   "outputs": [],
   "source": []
  },
  {
   "cell_type": "code",
   "execution_count": null,
   "metadata": {},
   "outputs": [],
   "source": []
  }
 ],
 "metadata": {
  "kernelspec": {
   "display_name": "Python 3 (ipykernel)",
   "language": "python",
   "name": "python3"
  },
  "language_info": {
   "codemirror_mode": {
    "name": "ipython",
    "version": 3
   },
   "file_extension": ".py",
   "mimetype": "text/x-python",
   "name": "python",
   "nbconvert_exporter": "python",
   "pygments_lexer": "ipython3",
   "version": "3.10.9"
  }
 },
 "nbformat": 4,
 "nbformat_minor": 2
}
