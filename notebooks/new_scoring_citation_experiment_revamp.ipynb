{
 "cells": [
  {
   "cell_type": "markdown",
   "metadata": {},
   "source": [
    "# Scoring and Citations Testbed\n",
    "---"
   ]
  },
  {
   "cell_type": "markdown",
   "metadata": {},
   "source": []
  },
  {
   "cell_type": "markdown",
   "metadata": {},
   "source": [
    "## Import Libraries"
   ]
  },
  {
   "cell_type": "code",
   "execution_count": null,
   "metadata": {},
   "outputs": [],
   "source": [
    "import sys \n",
    "import os \n",
    "sys.path.append(os.path.abspath(os.path.join(os.getcwd(), '..')))\n",
    "sys.path.append('/ocean/projects/cis250068p/jhwang4/idl-project')"
   ]
  },
  {
   "cell_type": "code",
   "execution_count": null,
   "metadata": {},
   "outputs": [],
   "source": [
    "import torch as t\n",
    "import numpy as np\n",
    "import pandas as pd\n",
    "import torch.nn.functional as F\n",
    "from tqdm.auto import tqdm\n",
    "\n",
    "from transformers import GPTNeoXForCausalLM, AutoTokenizer\n",
    "from datasets import load_dataset, Dataset\n",
    "from sentence_transformers import SentenceTransformer, util\n",
    "\n",
    "from sklearn.feature_extraction.text import TfidfVectorizer\n",
    "from sklearn.metrics.pairwise import cosine_similarity\n",
    "\n",
    "import nltk\n",
    "from nltk.translate.bleu_score import sentence_bleu, SmoothingFunction\n",
    "from rouge_score import rouge_scorer\n",
    "from nltk.tokenize import sent_tokenize\n",
    "\n",
    "from sentence_transformers import SentenceTransformer\n",
    "from rouge_score import rouge_scorer\n",
    "from sklearn.feature_extraction.text import TfidfVectorizer\n",
    "import ast\n",
    "import re\n",
    "from scipy.spatial.distance import cosine\n"
   ]
  },
  {
   "cell_type": "code",
   "execution_count": null,
   "metadata": {},
   "outputs": [],
   "source": [
    "from src.model import load_fo_model, load_ba_model, DEVICE\n",
    "from src.data import load_cnn_dataset\n",
    "#from src.utils import *\n",
    "from src.utils_batch_v2 import *\n",
    "#from src.search import *\n",
    "from src.search_batch_v2 import *"
   ]
  },
  {
   "cell_type": "code",
   "execution_count": null,
   "metadata": {},
   "outputs": [],
   "source": [
    "pd.set_option('display.max_colwidth', 200)\n",
    "pd.set_option('display.float_format', '{:.4f}'.format)"
   ]
  },
  {
   "cell_type": "code",
   "execution_count": null,
   "metadata": {},
   "outputs": [],
   "source": [
    "nltk.download(\"punkt_tab\")"
   ]
  },
  {
   "cell_type": "code",
   "execution_count": null,
   "metadata": {},
   "outputs": [],
   "source": [
    "DEVICE"
   ]
  },
  {
   "cell_type": "markdown",
   "metadata": {},
   "source": [
    "## Quick Test"
   ]
  },
  {
   "cell_type": "code",
   "execution_count": null,
   "metadata": {},
   "outputs": [],
   "source": [
    "# Load the models\n",
    "fo_model, fo_tokenizer = load_fo_model()\n",
    "ba_model, ba_tokenizer = load_ba_model()\n",
    "fo_model = fo_model.to(DEVICE)\n",
    "ba_model = ba_model.to(DEVICE)\n",
    "fo_model.half()\n",
    "ba_model.half()\n",
    "if t.cuda.device_count() > 1:\n",
    "    print(t.cuda.device_count())\n",
    "    fo_model = t.nn.DataParallel(fo_model)\n",
    "    ba_model = t.nn.DataParallel(ba_model)\n",
    "\n",
    "# Example Text\n",
    "# article = \"Harry Potter star Daniel Radcliffe gains access to a reported £20 million ($41.1 million) fortune as he turns 18 on Monday, but he insists the money won't cast a spell on him.\"\n",
    "# summary = \"Harry Potter star Daniel Radcliffe gets £20M fortune as he turns 18 Monday\"\n",
    "# adverse_summary = \"Daniel Craig is recasted as James Bond again\""
   ]
  },
  {
   "cell_type": "code",
   "execution_count": null,
   "metadata": {},
   "outputs": [],
   "source": [
    "# debug = True\n",
    "\n",
    "# # In normal, query is sentence/article, and answer is summary/highlight (S->A direction)\n",
    "# base = calculate_score(summary, article, fo_model, fo_tokenizer, backward=False, query_direction=\"normal\", debug=debug)\n",
    "\n",
    "# # In Fo, query is summary/highlight , and answer is sentence/article(A->S direction)\n",
    "# fo = calculate_score(summary, article, fo_model, fo_tokenizer, backward=False, query_direction=\"reverse\", debug=debug)\n",
    "\n",
    "# # In Ba, query is summary/highlight , and answer is sentence/article(A->S direction)\n",
    "# ba = calculate_score(summary, article, ba_model, ba_tokenizer, backward=True, query_direction=\"reverse\", debug=debug)\n",
    "\n",
    "\n",
    "# adv_base = calculate_score(adverse_summary, article, fo_model, fo_tokenizer, backward=False, query_direction=\"normal\", debug=debug)\n",
    "\n",
    "# adv_fo = calculate_score(adverse_summary, article, fo_model, fo_tokenizer, backward=False, query_direction=\"reverse\", debug=debug)\n",
    "\n",
    "# adv_ba = calculate_score(adverse_summary, article, ba_model, ba_tokenizer, backward=True, query_direction=\"reverse\", debug=debug)\n",
    "\n",
    "\n",
    "# scores_data = {\n",
    "#     'Model Type': ['Base', 'Forward', 'Backward', 'Adv Base', 'Adv Forward', 'Adv Backward'],\n",
    "    \n",
    "#     'Query Direction': ['S->A', 'A->S', 'A->S', 'S->A', 'A->S', 'A->S'],\n",
    "    \n",
    "#     'Sequence Log Prob': [\n",
    "#         base['sequence_log_prob'],\n",
    "#         fo['sequence_log_prob'],\n",
    "#         ba['sequence_log_prob'],\n",
    "        \n",
    "#         adv_base['sequence_log_prob'],\n",
    "#         adv_fo['sequence_log_prob'],\n",
    "#         adv_ba['sequence_log_prob'],\n",
    "#     ],\n",
    "#     'Normalized Log Prob': [\n",
    "#         base['normalized_log_prob'],\n",
    "#         fo['normalized_log_prob'],\n",
    "#         ba['normalized_log_prob'],\n",
    "        \n",
    "#         adv_base['normalized_log_prob'],\n",
    "#         adv_fo['normalized_log_prob'],\n",
    "#         adv_ba['normalized_log_prob'],\n",
    "#     ],\n",
    "#     'Perplexity': [\n",
    "#         base['perplexity'],\n",
    "#         fo['perplexity'],\n",
    "#         ba['perplexity'],\n",
    "        \n",
    "#         adv_base['perplexity'],\n",
    "#         adv_fo['perplexity'],\n",
    "#         adv_ba['perplexity'],\n",
    "#     ]\n",
    "# }"
   ]
  },
  {
   "cell_type": "code",
   "execution_count": null,
   "metadata": {},
   "outputs": [],
   "source": [
    "# result_df = pd.DataFrame(scores_data)\n",
    "# result_df"
   ]
  },
  {
   "cell_type": "markdown",
   "metadata": {},
   "source": [
    "## Linear Search"
   ]
  },
  {
   "cell_type": "code",
   "execution_count": null,
   "metadata": {},
   "outputs": [],
   "source": [
    "dataset = load_cnn_dataset(num_samples=47852)\n",
    "#dataset = load_cnn_dataset()\n",
    "dataset = pd.DataFrame(dataset)"
   ]
  },
  {
   "cell_type": "code",
   "execution_count": null,
   "metadata": {},
   "outputs": [],
   "source": [
    "dataset.head(5)"
   ]
  },
  {
   "cell_type": "code",
   "execution_count": null,
   "metadata": {},
   "outputs": [],
   "source": [
    "print(dataset.shape[0])"
   ]
  },
  {
   "cell_type": "code",
   "execution_count": null,
   "metadata": {},
   "outputs": [],
   "source": [
    "#linear_results = linear_attribution_search(dataset, fo_model, fo_tokenizer, ba_model, ba_tokenizer) # 50 - 59.4s\n",
    "linear_results = linear_attribution_search(dataset, fo_model, fo_tokenizer, ba_model, ba_tokenizer, sentence_batch_size=500) # 52.4s, 2m30.9s, 6h18m49s"
   ]
  },
  {
   "cell_type": "code",
   "execution_count": null,
   "metadata": {},
   "outputs": [],
   "source": [
    "#binary_results = binary_search_attribution_search(dataset, fo_model, fo_tokenizer, ba_model, ba_tokenizer) # 50 - 25.7s\n",
    "binary_results = binary_search_attribution_search(dataset, fo_model, fo_tokenizer, ba_model, ba_tokenizer, max_iterations=30, sentence_batch_size=1000) # 35.7s, 7m 47.6s, 5m 15.6s, 5m0.8s"
   ]
  },
  {
   "cell_type": "code",
   "execution_count": null,
   "metadata": {},
   "outputs": [],
   "source": [
    "t.cuda.empty_cache()"
   ]
  },
  {
   "cell_type": "code",
   "execution_count": null,
   "metadata": {},
   "outputs": [],
   "source": [
    "#exclusion_results = exclusion_search_attribution_search(dataset, fo_model, fo_tokenizer, ba_model, ba_tokenizer) # 50 - 4m54.5s\n",
    "exclusion_results = exclusion_search_attribution_search(dataset, fo_model, fo_tokenizer, ba_model, ba_tokenizer, sentence_batch_size=32) # 3m30.4s"
   ]
  },
  {
   "cell_type": "code",
   "execution_count": null,
   "metadata": {},
   "outputs": [],
   "source": [
    "# def calculate_embedding_similarity(highlight, citation):\n",
    "#     \"\"\"Calculate cosine similarity between sentence embeddings.\"\"\"\n",
    "#     model = SentenceTransformer('all-MiniLM-L6-v2')\n",
    "    \n",
    "#     # Generate embeddings\n",
    "#     highlight_embedding = model.encode([highlight])[0]\n",
    "#     citation_embedding = model.encode([citation])[0]\n",
    "    \n",
    "#     # Calculate cosine similarity (1 - cosine distance)\n",
    "#     similarity = 1 - cosine(highlight_embedding, citation_embedding)\n",
    "#     return similarity\n",
    "\n",
    "# def calculate_rouge_score(highlight, citation):\n",
    "#     \"\"\"Calculate ROUGE-L F-measure score.\"\"\"\n",
    "#     scorer = rouge_scorer.RougeScorer(['rougeL'], use_stemmer=True)\n",
    "#     scores = scorer.score(highlight, citation)\n",
    "#     return scores['rougeL'].fmeasure\n",
    "\n",
    "# def calculate_tfidf_score(highlight, citation):\n",
    "#     \"\"\"Calculate TF-IDF similarity score.\"\"\"\n",
    "#     vectorizer = TfidfVectorizer()\n",
    "#     tfidf_matrix = vectorizer.fit_transform([highlight, citation])\n",
    "    \n",
    "#     # Convert sparse matrix to dense array for cosine similarity calculation\n",
    "#     dense_matrix = tfidf_matrix.toarray()\n",
    "    \n",
    "#     # Calculate cosine similarity\n",
    "#     similarity = 1 - cosine(dense_matrix[0], dense_matrix[1])\n",
    "#     return similarity\n",
    "\n",
    "# def process_data(data):\n",
    "#     \"\"\"Process the data and reformat to show scores by citation type in columns.\"\"\"\n",
    "#     results = []\n",
    "    \n",
    "#     for item in data:\n",
    "#         highlight = item['highlight']\n",
    "#         result_entry = {'id': item['id'], 'highlight': highlight}\n",
    "        \n",
    "#         # Process each citation type\n",
    "#         for citation_type in ['base_citation', 'ba_citation', 'fo_citation']:\n",
    "#             prefix = citation_type.split('_')[0]  # Extract 'base', 'ba', or 'fo'\n",
    "            \n",
    "#             if citation_type in item and item[citation_type]:\n",
    "#                 citation = item[citation_type]\n",
    "                \n",
    "#                 # Calculate scores\n",
    "#                 emb_similarity = calculate_embedding_similarity(highlight, citation)\n",
    "#                 rouge_score = calculate_rouge_score(highlight, citation)\n",
    "#                 tfidf_score = calculate_tfidf_score(highlight, citation)\n",
    "                \n",
    "#                 # Add scores as columns with prefix\n",
    "#                 result_entry[f'{prefix}_emb_similarity'] = emb_similarity\n",
    "#                 result_entry[f'{prefix}_rouge_score'] = rouge_score\n",
    "#                 result_entry[f'{prefix}_tfidf_score'] = tfidf_score\n",
    "                \n",
    "#             else:\n",
    "#                 # Set default values if citation doesn't exist\n",
    "#                 result_entry[f'{prefix}_emb_similarity'] = None\n",
    "#                 result_entry[f'{prefix}_rouge_score'] = None\n",
    "#                 result_entry[f'{prefix}_tfidf_score'] = None\n",
    "                \n",
    "#         results.append(result_entry)\n",
    "    \n",
    "#     return results\n",
    "\n",
    "# # Process the data\n",
    "# linear_final_results = process_data(linear_results)\n",
    "# binary_final_results = process_data(binary_results)\n",
    "# #exclusion_final_results = process_data(exclusion_results)\n"
   ]
  },
  {
   "cell_type": "code",
   "execution_count": null,
   "metadata": {},
   "outputs": [],
   "source": [
    "EMB_MODEL    = SentenceTransformer('all-MiniLM-L6-v2')\n",
    "ROUGE_SCORER = rouge_scorer.RougeScorer(['rougeL'], use_stemmer=True)\n",
    "TFIDF_VEC    = TfidfVectorizer(\n",
    "    token_pattern=r\"(?u)\\b\\w+\\b\",  \n",
    "    stop_words=None               \n",
    ")\n",
    "\n",
    "def calculate_embedding_similarity(highlight, citation):\n",
    "    he = EMB_MODEL.encode([highlight])[0]\n",
    "    ce = EMB_MODEL.encode([citation])[0]\n",
    "    return 1 - cosine(he, ce)\n",
    "\n",
    "def calculate_rouge_score(highlight, citation):\n",
    "    return ROUGE_SCORER.score(highlight, citation)['rougeL'].fmeasure\n",
    "\n",
    "def calculate_tfidf_score(highlight, citation):\n",
    "    try:\n",
    "        mat = TFIDF_VEC.fit_transform([highlight, citation]).toarray()\n",
    "        return 1 - cosine(mat[0], mat[1])\n",
    "    except ValueError:\n",
    "        return 0.0\n",
    "\n",
    "def process_data(data):\n",
    "    results = []\n",
    "    for item in data:\n",
    "        hl = item['highlight']\n",
    "        rec = {'id': item['id'], 'highlight': hl}\n",
    "        for citation_type in ['base_citation','fo_citation','ba_citation']:\n",
    "            prefix = citation_type.split('_')[0]\n",
    "            cit = item.get(citation_type, None)\n",
    "            if cit:\n",
    "                rec[f'{prefix}_emb_similarity'] = calculate_embedding_similarity(hl, cit)\n",
    "                rec[f'{prefix}_rouge_score']     = calculate_rouge_score(hl, cit)\n",
    "                rec[f'{prefix}_tfidf_score']     = calculate_tfidf_score(hl, cit)\n",
    "            else:\n",
    "                rec[f'{prefix}_emb_similarity'] = None\n",
    "                rec[f'{prefix}_rouge_score']     = None\n",
    "                rec[f'{prefix}_tfidf_score']     = None\n",
    "        results.append(rec)\n",
    "    return results\n",
    "\n",
    "#linear_final_results    = process_data(linear_results)\n",
    "#binary_final_results    = process_data(binary_results)\n",
    "exclusion_final_results = process_data(exclusion_results)"
   ]
  },
  {
   "cell_type": "code",
   "execution_count": null,
   "metadata": {},
   "outputs": [],
   "source": [
    "r = pd.DataFrame(linear_final_results) \n",
    "r.drop(['id', 'highlight'], axis=1).mean()\n",
    "r.to_csv(\"/ocean/projects/cis250068p/jhwang4/idl-project/notebooks/linear_result_500.csv\", index=True)"
   ]
  },
  {
   "cell_type": "code",
   "execution_count": null,
   "metadata": {},
   "outputs": [],
   "source": [
    "r = pd.DataFrame(binary_final_results) \n",
    "r.drop(['id', 'highlight'], axis=1).mean()\n",
    "#r.to_csv(\"binary_500_results.csv\", index=True)"
   ]
  },
  {
   "cell_type": "code",
   "execution_count": null,
   "metadata": {},
   "outputs": [],
   "source": [
    "r = pd.DataFrame(exclusion_final_results) \n",
    "r.drop(['id', 'highlight'], axis=1).mean()"
   ]
  },
  {
   "cell_type": "code",
   "execution_count": null,
   "metadata": {},
   "outputs": [],
   "source": [
    "df_linear = pd.DataFrame(linear_final_results)\n",
    "df_binary = pd.DataFrame(binary_final_results)\n",
    "df_exclusion = pd.DataFrame(exclusion_final_results)\n",
    "\n",
    "df_merged = pd.merge(df_linear, df_binary, on=['id', 'highlight'],suffixes=('_linear', '_binary'))\n",
    "\n",
    "df_exclusion = df_exclusion.add_suffix('_exclusion')\n",
    "df_exclusion = df_exclusion.rename(columns={'id_exclusion': 'id', 'highlight_exclusion': 'highlight'})\n",
    "\n",
    "df_merged = pd.merge(df_merged, df_exclusion, on=['id', 'highlight'])\n",
    "\n",
    "mean_series = df_merged.drop(['id', 'highlight'], axis=1).mean()\n",
    "\n",
    "data = {\n",
    "    'Base_linear': [\n",
    "        mean_series['base_emb_similarity_linear'],\n",
    "        mean_series['base_rouge_score_linear'],\n",
    "        mean_series['base_tfidf_score_linear']\n",
    "    ],\n",
    "    'Fo_linear': [\n",
    "        mean_series['fo_emb_similarity_linear'],\n",
    "        mean_series['fo_rouge_score_linear'],\n",
    "        mean_series['fo_tfidf_score_linear']\n",
    "    ],\n",
    "    'Ba_linear': [\n",
    "        mean_series['ba_emb_similarity_linear'],\n",
    "        mean_series['ba_rouge_score_linear'],\n",
    "        mean_series['ba_tfidf_score_linear']\n",
    "    ],\n",
    "    'Base_binary': [\n",
    "        mean_series['base_emb_similarity_binary'],\n",
    "        mean_series['base_rouge_score_binary'],\n",
    "        mean_series['base_tfidf_score_binary']\n",
    "    ],\n",
    "    'Fo_binary': [\n",
    "        mean_series['fo_emb_similarity_binary'],\n",
    "        mean_series['fo_rouge_score_binary'],\n",
    "        mean_series['fo_tfidf_score_binary']\n",
    "    ],\n",
    "    'Ba_binary': [\n",
    "        mean_series['ba_emb_similarity_binary'],\n",
    "        mean_series['ba_rouge_score_binary'],\n",
    "        mean_series['ba_tfidf_score_binary']\n",
    "    ],\n",
    "    'Base_exclusion': [\n",
    "        mean_series['base_emb_similarity_exclusion'],\n",
    "        mean_series['base_rouge_score_exclusion'],\n",
    "        mean_series['base_tfidf_score_exclusion']\n",
    "    ],\n",
    "    'Fo_exclusion': [\n",
    "        mean_series['fo_emb_similarity_exclusion'],\n",
    "        mean_series['fo_rouge_score_exclusion'],\n",
    "        mean_series['fo_tfidf_score_exclusion']\n",
    "    ],\n",
    "    'Ba_exclusion': [\n",
    "        mean_series['ba_emb_similarity_exclusion'],\n",
    "        mean_series['ba_rouge_score_exclusion'],\n",
    "        mean_series['ba_tfidf_score_exclusion']\n",
    "    ],\n",
    "}\n",
    "\n",
    "table_df = pd.DataFrame(data, index=['Embedding', 'Rouge', 'Tfidf'])\n",
    "table_df"
   ]
  },
  {
   "cell_type": "code",
   "execution_count": null,
   "metadata": {},
   "outputs": [],
   "source": [
    "df_linear = pd.DataFrame(linear_final_results)\n",
    "mean_series = df_linear.drop(['id', 'highlight'], axis=1).mean()\n",
    "\n",
    "data = {\n",
    "    'Base_linear': [\n",
    "        mean_series['base_emb_similarity'],\n",
    "        mean_series['base_rouge_score'],\n",
    "        mean_series['base_tfidf_score']\n",
    "    ],\n",
    "    'Fo_linear': [\n",
    "        mean_series['fo_emb_similarity'],\n",
    "        mean_series['fo_rouge_score'],\n",
    "        mean_series['fo_tfidf_score']\n",
    "    ],\n",
    "    'Ba_linear': [\n",
    "        mean_series['ba_emb_similarity'],\n",
    "        mean_series['ba_rouge_score'],\n",
    "        mean_series['ba_tfidf_score']\n",
    "    ]\n",
    "}\n",
    "\n",
    "table_df = pd.DataFrame(data, index=['Embedding', 'Rouge', 'Tfidf'])\n",
    "table_df.to_csv(\"/ocean/projects/cis250068p/jhwang4/idl-project/notebooks/linear_result.csv\", index=True)"
   ]
  },
  {
   "cell_type": "code",
   "execution_count": null,
   "metadata": {},
   "outputs": [],
   "source": [
    "table_df"
   ]
  },
  {
   "cell_type": "code",
   "execution_count": null,
   "metadata": {},
   "outputs": [],
   "source": [
    "table_df.to_csv(\"/ocean/projects/cis250068p/jhwang4/idl-project/notebooks/linear_result.csv\", index=True)"
   ]
  },
  {
   "cell_type": "code",
   "execution_count": null,
   "metadata": {},
   "outputs": [],
   "source": []
  },
  {
   "cell_type": "code",
   "execution_count": null,
   "metadata": {},
   "outputs": [],
   "source": []
  },
  {
   "cell_type": "code",
   "execution_count": null,
   "metadata": {},
   "outputs": [],
   "source": []
  },
  {
   "cell_type": "code",
   "execution_count": null,
   "metadata": {},
   "outputs": [],
   "source": []
  },
  {
   "cell_type": "code",
   "execution_count": null,
   "metadata": {},
   "outputs": [],
   "source": []
  },
  {
   "cell_type": "code",
   "execution_count": null,
   "metadata": {},
   "outputs": [],
   "source": []
  },
  {
   "cell_type": "code",
   "execution_count": null,
   "metadata": {},
   "outputs": [],
   "source": []
  },
  {
   "cell_type": "code",
   "execution_count": null,
   "metadata": {},
   "outputs": [],
   "source": []
  }
 ],
 "metadata": {
  "kernelspec": {
   "display_name": "Python 3 (ipykernel)",
   "language": "python",
   "name": "python3"
  },
  "language_info": {
   "codemirror_mode": {
    "name": "ipython",
    "version": 3
   },
   "file_extension": ".py",
   "mimetype": "text/x-python",
   "name": "python",
   "nbconvert_exporter": "python",
   "pygments_lexer": "ipython3",
   "version": "3.10.9"
  }
 },
 "nbformat": 4,
 "nbformat_minor": 2
}
