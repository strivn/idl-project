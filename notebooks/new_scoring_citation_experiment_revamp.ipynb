{
 "cells": [
  {
   "cell_type": "markdown",
   "metadata": {},
   "source": [
    "# Scoring and Citations Testbed\n",
    "---"
   ]
  },
  {
   "cell_type": "markdown",
   "metadata": {},
   "source": []
  },
  {
   "cell_type": "markdown",
   "metadata": {},
   "source": [
    "## Import Libraries"
   ]
  },
  {
   "cell_type": "code",
   "execution_count": 1,
   "metadata": {},
   "outputs": [],
   "source": [
    "import sys \n",
    "import os \n",
    "sys.path.append(os.path.abspath(os.path.join(os.getcwd(), '..')))"
   ]
  },
  {
   "cell_type": "code",
   "execution_count": 2,
   "metadata": {},
   "outputs": [],
   "source": [
    "import nltk\n",
    "import pandas as pd\n",
    "from nltk.tokenize import sent_tokenize\n",
    "from nltk.translate.bleu_score import SmoothingFunction, sentence_bleu\n",
    "from rouge_score import rouge_scorer\n",
    "from scipy.spatial.distance import cosine\n",
    "from sentence_transformers import SentenceTransformer\n",
    "from sklearn.feature_extraction.text import TfidfVectorizer\n",
    "from sklearn.metrics.pairwise import cosine_similarity"
   ]
  },
  {
   "cell_type": "code",
   "execution_count": 3,
   "metadata": {},
   "outputs": [
    {
     "name": "stdout",
     "output_type": "stream",
     "text": [
      "Using device: mps\n"
     ]
    }
   ],
   "source": [
    "from src.model import load_fo_model, load_ba_model\n",
    "from src.data import load_cnn_dataset, prepare_cnn_dataset\n",
    "from src.utils import *\n",
    "from src.search import *"
   ]
  },
  {
   "cell_type": "code",
   "execution_count": 4,
   "metadata": {},
   "outputs": [],
   "source": [
    "pd.set_option('display.max_colwidth', 200)\n",
    "pd.set_option('display.float_format', '{:.4f}'.format)"
   ]
  },
  {
   "cell_type": "code",
   "execution_count": 5,
   "metadata": {},
   "outputs": [
    {
     "name": "stderr",
     "output_type": "stream",
     "text": [
      "[nltk_data] Downloading package punkt_tab to /Users/ivw/nltk_data...\n",
      "[nltk_data]   Package punkt_tab is already up-to-date!\n"
     ]
    },
    {
     "data": {
      "text/plain": [
       "True"
      ]
     },
     "execution_count": 5,
     "metadata": {},
     "output_type": "execute_result"
    }
   ],
   "source": [
    "nltk.download(\"punkt_tab\")"
   ]
  },
  {
   "cell_type": "code",
   "execution_count": 6,
   "metadata": {},
   "outputs": [
    {
     "data": {
      "text/plain": [
       "'mps'"
      ]
     },
     "execution_count": 6,
     "metadata": {},
     "output_type": "execute_result"
    }
   ],
   "source": [
    "DEVICE"
   ]
  },
  {
   "cell_type": "code",
   "execution_count": 7,
   "metadata": {},
   "outputs": [
    {
     "data": {
      "text/plain": [
       "'.cache/'"
      ]
     },
     "execution_count": 7,
     "metadata": {},
     "output_type": "execute_result"
    }
   ],
   "source": [
    "CACHE_DIR"
   ]
  },
  {
   "cell_type": "markdown",
   "metadata": {},
   "source": [
    "## Quick Test"
   ]
  },
  {
   "cell_type": "code",
   "execution_count": 8,
   "metadata": {},
   "outputs": [],
   "source": [
    "# Load the models\n",
    "fo_model, fo_tokenizer = load_fo_model()\n",
    "ba_model, ba_tokenizer = load_ba_model()"
   ]
  },
  {
   "cell_type": "code",
   "execution_count": 9,
   "metadata": {},
   "outputs": [],
   "source": [
    "summaries, articles, adverse_summaries = example_texts()"
   ]
  },
  {
   "cell_type": "code",
   "execution_count": 10,
   "metadata": {},
   "outputs": [
    {
     "name": "stdout",
     "output_type": "stream",
     "text": [
      "CPU times: user 496 ms, sys: 266 ms, total: 762 ms\n",
      "Wall time: 2.21 s\n"
     ]
    },
    {
     "data": {
      "text/html": [
       "<div>\n",
       "<style scoped>\n",
       "    .dataframe tbody tr th:only-of-type {\n",
       "        vertical-align: middle;\n",
       "    }\n",
       "\n",
       "    .dataframe tbody tr th {\n",
       "        vertical-align: top;\n",
       "    }\n",
       "\n",
       "    .dataframe thead th {\n",
       "        text-align: right;\n",
       "    }\n",
       "</style>\n",
       "<table border=\"1\" class=\"dataframe\">\n",
       "  <thead>\n",
       "    <tr style=\"text-align: right;\">\n",
       "      <th></th>\n",
       "      <th>Article</th>\n",
       "      <th>Summary</th>\n",
       "      <th>Adverse Summary</th>\n",
       "      <th>Base_NLL</th>\n",
       "      <th>Fo_NLL</th>\n",
       "      <th>Ba_NLL</th>\n",
       "      <th>AdvBase_NLL</th>\n",
       "      <th>AdvFo_NLL</th>\n",
       "      <th>AdvBa_NLL</th>\n",
       "    </tr>\n",
       "  </thead>\n",
       "  <tbody>\n",
       "    <tr>\n",
       "      <th>0</th>\n",
       "      <td>Harry Potter star Daniel Radcliffe gets £20M fortune as he turns 18 Monday</td>\n",
       "      <td>Harry Potter star Daniel Radcliffe gains access to a reported £20 million ($41.1 million) fortune as he turns 18 on Monday, but he insists the money won't cast a spell on him.</td>\n",
       "      <td>Daniel Craig is recasted as James Bond again</td>\n",
       "      <td>-3.0221</td>\n",
       "      <td>-2.7748</td>\n",
       "      <td>-2.8770</td>\n",
       "      <td>-5.7990</td>\n",
       "      <td>-7.1044</td>\n",
       "      <td>-6.3390</td>\n",
       "    </tr>\n",
       "    <tr>\n",
       "      <th>1</th>\n",
       "      <td>Apple launches new iPhone with better camera and chip</td>\n",
       "      <td>In a widely anticipated event on Tuesday, Apple unveiled its newest iPhone model. The device features a significantly improved camera system with low-light enhancements, a faster A17 chip promisin...</td>\n",
       "      <td>Samsung releases folding phone with improved battery</td>\n",
       "      <td>-4.9806</td>\n",
       "      <td>-3.7895</td>\n",
       "      <td>-3.5116</td>\n",
       "      <td>-5.2396</td>\n",
       "      <td>-5.0973</td>\n",
       "      <td>-4.6742</td>\n",
       "    </tr>\n",
       "    <tr>\n",
       "      <th>2</th>\n",
       "      <td>NASA rover lands on Mars for ancient life mission</td>\n",
       "      <td>NASA’s Perseverance rover successfully touched down on the surface of Mars after a seven-month journey through space. The rover is equipped with a suite of scientific instruments aimed at detectin...</td>\n",
       "      <td>NASA delays rover mission due to mechanical failure</td>\n",
       "      <td>-5.6071</td>\n",
       "      <td>-3.0059</td>\n",
       "      <td>-2.5611</td>\n",
       "      <td>-5.8888</td>\n",
       "      <td>-5.0428</td>\n",
       "      <td>-4.8878</td>\n",
       "    </tr>\n",
       "    <tr>\n",
       "      <th>3</th>\n",
       "      <td>Tech stocks boost market as inflation concerns drop</td>\n",
       "      <td>The U.S. stock market closed higher on Wednesday, buoyed by a rally in technology stocks and signs that inflation may be cooling. The Federal Reserve hinted at a potential pause in interest rate h...</td>\n",
       "      <td>Market crashes amid tech layoffs and inflation fears</td>\n",
       "      <td>-7.3556</td>\n",
       "      <td>-2.6911</td>\n",
       "      <td>-2.5011</td>\n",
       "      <td>-7.6544</td>\n",
       "      <td>-6.4484</td>\n",
       "      <td>-5.4840</td>\n",
       "    </tr>\n",
       "    <tr>\n",
       "      <th>4</th>\n",
       "      <td>Simone Biles wins all-around gold in comeback</td>\n",
       "      <td>Simone Biles returned to competition after a two-year break and delivered a stunning performance at the national championships, winning gold in the all-around category. Her comeback is being haile...</td>\n",
       "      <td>Olympic committee bans Simone Biles from competition</td>\n",
       "      <td>-4.5687</td>\n",
       "      <td>-3.1953</td>\n",
       "      <td>-2.6120</td>\n",
       "      <td>-4.9171</td>\n",
       "      <td>-6.8431</td>\n",
       "      <td>-5.1172</td>\n",
       "    </tr>\n",
       "    <tr>\n",
       "      <th>5</th>\n",
       "      <td>CDC recommends new COVID booster for seniors</td>\n",
       "      <td>The CDC has recommended a new round of COVID-19 booster shots for people over 60 and those with compromised immune systems, citing the recent emergence of new subvariants. Pharmacies across the co...</td>\n",
       "      <td>FDA pulls COVID boosters citing lack of demand</td>\n",
       "      <td>-8.7931</td>\n",
       "      <td>-3.3092</td>\n",
       "      <td>-3.4108</td>\n",
       "      <td>-8.4099</td>\n",
       "      <td>-6.3571</td>\n",
       "      <td>-5.4663</td>\n",
       "    </tr>\n",
       "    <tr>\n",
       "      <th>6</th>\n",
       "      <td>EU passes bill to regulate AI transparency and risk</td>\n",
       "      <td>The European Parliament passed a preliminary AI regulation bill requiring transparency for generative models and stricter risk assessment for high-impact applications. The law aims to protect user...</td>\n",
       "      <td>AI startup fined for violating European data laws</td>\n",
       "      <td>-6.4797</td>\n",
       "      <td>-4.3156</td>\n",
       "      <td>-3.9798</td>\n",
       "      <td>-7.8661</td>\n",
       "      <td>-7.4039</td>\n",
       "      <td>-5.5238</td>\n",
       "    </tr>\n",
       "    <tr>\n",
       "      <th>7</th>\n",
       "      <td>UN warns global temps may exceed 1.5°C soon</td>\n",
       "      <td>A new report from the United Nations warns that global temperatures could surpass the 1.5°C threshold within the next decade if greenhouse gas emissions aren’t drastically reduced. The report urge...</td>\n",
       "      <td>New study denies impact of CO2 on global warming</td>\n",
       "      <td>-4.5019</td>\n",
       "      <td>-2.6341</td>\n",
       "      <td>-2.4452</td>\n",
       "      <td>-5.3818</td>\n",
       "      <td>-5.5674</td>\n",
       "      <td>-4.5546</td>\n",
       "    </tr>\n",
       "    <tr>\n",
       "      <th>8</th>\n",
       "      <td>'Oppenheimer' earns $80M on strong opening weekend</td>\n",
       "      <td>Christopher Nolan's new historical thriller 'Oppenheimer' opened to strong box office numbers this weekend, bringing in over $80 million globally. Critics have praised the film's storytelling and ...</td>\n",
       "      <td>Nolan's 'Oppenheimer' flops on opening weekend</td>\n",
       "      <td>-3.9063</td>\n",
       "      <td>-3.4476</td>\n",
       "      <td>-2.9741</td>\n",
       "      <td>-4.0294</td>\n",
       "      <td>-3.8317</td>\n",
       "      <td>-3.6694</td>\n",
       "    </tr>\n",
       "    <tr>\n",
       "      <th>9</th>\n",
       "      <td>Ford to invest $2B to boost EV production</td>\n",
       "      <td>Ford announced a $2 billion investment to expand electric vehicle production in the Midwest, including new battery facilities. The move is part of Ford’s effort to compete with Tesla and meet risi...</td>\n",
       "      <td>Ford cuts EV funding amid low consumer interest</td>\n",
       "      <td>-4.2487</td>\n",
       "      <td>-2.7613</td>\n",
       "      <td>-2.6306</td>\n",
       "      <td>-4.5132</td>\n",
       "      <td>-6.3631</td>\n",
       "      <td>-5.9599</td>\n",
       "    </tr>\n",
       "    <tr>\n",
       "      <th>10</th>\n",
       "      <td>Mental health app reduces anxiety in 4 weeks</td>\n",
       "      <td>A recent study found that a new mobile app designed for managing anxiety showed significant improvement in users' stress levels after just four weeks of use. The app offers CBT-based exercises and...</td>\n",
       "      <td>Mental health app criticized for lack of scientific backing</td>\n",
       "      <td>-6.1272</td>\n",
       "      <td>-3.3790</td>\n",
       "      <td>-3.3091</td>\n",
       "      <td>-5.1007</td>\n",
       "      <td>-4.3716</td>\n",
       "      <td>-4.2276</td>\n",
       "    </tr>\n",
       "    <tr>\n",
       "      <th>11</th>\n",
       "      <td>Bitcoin hits yearly high on ETF speculation</td>\n",
       "      <td>Bitcoin prices spiked to their highest level in over a year following speculation that a major asset manager may receive approval for a spot ETF. The crypto market saw a general uptick across mult...</td>\n",
       "      <td>Bitcoin plummets after regulatory investigation</td>\n",
       "      <td>-6.0703</td>\n",
       "      <td>-4.0645</td>\n",
       "      <td>-3.7866</td>\n",
       "      <td>-6.7101</td>\n",
       "      <td>-6.2937</td>\n",
       "      <td>-4.6467</td>\n",
       "    </tr>\n",
       "    <tr>\n",
       "      <th>12</th>\n",
       "      <td>SpaceX launches Starlink satellites, lands booster</td>\n",
       "      <td>SpaceX successfully launched another batch of Starlink satellites into orbit aboard a Falcon 9 rocket, marking the company’s 65th mission this year. The reusable booster landed safely on a drone s...</td>\n",
       "      <td>SpaceX mission fails due to rocket malfunction</td>\n",
       "      <td>-6.8275</td>\n",
       "      <td>-3.2621</td>\n",
       "      <td>-3.3018</td>\n",
       "      <td>-7.1059</td>\n",
       "      <td>-5.8884</td>\n",
       "      <td>-4.5910</td>\n",
       "    </tr>\n",
       "    <tr>\n",
       "      <th>13</th>\n",
       "      <td>Food prices hold steady for third month</td>\n",
       "      <td>Grocery prices have stabilized for the third month in a row, according to the latest consumer price index data. Analysts say easing supply chain issues and fuel costs are helping to curb food infl...</td>\n",
       "      <td>Food prices soar after global wheat shortage</td>\n",
       "      <td>-5.4552</td>\n",
       "      <td>-3.2429</td>\n",
       "      <td>-3.0594</td>\n",
       "      <td>-6.6365</td>\n",
       "      <td>-6.0336</td>\n",
       "      <td>-4.3812</td>\n",
       "    </tr>\n",
       "    <tr>\n",
       "      <th>14</th>\n",
       "      <td>New U.S. tutoring program to address pandemic learning gaps</td>\n",
       "      <td>The Department of Education announced plans to introduce a national tutoring program aimed at helping students catch up on learning gaps caused by the COVID-19 pandemic. Funding will come from fed...</td>\n",
       "      <td>U.S. cuts education funding following budget crisis</td>\n",
       "      <td>-4.6915</td>\n",
       "      <td>-3.0190</td>\n",
       "      <td>-2.8628</td>\n",
       "      <td>-5.1892</td>\n",
       "      <td>-5.1777</td>\n",
       "      <td>-4.0675</td>\n",
       "    </tr>\n",
       "    <tr>\n",
       "      <th>15</th>\n",
       "      <td>Netflix grows 12% after curbing password sharing</td>\n",
       "      <td>Netflix reported a surprising 12% subscriber growth in the last quarter, driven largely by its crackdown on password sharing and introduction of a new ad-supported tier. Revenue also exceeded anal...</td>\n",
       "      <td>Netflix loses subscribers despite new ad tier</td>\n",
       "      <td>-5.0541</td>\n",
       "      <td>-3.8036</td>\n",
       "      <td>-3.4079</td>\n",
       "      <td>-6.3295</td>\n",
       "      <td>-6.7766</td>\n",
       "      <td>-6.2068</td>\n",
       "    </tr>\n",
       "  </tbody>\n",
       "</table>\n",
       "</div>"
      ],
      "text/plain": [
       "                                                                       Article  \\\n",
       "0   Harry Potter star Daniel Radcliffe gets £20M fortune as he turns 18 Monday   \n",
       "1                        Apple launches new iPhone with better camera and chip   \n",
       "2                            NASA rover lands on Mars for ancient life mission   \n",
       "3                          Tech stocks boost market as inflation concerns drop   \n",
       "4                                Simone Biles wins all-around gold in comeback   \n",
       "5                                 CDC recommends new COVID booster for seniors   \n",
       "6                          EU passes bill to regulate AI transparency and risk   \n",
       "7                                  UN warns global temps may exceed 1.5°C soon   \n",
       "8                           'Oppenheimer' earns $80M on strong opening weekend   \n",
       "9                                    Ford to invest $2B to boost EV production   \n",
       "10                                Mental health app reduces anxiety in 4 weeks   \n",
       "11                                 Bitcoin hits yearly high on ETF speculation   \n",
       "12                          SpaceX launches Starlink satellites, lands booster   \n",
       "13                                     Food prices hold steady for third month   \n",
       "14                 New U.S. tutoring program to address pandemic learning gaps   \n",
       "15                            Netflix grows 12% after curbing password sharing   \n",
       "\n",
       "                                                                                                                                                                                                    Summary  \\\n",
       "0                           Harry Potter star Daniel Radcliffe gains access to a reported £20 million ($41.1 million) fortune as he turns 18 on Monday, but he insists the money won't cast a spell on him.   \n",
       "1   In a widely anticipated event on Tuesday, Apple unveiled its newest iPhone model. The device features a significantly improved camera system with low-light enhancements, a faster A17 chip promisin...   \n",
       "2   NASA’s Perseverance rover successfully touched down on the surface of Mars after a seven-month journey through space. The rover is equipped with a suite of scientific instruments aimed at detectin...   \n",
       "3   The U.S. stock market closed higher on Wednesday, buoyed by a rally in technology stocks and signs that inflation may be cooling. The Federal Reserve hinted at a potential pause in interest rate h...   \n",
       "4   Simone Biles returned to competition after a two-year break and delivered a stunning performance at the national championships, winning gold in the all-around category. Her comeback is being haile...   \n",
       "5   The CDC has recommended a new round of COVID-19 booster shots for people over 60 and those with compromised immune systems, citing the recent emergence of new subvariants. Pharmacies across the co...   \n",
       "6   The European Parliament passed a preliminary AI regulation bill requiring transparency for generative models and stricter risk assessment for high-impact applications. The law aims to protect user...   \n",
       "7   A new report from the United Nations warns that global temperatures could surpass the 1.5°C threshold within the next decade if greenhouse gas emissions aren’t drastically reduced. The report urge...   \n",
       "8   Christopher Nolan's new historical thriller 'Oppenheimer' opened to strong box office numbers this weekend, bringing in over $80 million globally. Critics have praised the film's storytelling and ...   \n",
       "9   Ford announced a $2 billion investment to expand electric vehicle production in the Midwest, including new battery facilities. The move is part of Ford’s effort to compete with Tesla and meet risi...   \n",
       "10  A recent study found that a new mobile app designed for managing anxiety showed significant improvement in users' stress levels after just four weeks of use. The app offers CBT-based exercises and...   \n",
       "11  Bitcoin prices spiked to their highest level in over a year following speculation that a major asset manager may receive approval for a spot ETF. The crypto market saw a general uptick across mult...   \n",
       "12  SpaceX successfully launched another batch of Starlink satellites into orbit aboard a Falcon 9 rocket, marking the company’s 65th mission this year. The reusable booster landed safely on a drone s...   \n",
       "13  Grocery prices have stabilized for the third month in a row, according to the latest consumer price index data. Analysts say easing supply chain issues and fuel costs are helping to curb food infl...   \n",
       "14  The Department of Education announced plans to introduce a national tutoring program aimed at helping students catch up on learning gaps caused by the COVID-19 pandemic. Funding will come from fed...   \n",
       "15  Netflix reported a surprising 12% subscriber growth in the last quarter, driven largely by its crackdown on password sharing and introduction of a new ad-supported tier. Revenue also exceeded anal...   \n",
       "\n",
       "                                                Adverse Summary  Base_NLL  \\\n",
       "0                  Daniel Craig is recasted as James Bond again   -3.0221   \n",
       "1          Samsung releases folding phone with improved battery   -4.9806   \n",
       "2           NASA delays rover mission due to mechanical failure   -5.6071   \n",
       "3          Market crashes amid tech layoffs and inflation fears   -7.3556   \n",
       "4          Olympic committee bans Simone Biles from competition   -4.5687   \n",
       "5                FDA pulls COVID boosters citing lack of demand   -8.7931   \n",
       "6             AI startup fined for violating European data laws   -6.4797   \n",
       "7              New study denies impact of CO2 on global warming   -4.5019   \n",
       "8                Nolan's 'Oppenheimer' flops on opening weekend   -3.9063   \n",
       "9               Ford cuts EV funding amid low consumer interest   -4.2487   \n",
       "10  Mental health app criticized for lack of scientific backing   -6.1272   \n",
       "11              Bitcoin plummets after regulatory investigation   -6.0703   \n",
       "12               SpaceX mission fails due to rocket malfunction   -6.8275   \n",
       "13                 Food prices soar after global wheat shortage   -5.4552   \n",
       "14          U.S. cuts education funding following budget crisis   -4.6915   \n",
       "15                Netflix loses subscribers despite new ad tier   -5.0541   \n",
       "\n",
       "    Fo_NLL  Ba_NLL  AdvBase_NLL  AdvFo_NLL  AdvBa_NLL  \n",
       "0  -2.7748 -2.8770      -5.7990    -7.1044    -6.3390  \n",
       "1  -3.7895 -3.5116      -5.2396    -5.0973    -4.6742  \n",
       "2  -3.0059 -2.5611      -5.8888    -5.0428    -4.8878  \n",
       "3  -2.6911 -2.5011      -7.6544    -6.4484    -5.4840  \n",
       "4  -3.1953 -2.6120      -4.9171    -6.8431    -5.1172  \n",
       "5  -3.3092 -3.4108      -8.4099    -6.3571    -5.4663  \n",
       "6  -4.3156 -3.9798      -7.8661    -7.4039    -5.5238  \n",
       "7  -2.6341 -2.4452      -5.3818    -5.5674    -4.5546  \n",
       "8  -3.4476 -2.9741      -4.0294    -3.8317    -3.6694  \n",
       "9  -2.7613 -2.6306      -4.5132    -6.3631    -5.9599  \n",
       "10 -3.3790 -3.3091      -5.1007    -4.3716    -4.2276  \n",
       "11 -4.0645 -3.7866      -6.7101    -6.2937    -4.6467  \n",
       "12 -3.2621 -3.3018      -7.1059    -5.8884    -4.5910  \n",
       "13 -3.2429 -3.0594      -6.6365    -6.0336    -4.3812  \n",
       "14 -3.0190 -2.8628      -5.1892    -5.1777    -4.0675  \n",
       "15 -3.8036 -3.4079      -6.3295    -6.7766    -6.2068  "
      ]
     },
     "execution_count": 10,
     "metadata": {},
     "output_type": "execute_result"
    }
   ],
   "source": [
    "%%time\n",
    "debug = False\n",
    "\n",
    "batch = 16\n",
    "\n",
    "samp_summaries=summaries[:batch]\n",
    "samp_articles=articles[:batch]\n",
    "samp_advsummaries=adverse_summaries[:batch]\n",
    "\n",
    "# Evaluate with batch (normal direction) → S->A (only for Fo model)\n",
    "base_scores = calculate_score_batch(samp_summaries, samp_articles, fo_model, fo_tokenizer, backward=False, query_direction=\"normal\", debug=debug)\n",
    "\n",
    "# Evaluate with batch (reverse direction) → A->S\n",
    "fo_scores = calculate_score_batch(samp_summaries, samp_articles, fo_model, fo_tokenizer, backward=False, query_direction=\"reverse\", debug=debug)\n",
    "ba_scores = calculate_score_batch(samp_summaries, samp_articles, ba_model, ba_tokenizer, backward=True, query_direction=\"reverse\", debug=debug)\n",
    "\n",
    "# Adverse summaries\n",
    "adv_base_scores = calculate_score_batch(samp_advsummaries, samp_articles, fo_model, fo_tokenizer, backward=False, query_direction=\"normal\", debug=debug)\n",
    "adv_fo_scores = calculate_score_batch(samp_advsummaries, samp_articles, fo_model, fo_tokenizer, backward=False, query_direction=\"reverse\", debug=debug)\n",
    "adv_ba_scores = calculate_score_batch(samp_advsummaries, samp_articles, ba_model, ba_tokenizer, backward=True, query_direction=\"reverse\", debug=debug)\n",
    "\n",
    "\n",
    "def extract_metric(scores, key):\n",
    "    return [s[key] for s in scores]\n",
    "\n",
    "df = pd.DataFrame({\n",
    "    'Article': samp_articles,\n",
    "    'Summary': samp_summaries,\n",
    "    'Adverse Summary': samp_advsummaries,\n",
    "    \n",
    "    'Base_NLL': extract_metric(base_scores, 'normalized_log_prob'),\n",
    "    'Fo_NLL': extract_metric(fo_scores, 'normalized_log_prob'),\n",
    "    'Ba_NLL': extract_metric(ba_scores, 'normalized_log_prob'),\n",
    "    \n",
    "    'AdvBase_NLL': extract_metric(adv_base_scores, 'normalized_log_prob'),\n",
    "    'AdvFo_NLL': extract_metric(adv_fo_scores, 'normalized_log_prob'),\n",
    "    'AdvBa_NLL': extract_metric(adv_ba_scores, 'normalized_log_prob'),\n",
    "})\n",
    "df"
   ]
  },
  {
   "cell_type": "code",
   "execution_count": 11,
   "metadata": {},
   "outputs": [
    {
     "name": "stdout",
     "output_type": "stream",
     "text": [
      "CPU times: user 286 ms, sys: 44.3 ms, total: 330 ms\n",
      "Wall time: 437 ms\n"
     ]
    }
   ],
   "source": [
    "%%time\n",
    "\n",
    "debug = False\n",
    "\n",
    "summary = summaries[0]\n",
    "article = articles[0]\n",
    "adverse_summary = adverse_summaries[0]\n",
    "\n",
    "# In normal, query is sentence/article, and answer is summary/highlight (S->A direction)\n",
    "base = calculate_score(summary, article, fo_model, fo_tokenizer, backward=False, query_direction=\"normal\", debug=debug)\n",
    "# In Fo, query is summary/highlight , and answer is sentence/article(A->S direction)\n",
    "fo = calculate_score(summary, article, fo_model, fo_tokenizer, backward=False, query_direction=\"reverse\", debug=debug)\n",
    "# In Ba, query is summary/highlight , and answer is sentence/article(A->S direction)\n",
    "ba = calculate_score(summary, article, ba_model, ba_tokenizer, backward=True, query_direction=\"reverse\", debug=debug)\n",
    "\n",
    "\n",
    "adv_base = calculate_score(adverse_summary, article, fo_model, fo_tokenizer, backward=False, query_direction=\"normal\", debug=debug)\n",
    "adv_fo = calculate_score(adverse_summary, article, fo_model, fo_tokenizer, backward=False, query_direction=\"reverse\", debug=debug)\n",
    "adv_ba = calculate_score(adverse_summary, article, ba_model, ba_tokenizer, backward=True, query_direction=\"reverse\", debug=debug)\n",
    "\n",
    "\n",
    "scores_data = {\n",
    "    'Model Type': ['Base', 'Forward', 'Backward', 'Adv Base', 'Adv Forward', 'Adv Backward'],\n",
    "    \n",
    "    'Query Direction': ['S->A', 'A->S', 'A->S', 'S->A', 'A->S', 'A->S'],\n",
    "    \n",
    "    'Sequence Log Prob': [\n",
    "        base['sequence_log_prob'],\n",
    "        fo['sequence_log_prob'],\n",
    "        ba['sequence_log_prob'],\n",
    "        \n",
    "        adv_base['sequence_log_prob'],\n",
    "        adv_fo['sequence_log_prob'],\n",
    "        adv_ba['sequence_log_prob'],\n",
    "    ],\n",
    "    'Normalized Log Prob': [\n",
    "        base['normalized_log_prob'],\n",
    "        fo['normalized_log_prob'],\n",
    "        ba['normalized_log_prob'],\n",
    "        \n",
    "        adv_base['normalized_log_prob'],\n",
    "        adv_fo['normalized_log_prob'],\n",
    "        adv_ba['normalized_log_prob'],\n",
    "    ],\n",
    "    'Perplexity': [\n",
    "        base['perplexity'],\n",
    "        fo['perplexity'],\n",
    "        ba['perplexity'],\n",
    "        \n",
    "        adv_base['perplexity'],\n",
    "        adv_fo['perplexity'],\n",
    "        adv_ba['perplexity'],\n",
    "    ]\n",
    "}"
   ]
  },
  {
   "cell_type": "code",
   "execution_count": 12,
   "metadata": {},
   "outputs": [
    {
     "data": {
      "text/html": [
       "<div>\n",
       "<style scoped>\n",
       "    .dataframe tbody tr th:only-of-type {\n",
       "        vertical-align: middle;\n",
       "    }\n",
       "\n",
       "    .dataframe tbody tr th {\n",
       "        vertical-align: top;\n",
       "    }\n",
       "\n",
       "    .dataframe thead th {\n",
       "        text-align: right;\n",
       "    }\n",
       "</style>\n",
       "<table border=\"1\" class=\"dataframe\">\n",
       "  <thead>\n",
       "    <tr style=\"text-align: right;\">\n",
       "      <th></th>\n",
       "      <th>Model Type</th>\n",
       "      <th>Query Direction</th>\n",
       "      <th>Sequence Log Prob</th>\n",
       "      <th>Normalized Log Prob</th>\n",
       "      <th>Perplexity</th>\n",
       "    </tr>\n",
       "  </thead>\n",
       "  <tbody>\n",
       "    <tr>\n",
       "      <th>0</th>\n",
       "      <td>Base</td>\n",
       "      <td>S-&gt;A</td>\n",
       "      <td>-48.3538</td>\n",
       "      <td>-3.0221</td>\n",
       "      <td>20.5346</td>\n",
       "    </tr>\n",
       "    <tr>\n",
       "      <th>1</th>\n",
       "      <td>Forward</td>\n",
       "      <td>A-&gt;S</td>\n",
       "      <td>-113.7698</td>\n",
       "      <td>-2.7749</td>\n",
       "      <td>16.0366</td>\n",
       "    </tr>\n",
       "    <tr>\n",
       "      <th>2</th>\n",
       "      <td>Backward</td>\n",
       "      <td>A-&gt;S</td>\n",
       "      <td>-117.9553</td>\n",
       "      <td>-2.8770</td>\n",
       "      <td>17.7602</td>\n",
       "    </tr>\n",
       "    <tr>\n",
       "      <th>3</th>\n",
       "      <td>Adv Base</td>\n",
       "      <td>S-&gt;A</td>\n",
       "      <td>-92.7872</td>\n",
       "      <td>-5.7992</td>\n",
       "      <td>330.0361</td>\n",
       "    </tr>\n",
       "    <tr>\n",
       "      <th>4</th>\n",
       "      <td>Adv Forward</td>\n",
       "      <td>A-&gt;S</td>\n",
       "      <td>-63.9409</td>\n",
       "      <td>-7.1045</td>\n",
       "      <td>1217.4864</td>\n",
       "    </tr>\n",
       "    <tr>\n",
       "      <th>5</th>\n",
       "      <td>Adv Backward</td>\n",
       "      <td>A-&gt;S</td>\n",
       "      <td>-57.0505</td>\n",
       "      <td>-6.3389</td>\n",
       "      <td>566.2004</td>\n",
       "    </tr>\n",
       "  </tbody>\n",
       "</table>\n",
       "</div>"
      ],
      "text/plain": [
       "     Model Type Query Direction  Sequence Log Prob  Normalized Log Prob  \\\n",
       "0          Base            S->A           -48.3538              -3.0221   \n",
       "1       Forward            A->S          -113.7698              -2.7749   \n",
       "2      Backward            A->S          -117.9553              -2.8770   \n",
       "3      Adv Base            S->A           -92.7872              -5.7992   \n",
       "4   Adv Forward            A->S           -63.9409              -7.1045   \n",
       "5  Adv Backward            A->S           -57.0505              -6.3389   \n",
       "\n",
       "   Perplexity  \n",
       "0     20.5346  \n",
       "1     16.0366  \n",
       "2     17.7602  \n",
       "3    330.0361  \n",
       "4   1217.4864  \n",
       "5    566.2004  "
      ]
     },
     "execution_count": 12,
     "metadata": {},
     "output_type": "execute_result"
    }
   ],
   "source": [
    "result_df = pd.DataFrame(scores_data)\n",
    "result_df"
   ]
  },
  {
   "cell_type": "markdown",
   "metadata": {},
   "source": [
    "## Linear Search"
   ]
  },
  {
   "cell_type": "code",
   "execution_count": 17,
   "metadata": {},
   "outputs": [
    {
     "name": "stdout",
     "output_type": "stream",
     "text": [
      "Dataset loaded successfully\n",
      "Example dataset item: {'article': 'LONDON, England (Reuters) -- Harry Potter star Daniel Radcliffe gains access to a reported £20 million ($41.1 million) fortune as he turns 18 on Monday, but he insists the money won\\'t cast a spell on him. Daniel Radcliffe as Harry Potter in \"Harry Potter and the Order of the Phoenix\" To the disappointment of gossip columnists around the world, the young actor says he has no plans to fritter his cash away on fast cars, drink and celebrity parties. \"I don\\'t plan to be one of those people who, as soon as they turn 18, suddenly buy themselves a massive sports car collection or something similar,\" he told an Australian interviewer earlier this month. \"I don\\'t think I\\'ll be particularly extravagant. \"The things I like buying are things that cost about 10 pounds -- books and CDs and DVDs.\" At 18, Radcliffe will be able to gamble in a casino, buy a drink in a pub or see the horror film \"Hostel: Part II,\" currently six places below his number one movie on the UK box office chart. Details of how he\\'ll mark his landmark birthday are under wraps. His agent and publicist had no comment on his plans. \"I\\'ll definitely have some sort of party,\" he said in an interview. \"Hopefully none of you will be reading about it.\" Radcliffe\\'s earnings from the first five Potter films have been held in a trust fund which he has not been able to touch. Despite his growing fame and riches, the actor says he is keeping his feet firmly on the ground. \"People are always looking to say \\'kid star goes off the rails,\\'\" he told reporters last month. \"But I try very hard not to go that way because it would be too easy for them.\" His latest outing as the boy wizard in \"Harry Potter and the Order of the Phoenix\" is breaking records on both sides of the Atlantic and he will reprise the role in the last two films.  Watch I-Reporter give her review of Potter\\'s latest » . There is life beyond Potter, however. The Londoner has filmed a TV movie called \"My Boy Jack,\" about author Rudyard Kipling and his son, due for release later this year. He will also appear in \"December Boys,\" an Australian film about four boys who escape an orphanage. Earlier this year, he made his stage debut playing a tortured teenager in Peter Shaffer\\'s \"Equus.\" Meanwhile, he is braced for even closer media scrutiny now that he\\'s legally an adult: \"I just think I\\'m going to be more sort of fair game,\" he told Reuters. E-mail to a friend . Copyright 2007 Reuters. All rights reserved.This material may not be published, broadcast, rewritten, or redistributed.', 'highlights': \"Harry Potter star Daniel Radcliffe gets £20M fortune as he turns 18 Monday .\\nYoung actor says he has no plans to fritter his cash away .\\nRadcliffe's earnings from first five Potter films have been held in trust fund .\", 'id': '42c027e4ff9730fbb3de84c1af0d2c506e41c3e4'}\n"
     ]
    }
   ],
   "source": [
    "dataset = load_cnn_dataset(num_samples=50)\n",
    "dataset = pd.DataFrame(dataset)"
   ]
  },
  {
   "cell_type": "code",
   "execution_count": 18,
   "metadata": {},
   "outputs": [
    {
     "data": {
      "text/html": [
       "<div>\n",
       "<style scoped>\n",
       "    .dataframe tbody tr th:only-of-type {\n",
       "        vertical-align: middle;\n",
       "    }\n",
       "\n",
       "    .dataframe tbody tr th {\n",
       "        vertical-align: top;\n",
       "    }\n",
       "\n",
       "    .dataframe thead th {\n",
       "        text-align: right;\n",
       "    }\n",
       "</style>\n",
       "<table border=\"1\" class=\"dataframe\">\n",
       "  <thead>\n",
       "    <tr style=\"text-align: right;\">\n",
       "      <th></th>\n",
       "      <th>article</th>\n",
       "      <th>highlights</th>\n",
       "      <th>id</th>\n",
       "    </tr>\n",
       "  </thead>\n",
       "  <tbody>\n",
       "    <tr>\n",
       "      <th>0</th>\n",
       "      <td>LONDON, England (Reuters) -- Harry Potter star Daniel Radcliffe gains access to a reported £20 million ($41.1 million) fortune as he turns 18 on Monday, but he insists the money won't cast a spell...</td>\n",
       "      <td>Harry Potter star Daniel Radcliffe gets £20M fortune as he turns 18 Monday .\\nYoung actor says he has no plans to fritter his cash away .\\nRadcliffe's earnings from first five Potter films have be...</td>\n",
       "      <td>42c027e4ff9730fbb3de84c1af0d2c506e41c3e4</td>\n",
       "    </tr>\n",
       "    <tr>\n",
       "      <th>1</th>\n",
       "      <td>Editor's note: In our Behind the Scenes series, CNN correspondents share their experiences in covering news and analyze the stories behind the events. Here, Soledad O'Brien takes users inside a ja...</td>\n",
       "      <td>Mentally ill inmates in Miami are housed on the \"forgotten floor\"\\nJudge Steven Leifman says most are there as a result of \"avoidable felonies\"\\nWhile CNN tours facility, patient shouts: \"I am the...</td>\n",
       "      <td>ee8871b15c50d0db17b0179a6d2beab35065f1e9</td>\n",
       "    </tr>\n",
       "    <tr>\n",
       "      <th>2</th>\n",
       "      <td>MINNEAPOLIS, Minnesota (CNN) -- Drivers who were on the Minneapolis bridge when it collapsed told harrowing tales of survival. \"The whole bridge from one side of the Mississippi to the other just ...</td>\n",
       "      <td>NEW: \"I thought I was going to die,\" driver says .\\nMan says pickup truck was folded in half; he just has cut on face .\\nDriver: \"I probably had a 30-, 35-foot free fall\"\\nMinnesota bridge collaps...</td>\n",
       "      <td>06352019a19ae31e527f37f7571c6dd7f0c5da37</td>\n",
       "    </tr>\n",
       "    <tr>\n",
       "      <th>3</th>\n",
       "      <td>WASHINGTON (CNN) -- Doctors removed five small polyps from President Bush's colon on Saturday, and \"none appeared worrisome,\" a White House spokesman said. The polyps were removed and sent to the ...</td>\n",
       "      <td>Five small polyps found during procedure; \"none worrisome,\" spokesman says .\\nPresident reclaims powers transferred to vice president .\\nBush undergoes routine colonoscopy at Camp David .</td>\n",
       "      <td>24521a2abb2e1f5e34e6824e0f9e56904a2b0e88</td>\n",
       "    </tr>\n",
       "    <tr>\n",
       "      <th>4</th>\n",
       "      <td>(CNN)  -- The National Football League has indefinitely suspended Atlanta Falcons quarterback Michael Vick without pay, officials with the league said Friday. NFL star Michael Vick is set to appea...</td>\n",
       "      <td>NEW: NFL chief, Atlanta Falcons owner critical of Michael Vick's conduct .\\nNFL suspends Falcons quarterback indefinitely without pay .\\nVick admits funding dogfighting operation but says he did n...</td>\n",
       "      <td>7fe70cc8b12fab2d0a258fababf7d9c6b5e1262a</td>\n",
       "    </tr>\n",
       "  </tbody>\n",
       "</table>\n",
       "</div>"
      ],
      "text/plain": [
       "                                                                                                                                                                                                   article  \\\n",
       "0  LONDON, England (Reuters) -- Harry Potter star Daniel Radcliffe gains access to a reported £20 million ($41.1 million) fortune as he turns 18 on Monday, but he insists the money won't cast a spell...   \n",
       "1  Editor's note: In our Behind the Scenes series, CNN correspondents share their experiences in covering news and analyze the stories behind the events. Here, Soledad O'Brien takes users inside a ja...   \n",
       "2  MINNEAPOLIS, Minnesota (CNN) -- Drivers who were on the Minneapolis bridge when it collapsed told harrowing tales of survival. \"The whole bridge from one side of the Mississippi to the other just ...   \n",
       "3  WASHINGTON (CNN) -- Doctors removed five small polyps from President Bush's colon on Saturday, and \"none appeared worrisome,\" a White House spokesman said. The polyps were removed and sent to the ...   \n",
       "4  (CNN)  -- The National Football League has indefinitely suspended Atlanta Falcons quarterback Michael Vick without pay, officials with the league said Friday. NFL star Michael Vick is set to appea...   \n",
       "\n",
       "                                                                                                                                                                                                highlights  \\\n",
       "0  Harry Potter star Daniel Radcliffe gets £20M fortune as he turns 18 Monday .\\nYoung actor says he has no plans to fritter his cash away .\\nRadcliffe's earnings from first five Potter films have be...   \n",
       "1  Mentally ill inmates in Miami are housed on the \"forgotten floor\"\\nJudge Steven Leifman says most are there as a result of \"avoidable felonies\"\\nWhile CNN tours facility, patient shouts: \"I am the...   \n",
       "2  NEW: \"I thought I was going to die,\" driver says .\\nMan says pickup truck was folded in half; he just has cut on face .\\nDriver: \"I probably had a 30-, 35-foot free fall\"\\nMinnesota bridge collaps...   \n",
       "3              Five small polyps found during procedure; \"none worrisome,\" spokesman says .\\nPresident reclaims powers transferred to vice president .\\nBush undergoes routine colonoscopy at Camp David .   \n",
       "4  NEW: NFL chief, Atlanta Falcons owner critical of Michael Vick's conduct .\\nNFL suspends Falcons quarterback indefinitely without pay .\\nVick admits funding dogfighting operation but says he did n...   \n",
       "\n",
       "                                         id  \n",
       "0  42c027e4ff9730fbb3de84c1af0d2c506e41c3e4  \n",
       "1  ee8871b15c50d0db17b0179a6d2beab35065f1e9  \n",
       "2  06352019a19ae31e527f37f7571c6dd7f0c5da37  \n",
       "3  24521a2abb2e1f5e34e6824e0f9e56904a2b0e88  \n",
       "4  7fe70cc8b12fab2d0a258fababf7d9c6b5e1262a  "
      ]
     },
     "execution_count": 18,
     "metadata": {},
     "output_type": "execute_result"
    }
   ],
   "source": [
    "dataset.head(5)"
   ]
  },
  {
   "cell_type": "code",
   "execution_count": 19,
   "metadata": {},
   "outputs": [],
   "source": [
    "all_pairs, meta = prepare_cnn_dataset(dataset)"
   ]
  },
  {
   "cell_type": "code",
   "execution_count": 20,
   "metadata": {},
   "outputs": [
    {
     "data": {
      "application/vnd.jupyter.widget-view+json": {
       "model_id": "325be1f503fd47f084d95c557a32fbe7",
       "version_major": 2,
       "version_minor": 0
      },
      "text/plain": [
       "  0%|          | 0/52 [00:00<?, ?it/s]"
      ]
     },
     "metadata": {},
     "output_type": "display_data"
    },
    {
     "data": {
      "application/vnd.jupyter.widget-view+json": {
       "model_id": "e5820e236337460aa13e1b6d99aa19f3",
       "version_major": 2,
       "version_minor": 0
      },
      "text/plain": [
       "  0%|          | 0/52 [00:00<?, ?it/s]"
      ]
     },
     "metadata": {},
     "output_type": "display_data"
    },
    {
     "ename": "KeyboardInterrupt",
     "evalue": "",
     "output_type": "error",
     "traceback": [
      "\u001b[0;31m---------------------------------------------------------------------------\u001b[0m",
      "\u001b[0;31mKeyboardInterrupt\u001b[0m                         Traceback (most recent call last)",
      "Cell \u001b[0;32mIn[20], line 1\u001b[0m\n\u001b[0;32m----> 1\u001b[0m linear_results \u001b[38;5;241m=\u001b[39m \u001b[43mlinear_attribution_search_batched\u001b[49m\u001b[43m(\u001b[49m\u001b[43mall_pairs\u001b[49m\u001b[43m,\u001b[49m\u001b[43m \u001b[49m\u001b[43mmeta\u001b[49m\u001b[43m,\u001b[49m\u001b[43m \u001b[49m\u001b[43mfo_model\u001b[49m\u001b[43m,\u001b[49m\u001b[43m \u001b[49m\u001b[43mfo_tokenizer\u001b[49m\u001b[43m,\u001b[49m\u001b[43m \u001b[49m\u001b[43mba_model\u001b[49m\u001b[43m,\u001b[49m\u001b[43m \u001b[49m\u001b[43mba_tokenizer\u001b[49m\u001b[43m)\u001b[49m\n",
      "File \u001b[0;32m~/Workspace/Programming_Projects/idls25/idl-project/src/search.py:119\u001b[0m, in \u001b[0;36mlinear_attribution_search_batched\u001b[0;34m(pairs, meta, fo_model, fo_tokenizer, ba_model, ba_tokenizer, batch_size)\u001b[0m\n\u001b[1;32m    117\u001b[0m \u001b[38;5;66;03m# Compute all three sets of scores\u001b[39;00m\n\u001b[1;32m    118\u001b[0m base_scores \u001b[38;5;241m=\u001b[39m batch_score_all(fo_model, fo_tokenizer, backward\u001b[38;5;241m=\u001b[39m\u001b[38;5;28;01mFalse\u001b[39;00m, direction\u001b[38;5;241m=\u001b[39m\u001b[38;5;124m\"\u001b[39m\u001b[38;5;124mnormal\u001b[39m\u001b[38;5;124m\"\u001b[39m)\n\u001b[0;32m--> 119\u001b[0m fo_scores   \u001b[38;5;241m=\u001b[39m \u001b[43mbatch_score_all\u001b[49m\u001b[43m(\u001b[49m\u001b[43mfo_model\u001b[49m\u001b[43m,\u001b[49m\u001b[43m \u001b[49m\u001b[43mfo_tokenizer\u001b[49m\u001b[43m,\u001b[49m\u001b[43m \u001b[49m\u001b[43mbackward\u001b[49m\u001b[38;5;241;43m=\u001b[39;49m\u001b[38;5;28;43;01mFalse\u001b[39;49;00m\u001b[43m,\u001b[49m\u001b[43m \u001b[49m\u001b[43mdirection\u001b[49m\u001b[38;5;241;43m=\u001b[39;49m\u001b[38;5;124;43m\"\u001b[39;49m\u001b[38;5;124;43mreverse\u001b[39;49m\u001b[38;5;124;43m\"\u001b[39;49m\u001b[43m)\u001b[49m\n\u001b[1;32m    120\u001b[0m ba_scores   \u001b[38;5;241m=\u001b[39m batch_score_all(ba_model, ba_tokenizer, backward\u001b[38;5;241m=\u001b[39m\u001b[38;5;28;01mTrue\u001b[39;00m,  direction\u001b[38;5;241m=\u001b[39m\u001b[38;5;124m\"\u001b[39m\u001b[38;5;124mreverse\u001b[39m\u001b[38;5;124m\"\u001b[39m)\n\u001b[1;32m    122\u001b[0m \u001b[38;5;66;03m# Group and aggregate best scores per article ID\u001b[39;00m\n",
      "File \u001b[0;32m~/Workspace/Programming_Projects/idls25/idl-project/src/search.py:110\u001b[0m, in \u001b[0;36mlinear_attribution_search_batched.<locals>.batch_score_all\u001b[0;34m(model, tokenizer, backward, direction)\u001b[0m\n\u001b[1;32m    108\u001b[0m     batch_q \u001b[38;5;241m=\u001b[39m highlights[i:i\u001b[38;5;241m+\u001b[39mbatch_size]\n\u001b[1;32m    109\u001b[0m     batch_a \u001b[38;5;241m=\u001b[39m article_sents[i:i\u001b[38;5;241m+\u001b[39mbatch_size]\n\u001b[0;32m--> 110\u001b[0m     batch_scores \u001b[38;5;241m=\u001b[39m \u001b[43mcalculate_score_batch\u001b[49m\u001b[43m(\u001b[49m\n\u001b[1;32m    111\u001b[0m \u001b[43m        \u001b[49m\u001b[43mbatch_q\u001b[49m\u001b[43m,\u001b[49m\u001b[43m \u001b[49m\u001b[43mbatch_a\u001b[49m\u001b[43m,\u001b[49m\u001b[43m \u001b[49m\u001b[43mmodel\u001b[49m\u001b[43m,\u001b[49m\u001b[43m \u001b[49m\u001b[43mtokenizer\u001b[49m\u001b[43m,\u001b[49m\n\u001b[1;32m    112\u001b[0m \u001b[43m        \u001b[49m\u001b[43mbackward\u001b[49m\u001b[38;5;241;43m=\u001b[39;49m\u001b[43mbackward\u001b[49m\u001b[43m,\u001b[49m\u001b[43m \u001b[49m\u001b[43mquery_direction\u001b[49m\u001b[38;5;241;43m=\u001b[39;49m\u001b[43mdirection\u001b[49m\n\u001b[1;32m    113\u001b[0m \u001b[43m    \u001b[49m\u001b[43m)\u001b[49m\n\u001b[1;32m    114\u001b[0m     scores\u001b[38;5;241m.\u001b[39mextend(batch_scores)\n\u001b[1;32m    115\u001b[0m \u001b[38;5;28;01mreturn\u001b[39;00m scores\n",
      "File \u001b[0;32m~/Workspace/Programming_Projects/idls25/idl-project/src/utils.py:353\u001b[0m, in \u001b[0;36mcalculate_score_batch\u001b[0;34m(queries, answers, model, tokenizer, backward, query_direction, task, debug)\u001b[0m\n\u001b[1;32m    350\u001b[0m input_ids_batch \u001b[38;5;241m=\u001b[39m t\u001b[38;5;241m.\u001b[39mstack(input_ids_batch)\u001b[38;5;241m.\u001b[39mto(model\u001b[38;5;241m.\u001b[39mdevice)\n\u001b[1;32m    352\u001b[0m \u001b[38;5;66;03m# Compute token probabilities for the batch\u001b[39;00m\n\u001b[0;32m--> 353\u001b[0m \u001b[38;5;28;01mreturn\u001b[39;00m \u001b[43mcompute_token_probabilities_batch\u001b[49m\u001b[43m(\u001b[49m\u001b[43minput_ids_batch\u001b[49m\u001b[43m,\u001b[49m\u001b[43m \u001b[49m\u001b[43mmodel\u001b[49m\u001b[43m,\u001b[49m\u001b[43m \u001b[49m\u001b[43mtokenizer\u001b[49m\u001b[43m,\u001b[49m\u001b[43m \u001b[49m\u001b[43mcontext_lengths\u001b[49m\u001b[43m,\u001b[49m\u001b[43m \u001b[49m\u001b[43mtarget_lengths\u001b[49m\u001b[43m)\u001b[49m\n",
      "File \u001b[0;32m~/Workspace/Programming_Projects/idls25/idl-project/src/utils.py:218\u001b[0m, in \u001b[0;36mcompute_token_probabilities_batch\u001b[0;34m(input_ids_batch, model, tokenizer, context_lens, target_lens)\u001b[0m\n\u001b[1;32m    215\u001b[0m next_token_logits \u001b[38;5;241m=\u001b[39m logits[batch_idx, i, :]\n\u001b[1;32m    217\u001b[0m \u001b[38;5;66;03m# Get the actual token that should follow\u001b[39;00m\n\u001b[0;32m--> 218\u001b[0m next_token_id \u001b[38;5;241m=\u001b[39m \u001b[43minput_ids\u001b[49m\u001b[43m[\u001b[49m\u001b[43mi\u001b[49m\u001b[38;5;241;43m+\u001b[39;49m\u001b[38;5;241;43m1\u001b[39;49m\u001b[43m]\u001b[49m\u001b[38;5;241;43m.\u001b[39;49m\u001b[43mitem\u001b[49m\u001b[43m(\u001b[49m\u001b[43m)\u001b[49m\n\u001b[1;32m    220\u001b[0m \u001b[38;5;66;03m# Convert logits to probabilities\u001b[39;00m\n\u001b[1;32m    221\u001b[0m next_token_probs \u001b[38;5;241m=\u001b[39m F\u001b[38;5;241m.\u001b[39msoftmax(next_token_logits, dim\u001b[38;5;241m=\u001b[39m\u001b[38;5;241m0\u001b[39m)\n",
      "\u001b[0;31mKeyboardInterrupt\u001b[0m: "
     ]
    }
   ],
   "source": [
    "linear_results = linear_attribution_search_batched(all_pairs, meta, fo_model, fo_tokenizer, ba_model, ba_tokenizer)"
   ]
  },
  {
   "cell_type": "code",
   "execution_count": null,
   "metadata": {},
   "outputs": [
    {
     "data": {
      "application/vnd.jupyter.widget-view+json": {
       "model_id": "fc89d7b14e6146e4af77e21389d7e3f0",
       "version_major": 2,
       "version_minor": 0
      },
      "text/plain": [
       "  0%|          | 0/100 [00:00<?, ?it/s]"
      ]
     },
     "metadata": {},
     "output_type": "display_data"
    }
   ],
   "source": [
    "linear_results = linear_attribution_search(dataset, fo_model, fo_tokenizer, ba_model, ba_tokenizer)"
   ]
  },
  {
   "cell_type": "code",
   "execution_count": 26,
   "metadata": {},
   "outputs": [
    {
     "data": {
      "application/vnd.jupyter.widget-view+json": {
       "model_id": "892b671217094a449f3b063ce1806875",
       "version_major": 2,
       "version_minor": 0
      },
      "text/plain": [
       "  0%|          | 0/100 [00:00<?, ?it/s]"
      ]
     },
     "metadata": {},
     "output_type": "display_data"
    }
   ],
   "source": [
    "binary_results = binary_search_attribution_search(dataset, fo_model, fo_tokenizer, ba_model, ba_tokenizer)"
   ]
  },
  {
   "cell_type": "code",
   "execution_count": 27,
   "metadata": {},
   "outputs": [
    {
     "data": {
      "application/vnd.jupyter.widget-view+json": {
       "model_id": "3f055e62f1a24a37a35bc7c59ce802ac",
       "version_major": 2,
       "version_minor": 0
      },
      "text/plain": [
       "  0%|          | 0/100 [00:00<?, ?it/s]"
      ]
     },
     "metadata": {},
     "output_type": "display_data"
    }
   ],
   "source": [
    "exclusion_results = exclusion_search_attribution_search(dataset, fo_model, fo_tokenizer, ba_model, ba_tokenizer)"
   ]
  },
  {
   "cell_type": "code",
   "execution_count": 28,
   "metadata": {},
   "outputs": [
    {
     "name": "stderr",
     "output_type": "stream",
     "text": [
      "/jet/home/iwiryadi/.local/lib/python3.10/site-packages/huggingface_hub/file_download.py:896: FutureWarning: `resume_download` is deprecated and will be removed in version 1.0.0. Downloads always resume when possible. If you want to force a new download, use `force_download=True`.\n",
      "  warnings.warn(\n",
      "/opt/packages/AI/pytorch_23.02-1.13.1-py3/lib/python3.10/site-packages/scipy/spatial/distance.py:622: RuntimeWarning: invalid value encountered in double_scalars\n",
      "  dist = 1.0 - uv / np.sqrt(uu * vv)\n"
     ]
    }
   ],
   "source": [
    "def calculate_embedding_similarity(highlight, citation):\n",
    "    \"\"\"Calculate cosine similarity between sentence embeddings.\"\"\"\n",
    "    model = SentenceTransformer('all-MiniLM-L6-v2')\n",
    "    \n",
    "    # Generate embeddings\n",
    "    highlight_embedding = model.encode([highlight])[0]\n",
    "    citation_embedding = model.encode([citation])[0]\n",
    "    \n",
    "    # Calculate cosine similarity (1 - cosine distance)\n",
    "    similarity = 1 - cosine(highlight_embedding, citation_embedding)\n",
    "    return similarity\n",
    "\n",
    "def calculate_rouge_score(highlight, citation):\n",
    "    \"\"\"Calculate ROUGE-L F-measure score.\"\"\"\n",
    "    scorer = rouge_scorer.RougeScorer(['rougeL'], use_stemmer=True)\n",
    "    scores = scorer.score(highlight, citation)\n",
    "    return scores['rougeL'].fmeasure\n",
    "\n",
    "def calculate_tfidf_score(highlight, citation):\n",
    "    \"\"\"Calculate TF-IDF similarity score.\"\"\"\n",
    "    vectorizer = TfidfVectorizer()\n",
    "    tfidf_matrix = vectorizer.fit_transform([highlight, citation])\n",
    "    \n",
    "    # Convert sparse matrix to dense array for cosine similarity calculation\n",
    "    dense_matrix = tfidf_matrix.toarray()\n",
    "    \n",
    "    # Calculate cosine similarity\n",
    "    similarity = 1 - cosine(dense_matrix[0], dense_matrix[1])\n",
    "    return similarity\n",
    "\n",
    "def process_data(data):\n",
    "    \"\"\"Process the data and reformat to show scores by citation type in columns.\"\"\"\n",
    "    results = []\n",
    "    \n",
    "    for item in data:\n",
    "        highlight = item['highlight']\n",
    "        result_entry = {'id': item['id'], 'highlight': highlight}\n",
    "        \n",
    "        # Process each citation type\n",
    "        for citation_type in ['base_citation', 'ba_citation', 'fo_citation']:\n",
    "            prefix = citation_type.split('_')[0]  # Extract 'base', 'ba', or 'fo'\n",
    "            \n",
    "            if citation_type in item and item[citation_type]:\n",
    "                citation = item[citation_type]\n",
    "                \n",
    "                # Calculate scores\n",
    "                emb_similarity = calculate_embedding_similarity(highlight, citation)\n",
    "                rouge_score = calculate_rouge_score(highlight, citation)\n",
    "                tfidf_score = calculate_tfidf_score(highlight, citation)\n",
    "                \n",
    "                # Add scores as columns with prefix\n",
    "                result_entry[f'{prefix}_emb_similarity'] = emb_similarity\n",
    "                result_entry[f'{prefix}_rouge_score'] = rouge_score\n",
    "                result_entry[f'{prefix}_tfidf_score'] = tfidf_score\n",
    "                \n",
    "            else:\n",
    "                # Set default values if citation doesn't exist\n",
    "                result_entry[f'{prefix}_emb_similarity'] = None\n",
    "                result_entry[f'{prefix}_rouge_score'] = None\n",
    "                result_entry[f'{prefix}_tfidf_score'] = None\n",
    "                \n",
    "        results.append(result_entry)\n",
    "    \n",
    "    return results\n",
    "\n",
    "# Process the data\n",
    "linear_final_results = process_data(linear_results)\n",
    "binary_final_results = process_data(binary_results)\n",
    "exclusion_final_results = process_data(exclusion_results)\n"
   ]
  },
  {
   "cell_type": "code",
   "execution_count": 29,
   "metadata": {},
   "outputs": [
    {
     "data": {
      "text/plain": [
       "base_emb_similarity   0.4425\n",
       "base_rouge_score      0.1945\n",
       "base_tfidf_score      0.1664\n",
       "ba_emb_similarity     0.6453\n",
       "ba_rouge_score        0.3099\n",
       "ba_tfidf_score        0.2708\n",
       "fo_emb_similarity     0.6380\n",
       "fo_rouge_score        0.3206\n",
       "fo_tfidf_score        0.2855\n",
       "dtype: float64"
      ]
     },
     "execution_count": 29,
     "metadata": {},
     "output_type": "execute_result"
    }
   ],
   "source": [
    "r = pd.DataFrame(linear_final_results) \n",
    "r.drop(['id', 'highlight'], axis=1).mean()"
   ]
  },
  {
   "cell_type": "code",
   "execution_count": 30,
   "metadata": {},
   "outputs": [
    {
     "data": {
      "text/plain": [
       "base_emb_similarity   0.4260\n",
       "base_rouge_score      0.1673\n",
       "base_tfidf_score      0.1448\n",
       "ba_emb_similarity     0.6403\n",
       "ba_rouge_score        0.3137\n",
       "ba_tfidf_score        0.2745\n",
       "fo_emb_similarity     0.6378\n",
       "fo_rouge_score        0.3302\n",
       "fo_tfidf_score        0.2923\n",
       "dtype: float64"
      ]
     },
     "execution_count": 30,
     "metadata": {},
     "output_type": "execute_result"
    }
   ],
   "source": [
    "r = pd.DataFrame(binary_final_results) \n",
    "r.drop(['id', 'highlight'], axis=1).mean()"
   ]
  },
  {
   "cell_type": "code",
   "execution_count": 31,
   "metadata": {},
   "outputs": [
    {
     "data": {
      "text/plain": [
       "base_emb_similarity   0.4007\n",
       "base_rouge_score      0.1688\n",
       "base_tfidf_score      0.1433\n",
       "ba_emb_similarity     0.6219\n",
       "ba_rouge_score        0.3161\n",
       "ba_tfidf_score        0.2895\n",
       "fo_emb_similarity     0.6041\n",
       "fo_rouge_score        0.3204\n",
       "fo_tfidf_score        0.2921\n",
       "dtype: float64"
      ]
     },
     "execution_count": 31,
     "metadata": {},
     "output_type": "execute_result"
    }
   ],
   "source": [
    "r = pd.DataFrame(exclusion_final_results) \n",
    "r.drop(['id', 'highlight'], axis=1).mean()"
   ]
  },
  {
   "cell_type": "code",
   "execution_count": 32,
   "metadata": {},
   "outputs": [
    {
     "data": {
      "text/html": [
       "<div>\n",
       "<style scoped>\n",
       "    .dataframe tbody tr th:only-of-type {\n",
       "        vertical-align: middle;\n",
       "    }\n",
       "\n",
       "    .dataframe tbody tr th {\n",
       "        vertical-align: top;\n",
       "    }\n",
       "\n",
       "    .dataframe thead th {\n",
       "        text-align: right;\n",
       "    }\n",
       "</style>\n",
       "<table border=\"1\" class=\"dataframe\">\n",
       "  <thead>\n",
       "    <tr style=\"text-align: right;\">\n",
       "      <th></th>\n",
       "      <th>Base_linear</th>\n",
       "      <th>Fo_linear</th>\n",
       "      <th>Ba_linear</th>\n",
       "      <th>Base_binary</th>\n",
       "      <th>Fo_binary</th>\n",
       "      <th>Ba_binary</th>\n",
       "    </tr>\n",
       "  </thead>\n",
       "  <tbody>\n",
       "    <tr>\n",
       "      <th>Embedding</th>\n",
       "      <td>0.4425</td>\n",
       "      <td>0.6380</td>\n",
       "      <td>0.6453</td>\n",
       "      <td>0.4260</td>\n",
       "      <td>0.6378</td>\n",
       "      <td>0.6403</td>\n",
       "    </tr>\n",
       "    <tr>\n",
       "      <th>Rouge</th>\n",
       "      <td>0.1945</td>\n",
       "      <td>0.3206</td>\n",
       "      <td>0.3099</td>\n",
       "      <td>0.1673</td>\n",
       "      <td>0.3302</td>\n",
       "      <td>0.3137</td>\n",
       "    </tr>\n",
       "    <tr>\n",
       "      <th>Tfidf</th>\n",
       "      <td>0.1664</td>\n",
       "      <td>0.2855</td>\n",
       "      <td>0.2708</td>\n",
       "      <td>0.1448</td>\n",
       "      <td>0.2923</td>\n",
       "      <td>0.2745</td>\n",
       "    </tr>\n",
       "  </tbody>\n",
       "</table>\n",
       "</div>"
      ],
      "text/plain": [
       "           Base_linear  Fo_linear  Ba_linear  Base_binary  Fo_binary  \\\n",
       "Embedding       0.4425     0.6380     0.6453       0.4260     0.6378   \n",
       "Rouge           0.1945     0.3206     0.3099       0.1673     0.3302   \n",
       "Tfidf           0.1664     0.2855     0.2708       0.1448     0.2923   \n",
       "\n",
       "           Ba_binary  \n",
       "Embedding     0.6403  \n",
       "Rouge         0.3137  \n",
       "Tfidf         0.2745  "
      ]
     },
     "execution_count": 32,
     "metadata": {},
     "output_type": "execute_result"
    }
   ],
   "source": [
    "df_linear = pd.DataFrame(linear_final_results)\n",
    "df_binary = pd.DataFrame(binary_final_results)\n",
    "df_exclusion = pd.DataFrame(exclusion_final_results)\n",
    "\n",
    "df_merged = pd.merge(df_linear, df_binary, on=['id', 'highlight'],suffixes=('_linear', '_binary'))\n",
    "\n",
    "df_exclusion = df_exclusion.add_suffix('_exclusion')\n",
    "df_exclusion = df_exclusion.rename(columns={'id_exclusion': 'id', 'highlight_exclusion': 'highlight'})\n",
    "\n",
    "df_merged = pd.merge(df_merged, df_exclusion, on=['id', 'highlight'])\n",
    "\n",
    "mean_series = df_merged.drop(['id', 'highlight'], axis=1).mean()\n",
    "\n",
    "data = {\n",
    "    'Base_linear': [\n",
    "        mean_series['base_emb_similarity_linear'],\n",
    "        mean_series['base_rouge_score_linear'],\n",
    "        mean_series['base_tfidf_score_linear']\n",
    "    ],\n",
    "    'Fo_linear': [\n",
    "        mean_series['fo_emb_similarity_linear'],\n",
    "        mean_series['fo_rouge_score_linear'],\n",
    "        mean_series['fo_tfidf_score_linear']\n",
    "    ],\n",
    "    'Ba_linear': [\n",
    "        mean_series['ba_emb_similarity_linear'],\n",
    "        mean_series['ba_rouge_score_linear'],\n",
    "        mean_series['ba_tfidf_score_linear']\n",
    "    ],\n",
    "    'Base_binary': [\n",
    "        mean_series['base_emb_similarity_binary'],\n",
    "        mean_series['base_rouge_score_binary'],\n",
    "        mean_series['base_tfidf_score_binary']\n",
    "    ],\n",
    "    'Fo_binary': [\n",
    "        mean_series['fo_emb_similarity_binary'],\n",
    "        mean_series['fo_rouge_score_binary'],\n",
    "        mean_series['fo_tfidf_score_binary']\n",
    "    ],\n",
    "    'Ba_binary': [\n",
    "        mean_series['ba_emb_similarity_binary'],\n",
    "        mean_series['ba_rouge_score_binary'],\n",
    "        mean_series['ba_tfidf_score_binary']\n",
    "    ]\n",
    "}\n",
    "\n",
    "table_df = pd.DataFrame(data, index=['Embedding', 'Rouge', 'Tfidf'])\n",
    "table_df"
   ]
  },
  {
   "cell_type": "code",
   "execution_count": null,
   "metadata": {},
   "outputs": [],
   "source": []
  },
  {
   "cell_type": "code",
   "execution_count": null,
   "metadata": {},
   "outputs": [],
   "source": []
  },
  {
   "cell_type": "code",
   "execution_count": null,
   "metadata": {},
   "outputs": [],
   "source": []
  },
  {
   "cell_type": "code",
   "execution_count": null,
   "metadata": {},
   "outputs": [],
   "source": []
  },
  {
   "cell_type": "code",
   "execution_count": null,
   "metadata": {},
   "outputs": [],
   "source": []
  },
  {
   "cell_type": "code",
   "execution_count": null,
   "metadata": {},
   "outputs": [],
   "source": []
  },
  {
   "cell_type": "code",
   "execution_count": null,
   "metadata": {},
   "outputs": [],
   "source": []
  },
  {
   "cell_type": "code",
   "execution_count": null,
   "metadata": {},
   "outputs": [],
   "source": []
  },
  {
   "cell_type": "code",
   "execution_count": null,
   "metadata": {},
   "outputs": [],
   "source": []
  }
 ],
 "metadata": {
  "kernelspec": {
   "display_name": ".venv",
   "language": "python",
   "name": "python3"
  },
  "language_info": {
   "codemirror_mode": {
    "name": "ipython",
    "version": 3
   },
   "file_extension": ".py",
   "mimetype": "text/x-python",
   "name": "python",
   "nbconvert_exporter": "python",
   "pygments_lexer": "ipython3",
   "version": "3.10.15"
  }
 },
 "nbformat": 4,
 "nbformat_minor": 2
}
