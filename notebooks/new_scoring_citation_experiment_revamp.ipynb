{
 "cells": [
  {
   "cell_type": "markdown",
   "metadata": {},
   "source": [
    "# Scoring and Citations Testbed\n",
    "---"
   ]
  },
  {
   "cell_type": "markdown",
   "metadata": {},
   "source": []
  },
  {
   "cell_type": "markdown",
   "metadata": {},
   "source": [
    "## Import Libraries"
   ]
  },
  {
   "cell_type": "code",
   "execution_count": 23,
   "metadata": {},
   "outputs": [],
   "source": [
    "import sys \n",
    "import os \n",
    "sys.path.append(os.path.abspath(os.path.join(os.getcwd(), '..')))"
   ]
  },
  {
   "cell_type": "code",
   "execution_count": 24,
   "metadata": {},
   "outputs": [],
   "source": [
    "import torch as t\n",
    "import numpy as np\n",
    "import pandas as pd\n",
    "import torch.nn.functional as F\n",
    "from tqdm.auto import tqdm\n",
    "\n",
    "from transformers import GPTNeoXForCausalLM, AutoTokenizer\n",
    "from datasets import load_dataset, Dataset\n",
    "from sentence_transformers import SentenceTransformer, util\n",
    "\n",
    "from sklearn.feature_extraction.text import TfidfVectorizer\n",
    "from sklearn.metrics.pairwise import cosine_similarity\n",
    "\n",
    "import nltk\n",
    "from nltk.translate.bleu_score import sentence_bleu, SmoothingFunction\n",
    "from rouge_score import rouge_scorer\n",
    "from nltk.tokenize import sent_tokenize\n",
    "\n",
    "from sentence_transformers import SentenceTransformer\n",
    "from rouge_score import rouge_scorer\n",
    "from sklearn.feature_extraction.text import TfidfVectorizer\n",
    "import ast\n",
    "import re\n",
    "from scipy.spatial.distance import cosine\n"
   ]
  },
  {
   "cell_type": "code",
   "execution_count": 37,
   "metadata": {},
   "outputs": [],
   "source": [
    "from src.model import load_fo_model, load_ba_model, DEVICE\n",
    "from src.data import load_cnn_dataset\n",
    "from src.utils import *\n",
    "from src.search import *"
   ]
  },
  {
   "cell_type": "code",
   "execution_count": 26,
   "metadata": {},
   "outputs": [],
   "source": [
    "pd.set_option('display.max_colwidth', 200)\n",
    "pd.set_option('display.float_format', '{:.4f}'.format)"
   ]
  },
  {
   "cell_type": "code",
   "execution_count": 27,
   "metadata": {},
   "outputs": [
    {
     "data": {
      "text/plain": [
       "'mps'"
      ]
     },
     "execution_count": 27,
     "metadata": {},
     "output_type": "execute_result"
    }
   ],
   "source": [
    "DEVICE"
   ]
  },
  {
   "cell_type": "markdown",
   "metadata": {},
   "source": [
    "## Quick Test"
   ]
  },
  {
   "cell_type": "code",
   "execution_count": 28,
   "metadata": {},
   "outputs": [],
   "source": [
    "# Load the models\n",
    "fo_model, fo_tokenizer = load_fo_model()\n",
    "ba_model, ba_tokenizer = load_ba_model()\n",
    "\n",
    "# Example Text\n",
    "article = \"Harry Potter star Daniel Radcliffe gains access to a reported £20 million ($41.1 million) fortune as he turns 18 on Monday, but he insists the money won't cast a spell on him.\"\n",
    "summary = \"Harry Potter star Daniel Radcliffe gets £20M fortune as he turns 18 Monday\"\n",
    "adverse_summary = \"Daniel Craig is recasted as James Bond again\""
   ]
  },
  {
   "cell_type": "code",
   "execution_count": 29,
   "metadata": {},
   "outputs": [
    {
     "name": "stdout",
     "output_type": "stream",
     "text": [
      "Context: Harry Potter star Daniel Radcliffe gets £20M fortune as he turns 18 Mondayis a summary of\n",
      "Target: Harry Potter star Daniel Radcliffe gains access to a reported £20 million ($41.1 million) fortune as he turns 18 on Monday, but he insists the money won't cast a spell on him.\n",
      "Full sentence: Harry Potter star Daniel Radcliffe gets £20M fortune as he turns 18 Mondayis a summary ofHarry Potter star Daniel Radcliffe gains access to a reported £20 million ($41.1 million) fortune as he turns 18 on Monday, but he insists the money won't cast a spell on him.\n",
      "\n",
      "Context: Harry Potter star Daniel Radcliffe gains access to a reported £20 million ($41.1 million) fortune as he turns 18 on Monday, but he insists the money won't cast a spell on him.is a summary of\n",
      "Target: Harry Potter star Daniel Radcliffe gets £20M fortune as he turns 18 Monday\n",
      "Full sentence: Harry Potter star Daniel Radcliffe gains access to a reported £20 million ($41.1 million) fortune as he turns 18 on Monday, but he insists the money won't cast a spell on him.is a summary ofHarry Potter star Daniel Radcliffe gets £20M fortune as he turns 18 Monday\n",
      "\n",
      "Context: is summarized byHarry Potter star Daniel Radcliffe gains access to a reported £20 million ($41.1 million) fortune as he turns 18 on Monday, but he insists the money won't cast a spell on him.\n",
      "Target: Harry Potter star Daniel Radcliffe gets £20M fortune as he turns 18 Monday\n",
      "Full sentence: Harry Potter star Daniel Radcliffe gets £20M fortune as he turns 18 Mondayis summarized byHarry Potter star Daniel Radcliffe gains access to a reported £20 million ($41.1 million) fortune as he turns 18 on Monday, but he insists the money won't cast a spell on him.\n",
      "\n",
      "Context: Daniel Craig is recasted as James Bond againis a summary of\n",
      "Target: Harry Potter star Daniel Radcliffe gains access to a reported £20 million ($41.1 million) fortune as he turns 18 on Monday, but he insists the money won't cast a spell on him.\n",
      "Full sentence: Daniel Craig is recasted as James Bond againis a summary ofHarry Potter star Daniel Radcliffe gains access to a reported £20 million ($41.1 million) fortune as he turns 18 on Monday, but he insists the money won't cast a spell on him.\n",
      "\n",
      "Context: Harry Potter star Daniel Radcliffe gains access to a reported £20 million ($41.1 million) fortune as he turns 18 on Monday, but he insists the money won't cast a spell on him.is a summary of\n",
      "Target: Daniel Craig is recasted as James Bond again\n",
      "Full sentence: Harry Potter star Daniel Radcliffe gains access to a reported £20 million ($41.1 million) fortune as he turns 18 on Monday, but he insists the money won't cast a spell on him.is a summary ofDaniel Craig is recasted as James Bond again\n",
      "\n",
      "Context: is summarized byHarry Potter star Daniel Radcliffe gains access to a reported £20 million ($41.1 million) fortune as he turns 18 on Monday, but he insists the money won't cast a spell on him.\n",
      "Target: Daniel Craig is recasted as James Bond again\n",
      "Full sentence: Daniel Craig is recasted as James Bond againis summarized byHarry Potter star Daniel Radcliffe gains access to a reported £20 million ($41.1 million) fortune as he turns 18 on Monday, but he insists the money won't cast a spell on him.\n",
      "\n"
     ]
    }
   ],
   "source": [
    "debug = True\n",
    "\n",
    "# In normal, query is sentence/article, and answer is summary/highlight (S->A direction)\n",
    "base = calculate_score(summary, article, fo_model, fo_tokenizer, backward=False, query_direction=\"normal\", debug=debug)\n",
    "\n",
    "# In Fo, query is summary/highlight , and answer is sentence/article(A->S direction)\n",
    "fo = calculate_score(summary, article, fo_model, fo_tokenizer, backward=False, query_direction=\"reverse\", debug=debug)\n",
    "\n",
    "# In Ba, query is summary/highlight , and answer is sentence/article(A->S direction)\n",
    "ba = calculate_score(summary, article, ba_model, ba_tokenizer, backward=True, query_direction=\"reverse\", debug=debug)\n",
    "\n",
    "\n",
    "adv_base = calculate_score(adverse_summary, article, fo_model, fo_tokenizer, backward=False, query_direction=\"normal\", debug=debug)\n",
    "\n",
    "adv_fo = calculate_score(adverse_summary, article, fo_model, fo_tokenizer, backward=False, query_direction=\"reverse\", debug=debug)\n",
    "\n",
    "adv_ba = calculate_score(adverse_summary, article, ba_model, ba_tokenizer, backward=True, query_direction=\"reverse\", debug=debug)\n",
    "\n",
    "\n",
    "scores_data = {\n",
    "    'Model Type': ['Base', 'Forward', 'Backward', 'Adv Base', 'Adv Forward', 'Adv Backward'],\n",
    "    \n",
    "    'Query Direction': ['S->A', 'A->S', 'A->S', 'S->A', 'A->S', 'A->S'],\n",
    "    \n",
    "    'Sequence Log Prob': [\n",
    "        base['sequence_log_prob'],\n",
    "        fo['sequence_log_prob'],\n",
    "        ba['sequence_log_prob'],\n",
    "        \n",
    "        adv_base['sequence_log_prob'],\n",
    "        adv_fo['sequence_log_prob'],\n",
    "        adv_ba['sequence_log_prob'],\n",
    "    ],\n",
    "    'Normalized Log Prob': [\n",
    "        base['normalized_log_prob'],\n",
    "        fo['normalized_log_prob'],\n",
    "        ba['normalized_log_prob'],\n",
    "        \n",
    "        adv_base['normalized_log_prob'],\n",
    "        adv_fo['normalized_log_prob'],\n",
    "        adv_ba['normalized_log_prob'],\n",
    "    ],\n",
    "    'Perplexity': [\n",
    "        base['perplexity'],\n",
    "        fo['perplexity'],\n",
    "        ba['perplexity'],\n",
    "        \n",
    "        adv_base['perplexity'],\n",
    "        adv_fo['perplexity'],\n",
    "        adv_ba['perplexity'],\n",
    "    ]\n",
    "}"
   ]
  },
  {
   "cell_type": "code",
   "execution_count": 30,
   "metadata": {},
   "outputs": [
    {
     "data": {
      "text/html": [
       "<div>\n",
       "<style scoped>\n",
       "    .dataframe tbody tr th:only-of-type {\n",
       "        vertical-align: middle;\n",
       "    }\n",
       "\n",
       "    .dataframe tbody tr th {\n",
       "        vertical-align: top;\n",
       "    }\n",
       "\n",
       "    .dataframe thead th {\n",
       "        text-align: right;\n",
       "    }\n",
       "</style>\n",
       "<table border=\"1\" class=\"dataframe\">\n",
       "  <thead>\n",
       "    <tr style=\"text-align: right;\">\n",
       "      <th></th>\n",
       "      <th>Model Type</th>\n",
       "      <th>Query Direction</th>\n",
       "      <th>Sequence Log Prob</th>\n",
       "      <th>Normalized Log Prob</th>\n",
       "      <th>Perplexity</th>\n",
       "    </tr>\n",
       "  </thead>\n",
       "  <tbody>\n",
       "    <tr>\n",
       "      <th>0</th>\n",
       "      <td>Base</td>\n",
       "      <td>S-&gt;A</td>\n",
       "      <td>-113.7681</td>\n",
       "      <td>-2.7748</td>\n",
       "      <td>16.0359</td>\n",
       "    </tr>\n",
       "    <tr>\n",
       "      <th>1</th>\n",
       "      <td>Forward</td>\n",
       "      <td>A-&gt;S</td>\n",
       "      <td>-48.3574</td>\n",
       "      <td>-3.0223</td>\n",
       "      <td>20.5393</td>\n",
       "    </tr>\n",
       "    <tr>\n",
       "      <th>2</th>\n",
       "      <td>Backward</td>\n",
       "      <td>A-&gt;S</td>\n",
       "      <td>-40.4207</td>\n",
       "      <td>-2.5263</td>\n",
       "      <td>12.5071</td>\n",
       "    </tr>\n",
       "    <tr>\n",
       "      <th>3</th>\n",
       "      <td>Adv Base</td>\n",
       "      <td>S-&gt;A</td>\n",
       "      <td>-156.6136</td>\n",
       "      <td>-3.8198</td>\n",
       "      <td>45.5971</td>\n",
       "    </tr>\n",
       "    <tr>\n",
       "      <th>4</th>\n",
       "      <td>Adv Forward</td>\n",
       "      <td>A-&gt;S</td>\n",
       "      <td>-65.3954</td>\n",
       "      <td>-7.2662</td>\n",
       "      <td>1431.0411</td>\n",
       "    </tr>\n",
       "    <tr>\n",
       "      <th>5</th>\n",
       "      <td>Adv Backward</td>\n",
       "      <td>A-&gt;S</td>\n",
       "      <td>-57.9538</td>\n",
       "      <td>-6.4393</td>\n",
       "      <td>625.9727</td>\n",
       "    </tr>\n",
       "  </tbody>\n",
       "</table>\n",
       "</div>"
      ],
      "text/plain": [
       "     Model Type Query Direction  Sequence Log Prob  Normalized Log Prob  \\\n",
       "0          Base            S->A          -113.7681              -2.7748   \n",
       "1       Forward            A->S           -48.3574              -3.0223   \n",
       "2      Backward            A->S           -40.4207              -2.5263   \n",
       "3      Adv Base            S->A          -156.6136              -3.8198   \n",
       "4   Adv Forward            A->S           -65.3954              -7.2662   \n",
       "5  Adv Backward            A->S           -57.9538              -6.4393   \n",
       "\n",
       "   Perplexity  \n",
       "0     16.0359  \n",
       "1     20.5393  \n",
       "2     12.5071  \n",
       "3     45.5971  \n",
       "4   1431.0411  \n",
       "5    625.9727  "
      ]
     },
     "execution_count": 30,
     "metadata": {},
     "output_type": "execute_result"
    }
   ],
   "source": [
    "result_df = pd.DataFrame(scores_data)\n",
    "result_df"
   ]
  },
  {
   "cell_type": "markdown",
   "metadata": {},
   "source": [
    "## Linear Search"
   ]
  },
  {
   "cell_type": "code",
   "execution_count": 31,
   "metadata": {},
   "outputs": [
    {
     "name": "stdout",
     "output_type": "stream",
     "text": [
      "Dataset loaded successfully\n",
      "Example dataset item: {'article': 'LONDON, England (Reuters) -- Harry Potter star Daniel Radcliffe gains access to a reported £20 million ($41.1 million) fortune as he turns 18 on Monday, but he insists the money won\\'t cast a spell on him. Daniel Radcliffe as Harry Potter in \"Harry Potter and the Order of the Phoenix\" To the disappointment of gossip columnists around the world, the young actor says he has no plans to fritter his cash away on fast cars, drink and celebrity parties. \"I don\\'t plan to be one of those people who, as soon as they turn 18, suddenly buy themselves a massive sports car collection or something similar,\" he told an Australian interviewer earlier this month. \"I don\\'t think I\\'ll be particularly extravagant. \"The things I like buying are things that cost about 10 pounds -- books and CDs and DVDs.\" At 18, Radcliffe will be able to gamble in a casino, buy a drink in a pub or see the horror film \"Hostel: Part II,\" currently six places below his number one movie on the UK box office chart. Details of how he\\'ll mark his landmark birthday are under wraps. His agent and publicist had no comment on his plans. \"I\\'ll definitely have some sort of party,\" he said in an interview. \"Hopefully none of you will be reading about it.\" Radcliffe\\'s earnings from the first five Potter films have been held in a trust fund which he has not been able to touch. Despite his growing fame and riches, the actor says he is keeping his feet firmly on the ground. \"People are always looking to say \\'kid star goes off the rails,\\'\" he told reporters last month. \"But I try very hard not to go that way because it would be too easy for them.\" His latest outing as the boy wizard in \"Harry Potter and the Order of the Phoenix\" is breaking records on both sides of the Atlantic and he will reprise the role in the last two films.  Watch I-Reporter give her review of Potter\\'s latest » . There is life beyond Potter, however. The Londoner has filmed a TV movie called \"My Boy Jack,\" about author Rudyard Kipling and his son, due for release later this year. He will also appear in \"December Boys,\" an Australian film about four boys who escape an orphanage. Earlier this year, he made his stage debut playing a tortured teenager in Peter Shaffer\\'s \"Equus.\" Meanwhile, he is braced for even closer media scrutiny now that he\\'s legally an adult: \"I just think I\\'m going to be more sort of fair game,\" he told Reuters. E-mail to a friend . Copyright 2007 Reuters. All rights reserved.This material may not be published, broadcast, rewritten, or redistributed.', 'highlights': \"Harry Potter star Daniel Radcliffe gets £20M fortune as he turns 18 Monday .\\nYoung actor says he has no plans to fritter his cash away .\\nRadcliffe's earnings from first five Potter films have been held in trust fund .\", 'id': '42c027e4ff9730fbb3de84c1af0d2c506e41c3e4'}\n"
     ]
    }
   ],
   "source": [
    "dataset = load_cnn_dataset(num_samples=50)\n",
    "dataset = pd.DataFrame(dataset)"
   ]
  },
  {
   "cell_type": "code",
   "execution_count": 32,
   "metadata": {},
   "outputs": [
    {
     "data": {
      "text/html": [
       "<div>\n",
       "<style scoped>\n",
       "    .dataframe tbody tr th:only-of-type {\n",
       "        vertical-align: middle;\n",
       "    }\n",
       "\n",
       "    .dataframe tbody tr th {\n",
       "        vertical-align: top;\n",
       "    }\n",
       "\n",
       "    .dataframe thead th {\n",
       "        text-align: right;\n",
       "    }\n",
       "</style>\n",
       "<table border=\"1\" class=\"dataframe\">\n",
       "  <thead>\n",
       "    <tr style=\"text-align: right;\">\n",
       "      <th></th>\n",
       "      <th>article</th>\n",
       "      <th>highlights</th>\n",
       "      <th>id</th>\n",
       "    </tr>\n",
       "  </thead>\n",
       "  <tbody>\n",
       "    <tr>\n",
       "      <th>0</th>\n",
       "      <td>LONDON, England (Reuters) -- Harry Potter star Daniel Radcliffe gains access to a reported £20 million ($41.1 million) fortune as he turns 18 on Monday, but he insists the money won't cast a spell...</td>\n",
       "      <td>Harry Potter star Daniel Radcliffe gets £20M fortune as he turns 18 Monday .\\nYoung actor says he has no plans to fritter his cash away .\\nRadcliffe's earnings from first five Potter films have be...</td>\n",
       "      <td>42c027e4ff9730fbb3de84c1af0d2c506e41c3e4</td>\n",
       "    </tr>\n",
       "    <tr>\n",
       "      <th>1</th>\n",
       "      <td>Editor's note: In our Behind the Scenes series, CNN correspondents share their experiences in covering news and analyze the stories behind the events. Here, Soledad O'Brien takes users inside a ja...</td>\n",
       "      <td>Mentally ill inmates in Miami are housed on the \"forgotten floor\"\\nJudge Steven Leifman says most are there as a result of \"avoidable felonies\"\\nWhile CNN tours facility, patient shouts: \"I am the...</td>\n",
       "      <td>ee8871b15c50d0db17b0179a6d2beab35065f1e9</td>\n",
       "    </tr>\n",
       "    <tr>\n",
       "      <th>2</th>\n",
       "      <td>MINNEAPOLIS, Minnesota (CNN) -- Drivers who were on the Minneapolis bridge when it collapsed told harrowing tales of survival. \"The whole bridge from one side of the Mississippi to the other just ...</td>\n",
       "      <td>NEW: \"I thought I was going to die,\" driver says .\\nMan says pickup truck was folded in half; he just has cut on face .\\nDriver: \"I probably had a 30-, 35-foot free fall\"\\nMinnesota bridge collaps...</td>\n",
       "      <td>06352019a19ae31e527f37f7571c6dd7f0c5da37</td>\n",
       "    </tr>\n",
       "    <tr>\n",
       "      <th>3</th>\n",
       "      <td>WASHINGTON (CNN) -- Doctors removed five small polyps from President Bush's colon on Saturday, and \"none appeared worrisome,\" a White House spokesman said. The polyps were removed and sent to the ...</td>\n",
       "      <td>Five small polyps found during procedure; \"none worrisome,\" spokesman says .\\nPresident reclaims powers transferred to vice president .\\nBush undergoes routine colonoscopy at Camp David .</td>\n",
       "      <td>24521a2abb2e1f5e34e6824e0f9e56904a2b0e88</td>\n",
       "    </tr>\n",
       "    <tr>\n",
       "      <th>4</th>\n",
       "      <td>(CNN)  -- The National Football League has indefinitely suspended Atlanta Falcons quarterback Michael Vick without pay, officials with the league said Friday. NFL star Michael Vick is set to appea...</td>\n",
       "      <td>NEW: NFL chief, Atlanta Falcons owner critical of Michael Vick's conduct .\\nNFL suspends Falcons quarterback indefinitely without pay .\\nVick admits funding dogfighting operation but says he did n...</td>\n",
       "      <td>7fe70cc8b12fab2d0a258fababf7d9c6b5e1262a</td>\n",
       "    </tr>\n",
       "  </tbody>\n",
       "</table>\n",
       "</div>"
      ],
      "text/plain": [
       "                                                                                                                                                                                                   article  \\\n",
       "0  LONDON, England (Reuters) -- Harry Potter star Daniel Radcliffe gains access to a reported £20 million ($41.1 million) fortune as he turns 18 on Monday, but he insists the money won't cast a spell...   \n",
       "1  Editor's note: In our Behind the Scenes series, CNN correspondents share their experiences in covering news and analyze the stories behind the events. Here, Soledad O'Brien takes users inside a ja...   \n",
       "2  MINNEAPOLIS, Minnesota (CNN) -- Drivers who were on the Minneapolis bridge when it collapsed told harrowing tales of survival. \"The whole bridge from one side of the Mississippi to the other just ...   \n",
       "3  WASHINGTON (CNN) -- Doctors removed five small polyps from President Bush's colon on Saturday, and \"none appeared worrisome,\" a White House spokesman said. The polyps were removed and sent to the ...   \n",
       "4  (CNN)  -- The National Football League has indefinitely suspended Atlanta Falcons quarterback Michael Vick without pay, officials with the league said Friday. NFL star Michael Vick is set to appea...   \n",
       "\n",
       "                                                                                                                                                                                                highlights  \\\n",
       "0  Harry Potter star Daniel Radcliffe gets £20M fortune as he turns 18 Monday .\\nYoung actor says he has no plans to fritter his cash away .\\nRadcliffe's earnings from first five Potter films have be...   \n",
       "1  Mentally ill inmates in Miami are housed on the \"forgotten floor\"\\nJudge Steven Leifman says most are there as a result of \"avoidable felonies\"\\nWhile CNN tours facility, patient shouts: \"I am the...   \n",
       "2  NEW: \"I thought I was going to die,\" driver says .\\nMan says pickup truck was folded in half; he just has cut on face .\\nDriver: \"I probably had a 30-, 35-foot free fall\"\\nMinnesota bridge collaps...   \n",
       "3              Five small polyps found during procedure; \"none worrisome,\" spokesman says .\\nPresident reclaims powers transferred to vice president .\\nBush undergoes routine colonoscopy at Camp David .   \n",
       "4  NEW: NFL chief, Atlanta Falcons owner critical of Michael Vick's conduct .\\nNFL suspends Falcons quarterback indefinitely without pay .\\nVick admits funding dogfighting operation but says he did n...   \n",
       "\n",
       "                                         id  \n",
       "0  42c027e4ff9730fbb3de84c1af0d2c506e41c3e4  \n",
       "1  ee8871b15c50d0db17b0179a6d2beab35065f1e9  \n",
       "2  06352019a19ae31e527f37f7571c6dd7f0c5da37  \n",
       "3  24521a2abb2e1f5e34e6824e0f9e56904a2b0e88  \n",
       "4  7fe70cc8b12fab2d0a258fababf7d9c6b5e1262a  "
      ]
     },
     "execution_count": 32,
     "metadata": {},
     "output_type": "execute_result"
    }
   ],
   "source": [
    "dataset.head(5)"
   ]
  },
  {
   "cell_type": "code",
   "execution_count": 33,
   "metadata": {},
   "outputs": [
    {
     "name": "stderr",
     "output_type": "stream",
     "text": [
      "100%|██████████| 50/50 [02:32<00:00,  3.05s/it]\n"
     ]
    }
   ],
   "source": [
    "linear_results = linear_attribution_search(dataset, fo_model, fo_tokenizer, ba_model, ba_tokenizer)"
   ]
  },
  {
   "cell_type": "code",
   "execution_count": 34,
   "metadata": {},
   "outputs": [
    {
     "name": "stderr",
     "output_type": "stream",
     "text": [
      "100%|██████████| 50/50 [02:03<00:00,  2.47s/it]\n"
     ]
    }
   ],
   "source": [
    "binary_results = binary_search_attribution_search(dataset, fo_model, fo_tokenizer, ba_model, ba_tokenizer)"
   ]
  },
  {
   "cell_type": "code",
   "execution_count": null,
   "metadata": {},
   "outputs": [
    {
     "ename": "NameError",
     "evalue": "name 'exclusion_search_attribution_search' is not defined",
     "output_type": "error",
     "traceback": [
      "\u001b[0;31m---------------------------------------------------------------------------\u001b[0m",
      "\u001b[0;31mNameError\u001b[0m                                 Traceback (most recent call last)",
      "Cell \u001b[0;32mIn[38], line 1\u001b[0m\n\u001b[0;32m----> 1\u001b[0m exclusion_results \u001b[38;5;241m=\u001b[39m \u001b[43mexclusion_search_attribution_search\u001b[49m(dataset, fo_model, fo_tokenizer, ba_model, ba_tokenizer)\n",
      "\u001b[0;31mNameError\u001b[0m: name 'exclusion_search_attribution_search' is not defined"
     ]
    }
   ],
   "source": [
    "exclusion_results = exclusion_search_attribution_search(dataset, fo_model, fo_tokenizer, ba_model, ba_tokenizer)"
   ]
  },
  {
   "cell_type": "code",
   "execution_count": null,
   "metadata": {},
   "outputs": [],
   "source": [
    "def calculate_embedding_similarity(highlight, citation):\n",
    "    \"\"\"Calculate cosine similarity between sentence embeddings.\"\"\"\n",
    "    model = SentenceTransformer('all-MiniLM-L6-v2')\n",
    "    \n",
    "    # Generate embeddings\n",
    "    highlight_embedding = model.encode([highlight])[0]\n",
    "    citation_embedding = model.encode([citation])[0]\n",
    "    \n",
    "    # Calculate cosine similarity (1 - cosine distance)\n",
    "    similarity = 1 - cosine(highlight_embedding, citation_embedding)\n",
    "    return similarity\n",
    "\n",
    "def calculate_rouge_score(highlight, citation):\n",
    "    \"\"\"Calculate ROUGE-L F-measure score.\"\"\"\n",
    "    scorer = rouge_scorer.RougeScorer(['rougeL'], use_stemmer=True)\n",
    "    scores = scorer.score(highlight, citation)\n",
    "    return scores['rougeL'].fmeasure\n",
    "\n",
    "def calculate_tfidf_score(highlight, citation):\n",
    "    \"\"\"Calculate TF-IDF similarity score.\"\"\"\n",
    "    vectorizer = TfidfVectorizer()\n",
    "    tfidf_matrix = vectorizer.fit_transform([highlight, citation])\n",
    "    \n",
    "    # Convert sparse matrix to dense array for cosine similarity calculation\n",
    "    dense_matrix = tfidf_matrix.toarray()\n",
    "    \n",
    "    # Calculate cosine similarity\n",
    "    similarity = 1 - cosine(dense_matrix[0], dense_matrix[1])\n",
    "    return similarity\n",
    "\n",
    "def process_data(data):\n",
    "    \"\"\"Process the data and reformat to show scores by citation type in columns.\"\"\"\n",
    "    results = []\n",
    "    \n",
    "    for item in data:\n",
    "        highlight = item['highlight']\n",
    "        result_entry = {'id': item['id'], 'highlight': highlight}\n",
    "        \n",
    "        # Process each citation type\n",
    "        for citation_type in ['base_citation', 'ba_citation', 'fo_citation']:\n",
    "            prefix = citation_type.split('_')[0]  # Extract 'base', 'ba', or 'fo'\n",
    "            \n",
    "            if citation_type in item and item[citation_type]:\n",
    "                citation = item[citation_type]\n",
    "                \n",
    "                # Calculate scores\n",
    "                emb_similarity = calculate_embedding_similarity(highlight, citation)\n",
    "                rouge_score = calculate_rouge_score(highlight, citation)\n",
    "                tfidf_score = calculate_tfidf_score(highlight, citation)\n",
    "                \n",
    "                # Add scores as columns with prefix\n",
    "                result_entry[f'{prefix}_emb_similarity'] = emb_similarity\n",
    "                result_entry[f'{prefix}_rouge_score'] = rouge_score\n",
    "                result_entry[f'{prefix}_tfidf_score'] = tfidf_score\n",
    "                \n",
    "            else:\n",
    "                # Set default values if citation doesn't exist\n",
    "                result_entry[f'{prefix}_emb_similarity'] = None\n",
    "                result_entry[f'{prefix}_rouge_score'] = None\n",
    "                result_entry[f'{prefix}_tfidf_score'] = None\n",
    "                \n",
    "        results.append(result_entry)\n",
    "    \n",
    "    return results\n",
    "\n",
    "# Process the data\n",
    "linear_final_results = process_data(linear_results)\n",
    "binary_final_results = process_data(binary_results)\n",
    "exclusion_final_results = process_data(exclusion_results)\n"
   ]
  },
  {
   "cell_type": "code",
   "execution_count": 14,
   "metadata": {},
   "outputs": [
    {
     "data": {
      "text/plain": [
       "base_emb_similarity   0.4150\n",
       "base_rouge_score      0.1879\n",
       "base_tfidf_score      0.1701\n",
       "ba_emb_similarity     0.6083\n",
       "ba_rouge_score        0.2903\n",
       "ba_tfidf_score        0.2498\n",
       "fo_emb_similarity     0.6079\n",
       "fo_rouge_score        0.3080\n",
       "fo_tfidf_score        0.2744\n",
       "dtype: float64"
      ]
     },
     "execution_count": 14,
     "metadata": {},
     "output_type": "execute_result"
    }
   ],
   "source": [
    "r = pd.DataFrame(linear_final_results) \n",
    "r.drop(['id', 'highlight'], axis=1).mean()"
   ]
  },
  {
   "cell_type": "code",
   "execution_count": 15,
   "metadata": {},
   "outputs": [
    {
     "data": {
      "text/plain": [
       "base_emb_similarity   0.6225\n",
       "base_rouge_score      0.3302\n",
       "base_tfidf_score      0.2941\n",
       "ba_emb_similarity     0.4173\n",
       "ba_rouge_score        0.1711\n",
       "ba_tfidf_score        0.1465\n",
       "fo_emb_similarity     0.4204\n",
       "fo_rouge_score        0.1636\n",
       "fo_tfidf_score        0.1515\n",
       "dtype: float64"
      ]
     },
     "execution_count": 15,
     "metadata": {},
     "output_type": "execute_result"
    }
   ],
   "source": [
    "r = pd.DataFrame(binary_final_results) \n",
    "r.drop(['id', 'highlight'], axis=1).mean()"
   ]
  },
  {
   "cell_type": "code",
   "execution_count": null,
   "metadata": {},
   "outputs": [
    {
     "name": "stdout",
     "output_type": "stream",
     "text": [
      "           Base_linear  Fo_linear  Ba_linear  Base_binary  Fo_binary  \\\n",
      "Embedding       0.4150     0.6079     0.6083       0.6225     0.4204   \n",
      "Rouge           0.1879     0.3080     0.2903       0.3302     0.1636   \n",
      "Tfidf           0.1701     0.2744     0.2498       0.2941     0.1515   \n",
      "\n",
      "           Ba_binary  \n",
      "Embedding     0.4173  \n",
      "Rouge         0.1711  \n",
      "Tfidf         0.1465  \n"
     ]
    }
   ],
   "source": [
    "df_linear = pd.DataFrame(linear_final_results)\n",
    "df_binary = pd.DataFrame(binary_final_results)\n",
    "df_exclusion = pd.DataFrame(exclusion_final_results)\n",
    "\n",
    "df_merged = pd.merge(df_linear, df_binary, df_exclusion, on=['id', 'highlight'],suffixes=('_linear', '_binary'))\n",
    "mean_series = df_merged.drop(['id', 'highlight'], axis=1).mean()\n",
    "\n",
    "data = {\n",
    "    'Base_linear': [\n",
    "        mean_series['base_emb_similarity_linear'],\n",
    "        mean_series['base_rouge_score_linear'],\n",
    "        mean_series['base_tfidf_score_linear']\n",
    "    ],\n",
    "    'Fo_linear': [\n",
    "        mean_series['fo_emb_similarity_linear'],\n",
    "        mean_series['fo_rouge_score_linear'],\n",
    "        mean_series['fo_tfidf_score_linear']\n",
    "    ],\n",
    "    'Ba_linear': [\n",
    "        mean_series['ba_emb_similarity_linear'],\n",
    "        mean_series['ba_rouge_score_linear'],\n",
    "        mean_series['ba_tfidf_score_linear']\n",
    "    ],\n",
    "    'Base_binary': [\n",
    "        mean_series['base_emb_similarity_binary'],\n",
    "        mean_series['base_rouge_score_binary'],\n",
    "        mean_series['base_tfidf_score_binary']\n",
    "    ],\n",
    "    'Fo_binary': [\n",
    "        mean_series['fo_emb_similarity_binary'],\n",
    "        mean_series['fo_rouge_score_binary'],\n",
    "        mean_series['fo_tfidf_score_binary']\n",
    "    ],\n",
    "    'Ba_binary': [\n",
    "        mean_series['ba_emb_similarity_binary'],\n",
    "        mean_series['ba_rouge_score_binary'],\n",
    "        mean_series['ba_tfidf_score_binary']\n",
    "    ]\n",
    "}\n",
    "\n",
    "table_df = pd.DataFrame(data, index=['Embedding', 'Rouge', 'Tfidf'])\n",
    "print(table_df)"
   ]
  },
  {
   "cell_type": "code",
   "execution_count": null,
   "metadata": {},
   "outputs": [],
   "source": []
  }
 ],
 "metadata": {
  "kernelspec": {
   "display_name": "idl_project",
   "language": "python",
   "name": "python3"
  },
  "language_info": {
   "codemirror_mode": {
    "name": "ipython",
    "version": 3
   },
   "file_extension": ".py",
   "mimetype": "text/x-python",
   "name": "python",
   "nbconvert_exporter": "python",
   "pygments_lexer": "ipython3",
   "version": "3.11.11"
  }
 },
 "nbformat": 4,
 "nbformat_minor": 2
}
