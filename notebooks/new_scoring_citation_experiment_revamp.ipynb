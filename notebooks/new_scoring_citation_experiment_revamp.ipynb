{
 "cells": [
  {
   "cell_type": "markdown",
   "metadata": {},
   "source": [
    "# Scoring and Citations Testbed\n",
    "---"
   ]
  },
  {
   "cell_type": "markdown",
   "metadata": {},
   "source": []
  },
  {
   "cell_type": "markdown",
   "metadata": {},
   "source": [
    "## Import Libraries"
   ]
  },
  {
   "cell_type": "code",
   "execution_count": null,
   "metadata": {},
   "outputs": [],
   "source": [
    "import sys \n",
    "import os \n",
    "sys.path.append(os.path.abspath(os.path.join(os.getcwd(), '..')))"
   ]
  },
  {
   "cell_type": "code",
   "execution_count": 2,
   "metadata": {},
   "outputs": [
    {
     "name": "stderr",
     "output_type": "stream",
     "text": [
      "/jet/home/iwiryadi/.local/lib/python3.10/site-packages/sentence_transformers/cross_encoder/CrossEncoder.py:11: TqdmExperimentalWarning: Using `tqdm.autonotebook.tqdm` in notebook mode. Use `tqdm.tqdm` instead to force console mode (e.g. in jupyter console)\n",
      "  from tqdm.autonotebook import tqdm, trange\n"
     ]
    }
   ],
   "source": [
    "import nltk\n",
    "import pandas as pd\n",
    "from nltk.tokenize import sent_tokenize\n",
    "from nltk.translate.bleu_score import SmoothingFunction, sentence_bleu\n",
    "from rouge_score import rouge_scorer\n",
    "from scipy.spatial.distance import cosine\n",
    "from sentence_transformers import SentenceTransformer\n",
    "from sklearn.feature_extraction.text import TfidfVectorizer\n",
    "from sklearn.metrics.pairwise import cosine_similarity"
   ]
  },
  {
   "cell_type": "code",
   "execution_count": 3,
   "metadata": {},
   "outputs": [
    {
     "name": "stdout",
     "output_type": "stream",
     "text": [
      "Using device: cuda\n"
     ]
    }
   ],
   "source": [
    "from src.model import load_fo_model, load_ba_model\n",
    "from src.data import load_cnn_dataset, prepare_cnn_dataset\n",
    "from src.utils import *\n",
    "from src.search import *"
   ]
  },
  {
   "cell_type": "code",
   "execution_count": 4,
   "metadata": {},
   "outputs": [],
   "source": [
    "pd.set_option('display.max_colwidth', 200)\n",
    "pd.set_option('display.float_format', '{:.4f}'.format)"
   ]
  },
  {
   "cell_type": "code",
   "execution_count": 5,
   "metadata": {},
   "outputs": [
    {
     "name": "stderr",
     "output_type": "stream",
     "text": [
      "[nltk_data] Downloading package punkt_tab to\n",
      "[nltk_data]     /jet/home/iwiryadi/nltk_data...\n",
      "[nltk_data]   Package punkt_tab is already up-to-date!\n"
     ]
    },
    {
     "data": {
      "text/plain": [
       "True"
      ]
     },
     "execution_count": 5,
     "metadata": {},
     "output_type": "execute_result"
    }
   ],
   "source": [
    "nltk.download(\"punkt_tab\")"
   ]
  },
  {
   "cell_type": "code",
   "execution_count": 6,
   "metadata": {},
   "outputs": [
    {
     "data": {
      "text/plain": [
       "'cuda'"
      ]
     },
     "execution_count": 6,
     "metadata": {},
     "output_type": "execute_result"
    }
   ],
   "source": [
    "DEVICE"
   ]
  },
  {
   "cell_type": "code",
   "execution_count": 7,
   "metadata": {},
   "outputs": [
    {
     "data": {
      "text/plain": [
       "'/ocean/projects/cis250068p/shared/caches'"
      ]
     },
     "execution_count": 7,
     "metadata": {},
     "output_type": "execute_result"
    }
   ],
   "source": [
    "CACHE_DIR"
   ]
  },
  {
   "cell_type": "markdown",
   "metadata": {},
   "source": [
    "## Quick Test"
   ]
  },
  {
   "cell_type": "code",
   "execution_count": 8,
   "metadata": {},
   "outputs": [
    {
     "data": {
      "application/vnd.jupyter.widget-view+json": {
       "model_id": "5bf9a7eea7d14428a8439f318840d585",
       "version_major": 2,
       "version_minor": 0
      },
      "text/plain": [
       "config.json:   0%|          | 0.00/598 [00:00<?, ?B/s]"
      ]
     },
     "metadata": {},
     "output_type": "display_data"
    },
    {
     "data": {
      "application/vnd.jupyter.widget-view+json": {
       "model_id": "e5b9befb22d044f3ac0ed9bc45c26233",
       "version_major": 2,
       "version_minor": 0
      },
      "text/plain": [
       "pytorch_model.bin:   0%|          | 0.00/375M [00:00<?, ?B/s]"
      ]
     },
     "metadata": {},
     "output_type": "display_data"
    },
    {
     "data": {
      "application/vnd.jupyter.widget-view+json": {
       "model_id": "f5d1dd009c3c49b2878cd17316af3011",
       "version_major": 2,
       "version_minor": 0
      },
      "text/plain": [
       "model.safetensors:   0%|          | 0.00/375M [00:00<?, ?B/s]"
      ]
     },
     "metadata": {},
     "output_type": "display_data"
    },
    {
     "data": {
      "application/vnd.jupyter.widget-view+json": {
       "model_id": "6a9368ce336343689481c0f15b30dc33",
       "version_major": 2,
       "version_minor": 0
      },
      "text/plain": [
       "generation_config.json:   0%|          | 0.00/111 [00:00<?, ?B/s]"
      ]
     },
     "metadata": {},
     "output_type": "display_data"
    },
    {
     "data": {
      "application/vnd.jupyter.widget-view+json": {
       "model_id": "a5b90c56fc19480ebf486e6eccd8272b",
       "version_major": 2,
       "version_minor": 0
      },
      "text/plain": [
       "tokenizer_config.json:   0%|          | 0.00/146 [00:00<?, ?B/s]"
      ]
     },
     "metadata": {},
     "output_type": "display_data"
    },
    {
     "data": {
      "application/vnd.jupyter.widget-view+json": {
       "model_id": "4c16bce459e04ba3a1a03bd1c51190a3",
       "version_major": 2,
       "version_minor": 0
      },
      "text/plain": [
       "tokenizer.json:   0%|          | 0.00/2.11M [00:00<?, ?B/s]"
      ]
     },
     "metadata": {},
     "output_type": "display_data"
    },
    {
     "data": {
      "application/vnd.jupyter.widget-view+json": {
       "model_id": "74aa5696114046989d2d798064b9e6d3",
       "version_major": 2,
       "version_minor": 0
      },
      "text/plain": [
       "special_tokens_map.json:   0%|          | 0.00/3.00 [00:00<?, ?B/s]"
      ]
     },
     "metadata": {},
     "output_type": "display_data"
    }
   ],
   "source": [
    "# Load the models\n",
    "fo_model, fo_tokenizer = load_fo_model()\n",
    "ba_model, ba_tokenizer = load_ba_model()"
   ]
  },
  {
   "cell_type": "code",
   "execution_count": null,
   "metadata": {},
   "outputs": [],
   "source": [
    "fo_tokenizer.pad_token    = \"<|padding|>\"\n",
    "fo_tokenizer.pad_token_id = 1   \n",
    "\n",
    "ba_tokenizer.pad_token    = \"<|padding|>\"\n",
    "ba_tokenizer.pad_token_id = 1   "
   ]
  },
  {
   "cell_type": "code",
   "execution_count": 9,
   "metadata": {},
   "outputs": [],
   "source": [
    "summaries, articles, adverse_summaries = example_texts()"
   ]
  },
  {
   "cell_type": "code",
   "execution_count": 12,
   "metadata": {},
   "outputs": [
    {
     "ename": "ValueError",
     "evalue": "Tokenizer does not have a pad_token_id defined.",
     "output_type": "error",
     "traceback": [
      "\u001b[0;31m---------------------------------------------------------------------------\u001b[0m",
      "\u001b[0;31mValueError\u001b[0m                                Traceback (most recent call last)",
      "File \u001b[0;32m<timed exec>:10\u001b[0m\n",
      "File \u001b[0;32m/ocean/projects/cis250068p/iwiryadi/idl-project/src/utils.py:204\u001b[0m, in \u001b[0;36mcalculate_score_batch\u001b[0;34m(queries, answers, model, tokenizer, backward, query_direction, task, debug)\u001b[0m\n\u001b[1;32m    202\u001b[0m pad_id \u001b[38;5;241m=\u001b[39m tokenizer\u001b[38;5;241m.\u001b[39mpad_token_id\n\u001b[1;32m    203\u001b[0m \u001b[38;5;28;01mif\u001b[39;00m pad_id \u001b[38;5;129;01mis\u001b[39;00m \u001b[38;5;28;01mNone\u001b[39;00m:\n\u001b[0;32m--> 204\u001b[0m     \u001b[38;5;28;01mraise\u001b[39;00m \u001b[38;5;167;01mValueError\u001b[39;00m(\u001b[38;5;124m\"\u001b[39m\u001b[38;5;124mTokenizer does not have a pad_token_id defined.\u001b[39m\u001b[38;5;124m\"\u001b[39m)\n\u001b[1;32m    206\u001b[0m \u001b[38;5;28;01mfor\u001b[39;00m i \u001b[38;5;129;01min\u001b[39;00m \u001b[38;5;28mrange\u001b[39m(batch_size):\n\u001b[1;32m    207\u001b[0m     combined \u001b[38;5;241m=\u001b[39m t\u001b[38;5;241m.\u001b[39mcat((context_ids_list[i], target_ids_list[i]))\n",
      "\u001b[0;31mValueError\u001b[0m: Tokenizer does not have a pad_token_id defined."
     ]
    }
   ],
   "source": [
    "%%time\n",
    "debug = False\n",
    "\n",
    "batch = 16\n",
    "\n",
    "samp_summaries=summaries[:batch]\n",
    "samp_articles=articles[:batch]\n",
    "samp_advsummaries=adverse_summaries[:batch]\n",
    "\n",
    "# Evaluate with batch (normal direction) → S->A (only for Fo model)\n",
    "base_scores = calculate_score_batch(samp_summaries, samp_articles, fo_model, fo_tokenizer, backward=False, query_direction=\"normal\", debug=debug)\n",
    "\n",
    "# Evaluate with batch (reverse direction) → A->S\n",
    "fo_scores = calculate_score_batch(samp_summaries, samp_articles, fo_model, fo_tokenizer, backward=False, query_direction=\"reverse\", debug=debug)\n",
    "ba_scores = calculate_score_batch(samp_summaries, samp_articles, ba_model, ba_tokenizer, backward=True, query_direction=\"reverse\", debug=debug)\n",
    "\n",
    "# Adverse summaries\n",
    "adv_base_scores = calculate_score_batch(samp_advsummaries, samp_articles, fo_model, fo_tokenizer, backward=False, query_direction=\"normal\", debug=debug)\n",
    "adv_fo_scores = calculate_score_batch(samp_advsummaries, samp_articles, fo_model, fo_tokenizer, backward=False, query_direction=\"reverse\", debug=debug)\n",
    "adv_ba_scores = calculate_score_batch(samp_advsummaries, samp_articles, ba_model, ba_tokenizer, backward=True, query_direction=\"reverse\", debug=debug)\n",
    "\n",
    "\n",
    "def extract_metric(scores, key):\n",
    "    return [s[key] for s in scores]\n",
    "\n",
    "df = pd.DataFrame({\n",
    "    'Article': samp_articles,\n",
    "    'Summary': samp_summaries,\n",
    "    'Adverse Summary': samp_advsummaries,\n",
    "    \n",
    "    'Base_NLL': extract_metric(base_scores, 'normalized_log_prob'),\n",
    "    'Fo_NLL': extract_metric(fo_scores, 'normalized_log_prob'),\n",
    "    'Ba_NLL': extract_metric(ba_scores, 'normalized_log_prob'),\n",
    "    \n",
    "    'AdvBase_NLL': extract_metric(adv_base_scores, 'normalized_log_prob'),\n",
    "    'AdvFo_NLL': extract_metric(adv_fo_scores, 'normalized_log_prob'),\n",
    "    'AdvBa_NLL': extract_metric(adv_ba_scores, 'normalized_log_prob'),\n",
    "})\n",
    "df"
   ]
  },
  {
   "cell_type": "code",
   "execution_count": 13,
   "metadata": {},
   "outputs": [
    {
     "name": "stdout",
     "output_type": "stream",
     "text": [
      "CPU times: user 64.9 ms, sys: 321 µs, total: 65.2 ms\n",
      "Wall time: 64.2 ms\n"
     ]
    }
   ],
   "source": [
    "%%time\n",
    "\n",
    "debug = False\n",
    "\n",
    "summary = summaries[0]\n",
    "article = articles[0]\n",
    "adverse_summary = adverse_summaries[0]\n",
    "\n",
    "# In normal, query is sentence/article, and answer is summary/highlight (S->A direction)\n",
    "base = calculate_score(summary, article, fo_model, fo_tokenizer, backward=False, query_direction=\"normal\", debug=debug)\n",
    "# In Fo, query is summary/highlight , and answer is sentence/article(A->S direction)\n",
    "fo = calculate_score(summary, article, fo_model, fo_tokenizer, backward=False, query_direction=\"reverse\", debug=debug)\n",
    "# In Ba, query is summary/highlight , and answer is sentence/article(A->S direction)\n",
    "ba = calculate_score(summary, article, ba_model, ba_tokenizer, backward=True, query_direction=\"reverse\", debug=debug)\n",
    "\n",
    "\n",
    "adv_base = calculate_score(adverse_summary, article, fo_model, fo_tokenizer, backward=False, query_direction=\"normal\", debug=debug)\n",
    "adv_fo = calculate_score(adverse_summary, article, fo_model, fo_tokenizer, backward=False, query_direction=\"reverse\", debug=debug)\n",
    "adv_ba = calculate_score(adverse_summary, article, ba_model, ba_tokenizer, backward=True, query_direction=\"reverse\", debug=debug)\n",
    "\n",
    "\n",
    "scores_data = {\n",
    "    'Model Type': ['Base', 'Forward', 'Backward', 'Adv Base', 'Adv Forward', 'Adv Backward'],\n",
    "    \n",
    "    'Query Direction': ['S->A', 'A->S', 'A->S', 'S->A', 'A->S', 'A->S'],\n",
    "    \n",
    "    'Sequence Log Prob': [\n",
    "        base['sequence_log_prob'],\n",
    "        fo['sequence_log_prob'],\n",
    "        ba['sequence_log_prob'],\n",
    "        \n",
    "        adv_base['sequence_log_prob'],\n",
    "        adv_fo['sequence_log_prob'],\n",
    "        adv_ba['sequence_log_prob'],\n",
    "    ],\n",
    "    'Normalized Log Prob': [\n",
    "        base['normalized_log_prob'],\n",
    "        fo['normalized_log_prob'],\n",
    "        ba['normalized_log_prob'],\n",
    "        \n",
    "        adv_base['normalized_log_prob'],\n",
    "        adv_fo['normalized_log_prob'],\n",
    "        adv_ba['normalized_log_prob'],\n",
    "    ],\n",
    "    'Perplexity': [\n",
    "        base['perplexity'],\n",
    "        fo['perplexity'],\n",
    "        ba['perplexity'],\n",
    "        \n",
    "        adv_base['perplexity'],\n",
    "        adv_fo['perplexity'],\n",
    "        adv_ba['perplexity'],\n",
    "    ]\n",
    "}"
   ]
  },
  {
   "cell_type": "code",
   "execution_count": 14,
   "metadata": {},
   "outputs": [
    {
     "data": {
      "text/html": [
       "<div>\n",
       "<style scoped>\n",
       "    .dataframe tbody tr th:only-of-type {\n",
       "        vertical-align: middle;\n",
       "    }\n",
       "\n",
       "    .dataframe tbody tr th {\n",
       "        vertical-align: top;\n",
       "    }\n",
       "\n",
       "    .dataframe thead th {\n",
       "        text-align: right;\n",
       "    }\n",
       "</style>\n",
       "<table border=\"1\" class=\"dataframe\">\n",
       "  <thead>\n",
       "    <tr style=\"text-align: right;\">\n",
       "      <th></th>\n",
       "      <th>Model Type</th>\n",
       "      <th>Query Direction</th>\n",
       "      <th>Sequence Log Prob</th>\n",
       "      <th>Normalized Log Prob</th>\n",
       "      <th>Perplexity</th>\n",
       "    </tr>\n",
       "  </thead>\n",
       "  <tbody>\n",
       "    <tr>\n",
       "      <th>0</th>\n",
       "      <td>Base</td>\n",
       "      <td>S-&gt;A</td>\n",
       "      <td>-48.3527</td>\n",
       "      <td>-3.0220</td>\n",
       "      <td>20.5332</td>\n",
       "    </tr>\n",
       "    <tr>\n",
       "      <th>1</th>\n",
       "      <td>Forward</td>\n",
       "      <td>A-&gt;S</td>\n",
       "      <td>-113.7687</td>\n",
       "      <td>-2.7748</td>\n",
       "      <td>16.0362</td>\n",
       "    </tr>\n",
       "    <tr>\n",
       "      <th>2</th>\n",
       "      <td>Backward</td>\n",
       "      <td>A-&gt;S</td>\n",
       "      <td>-117.9552</td>\n",
       "      <td>-2.8770</td>\n",
       "      <td>17.7601</td>\n",
       "    </tr>\n",
       "    <tr>\n",
       "      <th>3</th>\n",
       "      <td>Adv Base</td>\n",
       "      <td>S-&gt;A</td>\n",
       "      <td>-92.7839</td>\n",
       "      <td>-5.7990</td>\n",
       "      <td>329.9684</td>\n",
       "    </tr>\n",
       "    <tr>\n",
       "      <th>4</th>\n",
       "      <td>Adv Forward</td>\n",
       "      <td>A-&gt;S</td>\n",
       "      <td>-63.9381</td>\n",
       "      <td>-7.1042</td>\n",
       "      <td>1217.1104</td>\n",
       "    </tr>\n",
       "    <tr>\n",
       "      <th>5</th>\n",
       "      <td>Adv Backward</td>\n",
       "      <td>A-&gt;S</td>\n",
       "      <td>-57.0505</td>\n",
       "      <td>-6.3389</td>\n",
       "      <td>566.1954</td>\n",
       "    </tr>\n",
       "  </tbody>\n",
       "</table>\n",
       "</div>"
      ],
      "text/plain": [
       "     Model Type Query Direction  Sequence Log Prob  Normalized Log Prob  \\\n",
       "0          Base            S->A           -48.3527              -3.0220   \n",
       "1       Forward            A->S          -113.7687              -2.7748   \n",
       "2      Backward            A->S          -117.9552              -2.8770   \n",
       "3      Adv Base            S->A           -92.7839              -5.7990   \n",
       "4   Adv Forward            A->S           -63.9381              -7.1042   \n",
       "5  Adv Backward            A->S           -57.0505              -6.3389   \n",
       "\n",
       "   Perplexity  \n",
       "0     20.5332  \n",
       "1     16.0362  \n",
       "2     17.7601  \n",
       "3    329.9684  \n",
       "4   1217.1104  \n",
       "5    566.1954  "
      ]
     },
     "execution_count": 14,
     "metadata": {},
     "output_type": "execute_result"
    }
   ],
   "source": [
    "result_df = pd.DataFrame(scores_data)\n",
    "result_df"
   ]
  },
  {
   "cell_type": "markdown",
   "metadata": {},
   "source": [
    "## Linear Search"
   ]
  },
  {
   "cell_type": "code",
   "execution_count": 30,
   "metadata": {},
   "outputs": [
    {
     "name": "stdout",
     "output_type": "stream",
     "text": [
      "Dataset loaded successfully\n",
      "Example dataset item: {'article': 'LONDON, England (Reuters) -- Harry Potter star Daniel Radcliffe gains access to a reported £20 million ($41.1 million) fortune as he turns 18 on Monday, but he insists the money won\\'t cast a spell on him. Daniel Radcliffe as Harry Potter in \"Harry Potter and the Order of the Phoenix\" To the disappointment of gossip columnists around the world, the young actor says he has no plans to fritter his cash away on fast cars, drink and celebrity parties. \"I don\\'t plan to be one of those people who, as soon as they turn 18, suddenly buy themselves a massive sports car collection or something similar,\" he told an Australian interviewer earlier this month. \"I don\\'t think I\\'ll be particularly extravagant. \"The things I like buying are things that cost about 10 pounds -- books and CDs and DVDs.\" At 18, Radcliffe will be able to gamble in a casino, buy a drink in a pub or see the horror film \"Hostel: Part II,\" currently six places below his number one movie on the UK box office chart. Details of how he\\'ll mark his landmark birthday are under wraps. His agent and publicist had no comment on his plans. \"I\\'ll definitely have some sort of party,\" he said in an interview. \"Hopefully none of you will be reading about it.\" Radcliffe\\'s earnings from the first five Potter films have been held in a trust fund which he has not been able to touch. Despite his growing fame and riches, the actor says he is keeping his feet firmly on the ground. \"People are always looking to say \\'kid star goes off the rails,\\'\" he told reporters last month. \"But I try very hard not to go that way because it would be too easy for them.\" His latest outing as the boy wizard in \"Harry Potter and the Order of the Phoenix\" is breaking records on both sides of the Atlantic and he will reprise the role in the last two films.  Watch I-Reporter give her review of Potter\\'s latest » . There is life beyond Potter, however. The Londoner has filmed a TV movie called \"My Boy Jack,\" about author Rudyard Kipling and his son, due for release later this year. He will also appear in \"December Boys,\" an Australian film about four boys who escape an orphanage. Earlier this year, he made his stage debut playing a tortured teenager in Peter Shaffer\\'s \"Equus.\" Meanwhile, he is braced for even closer media scrutiny now that he\\'s legally an adult: \"I just think I\\'m going to be more sort of fair game,\" he told Reuters. E-mail to a friend . Copyright 2007 Reuters. All rights reserved.This material may not be published, broadcast, rewritten, or redistributed.', 'highlights': \"Harry Potter star Daniel Radcliffe gets £20M fortune as he turns 18 Monday .\\nYoung actor says he has no plans to fritter his cash away .\\nRadcliffe's earnings from first five Potter films have been held in trust fund .\", 'id': '42c027e4ff9730fbb3de84c1af0d2c506e41c3e4'}\n"
     ]
    }
   ],
   "source": [
    "dataset = load_cnn_dataset(num_samples=1)\n",
    "dataset = pd.DataFrame(dataset)"
   ]
  },
  {
   "cell_type": "code",
   "execution_count": 31,
   "metadata": {},
   "outputs": [
    {
     "data": {
      "text/html": [
       "<div>\n",
       "<style scoped>\n",
       "    .dataframe tbody tr th:only-of-type {\n",
       "        vertical-align: middle;\n",
       "    }\n",
       "\n",
       "    .dataframe tbody tr th {\n",
       "        vertical-align: top;\n",
       "    }\n",
       "\n",
       "    .dataframe thead th {\n",
       "        text-align: right;\n",
       "    }\n",
       "</style>\n",
       "<table border=\"1\" class=\"dataframe\">\n",
       "  <thead>\n",
       "    <tr style=\"text-align: right;\">\n",
       "      <th></th>\n",
       "      <th>article</th>\n",
       "      <th>highlights</th>\n",
       "      <th>id</th>\n",
       "    </tr>\n",
       "  </thead>\n",
       "  <tbody>\n",
       "    <tr>\n",
       "      <th>0</th>\n",
       "      <td>LONDON, England (Reuters) -- Harry Potter star Daniel Radcliffe gains access to a reported £20 million ($41.1 million) fortune as he turns 18 on Monday, but he insists the money won't cast a spell...</td>\n",
       "      <td>Harry Potter star Daniel Radcliffe gets £20M fortune as he turns 18 Monday .\\nYoung actor says he has no plans to fritter his cash away .\\nRadcliffe's earnings from first five Potter films have be...</td>\n",
       "      <td>42c027e4ff9730fbb3de84c1af0d2c506e41c3e4</td>\n",
       "    </tr>\n",
       "  </tbody>\n",
       "</table>\n",
       "</div>"
      ],
      "text/plain": [
       "                                                                                                                                                                                                   article  \\\n",
       "0  LONDON, England (Reuters) -- Harry Potter star Daniel Radcliffe gains access to a reported £20 million ($41.1 million) fortune as he turns 18 on Monday, but he insists the money won't cast a spell...   \n",
       "\n",
       "                                                                                                                                                                                                highlights  \\\n",
       "0  Harry Potter star Daniel Radcliffe gets £20M fortune as he turns 18 Monday .\\nYoung actor says he has no plans to fritter his cash away .\\nRadcliffe's earnings from first five Potter films have be...   \n",
       "\n",
       "                                         id  \n",
       "0  42c027e4ff9730fbb3de84c1af0d2c506e41c3e4  "
      ]
     },
     "execution_count": 31,
     "metadata": {},
     "output_type": "execute_result"
    }
   ],
   "source": [
    "dataset.head(5)"
   ]
  },
  {
   "cell_type": "code",
   "execution_count": 32,
   "metadata": {},
   "outputs": [],
   "source": [
    "all_pairs, meta = prepare_cnn_dataset(dataset)"
   ]
  },
  {
   "cell_type": "code",
   "execution_count": 34,
   "metadata": {},
   "outputs": [
    {
     "data": {
      "application/vnd.jupyter.widget-view+json": {
       "model_id": "c24b6b3d2ef74219b14c11d8c3212f48",
       "version_major": 2,
       "version_minor": 0
      },
      "text/plain": [
       "  0%|          | 0/1 [00:00<?, ?it/s]"
      ]
     },
     "metadata": {},
     "output_type": "display_data"
    },
    {
     "data": {
      "application/vnd.jupyter.widget-view+json": {
       "model_id": "7fb320af10ab4b098dc8941615182265",
       "version_major": 2,
       "version_minor": 0
      },
      "text/plain": [
       "  0%|          | 0/1 [00:00<?, ?it/s]"
      ]
     },
     "metadata": {},
     "output_type": "display_data"
    },
    {
     "data": {
      "application/vnd.jupyter.widget-view+json": {
       "model_id": "27d9449f0d1e4b51977bb0a18bb9de45",
       "version_major": 2,
       "version_minor": 0
      },
      "text/plain": [
       "  0%|          | 0/1 [00:00<?, ?it/s]"
      ]
     },
     "metadata": {},
     "output_type": "display_data"
    }
   ],
   "source": [
    "linear_results = linear_attribution_search_batched(all_pairs, meta, fo_model, fo_tokenizer, ba_model, ba_tokenizer)"
   ]
  },
  {
   "cell_type": "code",
   "execution_count": 35,
   "metadata": {},
   "outputs": [
    {
     "data": {
      "text/plain": [
       "[{'id': '42c027e4ff9730fbb3de84c1af0d2c506e41c3e4',\n",
       "  'highlight': 'Harry Potter star Daniel Radcliffe gets £20M fortune as he turns 18 Monday .',\n",
       "  'base_citation': 'All rights reserved.This material may not be published, broadcast, rewritten, or redistributed.',\n",
       "  'base_score': -2.009256676398231,\n",
       "  'base_perplexity': 7.45777174872994,\n",
       "  'fo_citation': \"LONDON, England (Reuters) -- Harry Potter star Daniel Radcliffe gains access to a reported £20 million ($41.1 million) fortune as he turns 18 on Monday, but he insists the money won't cast a spell on him.\",\n",
       "  'fo_score': -3.607265502139714,\n",
       "  'fo_perplexity': 36.86510730304163,\n",
       "  'ba_citation': \"LONDON, England (Reuters) -- Harry Potter star Daniel Radcliffe gains access to a reported £20 million ($41.1 million) fortune as he turns 18 on Monday, but he insists the money won't cast a spell on him.\",\n",
       "  'ba_score': -2.715530435206676,\n",
       "  'ba_perplexity': 15.112624214164343}]"
      ]
     },
     "execution_count": 35,
     "metadata": {},
     "output_type": "execute_result"
    }
   ],
   "source": [
    "linear_results"
   ]
  },
  {
   "cell_type": "code",
   "execution_count": null,
   "metadata": {},
   "outputs": [
    {
     "data": {
      "application/vnd.jupyter.widget-view+json": {
       "model_id": "fc89d7b14e6146e4af77e21389d7e3f0",
       "version_major": 2,
       "version_minor": 0
      },
      "text/plain": [
       "  0%|          | 0/100 [00:00<?, ?it/s]"
      ]
     },
     "metadata": {},
     "output_type": "display_data"
    }
   ],
   "source": [
    "linear_results = linear_attribution_search(dataset, fo_model, fo_tokenizer, ba_model, ba_tokenizer)"
   ]
  },
  {
   "cell_type": "code",
   "execution_count": 26,
   "metadata": {},
   "outputs": [
    {
     "data": {
      "application/vnd.jupyter.widget-view+json": {
       "model_id": "892b671217094a449f3b063ce1806875",
       "version_major": 2,
       "version_minor": 0
      },
      "text/plain": [
       "  0%|          | 0/100 [00:00<?, ?it/s]"
      ]
     },
     "metadata": {},
     "output_type": "display_data"
    }
   ],
   "source": [
    "binary_results = binary_search_attribution_search(dataset, fo_model, fo_tokenizer, ba_model, ba_tokenizer)"
   ]
  },
  {
   "cell_type": "code",
   "execution_count": 27,
   "metadata": {},
   "outputs": [
    {
     "data": {
      "application/vnd.jupyter.widget-view+json": {
       "model_id": "3f055e62f1a24a37a35bc7c59ce802ac",
       "version_major": 2,
       "version_minor": 0
      },
      "text/plain": [
       "  0%|          | 0/100 [00:00<?, ?it/s]"
      ]
     },
     "metadata": {},
     "output_type": "display_data"
    }
   ],
   "source": [
    "exclusion_results = exclusion_search_attribution_search(dataset, fo_model, fo_tokenizer, ba_model, ba_tokenizer)"
   ]
  },
  {
   "cell_type": "code",
   "execution_count": 26,
   "metadata": {},
   "outputs": [
    {
     "ename": "NameError",
     "evalue": "name 'binary_results' is not defined",
     "output_type": "error",
     "traceback": [
      "\u001b[0;31m---------------------------------------------------------------------------\u001b[0m",
      "\u001b[0;31mNameError\u001b[0m                                 Traceback (most recent call last)",
      "Cell \u001b[0;32mIn[26], line 68\u001b[0m\n\u001b[1;32m     66\u001b[0m \u001b[38;5;66;03m# Process the data\u001b[39;00m\n\u001b[1;32m     67\u001b[0m linear_final_results \u001b[38;5;241m=\u001b[39m process_data(linear_results)\n\u001b[0;32m---> 68\u001b[0m binary_final_results \u001b[38;5;241m=\u001b[39m process_data(\u001b[43mbinary_results\u001b[49m)\n\u001b[1;32m     69\u001b[0m exclusion_final_results \u001b[38;5;241m=\u001b[39m process_data(exclusion_results)\n",
      "\u001b[0;31mNameError\u001b[0m: name 'binary_results' is not defined"
     ]
    }
   ],
   "source": [
    "def calculate_embedding_similarity(highlight, citation):\n",
    "    \"\"\"Calculate cosine similarity between sentence embeddings.\"\"\"\n",
    "    model = SentenceTransformer('all-MiniLM-L6-v2')\n",
    "    \n",
    "    # Generate embeddings\n",
    "    highlight_embedding = model.encode([highlight])[0]\n",
    "    citation_embedding = model.encode([citation])[0]\n",
    "    \n",
    "    # Calculate cosine similarity (1 - cosine distance)\n",
    "    similarity = 1 - cosine(highlight_embedding, citation_embedding)\n",
    "    return similarity\n",
    "\n",
    "def calculate_rouge_score(highlight, citation):\n",
    "    \"\"\"Calculate ROUGE-L F-measure score.\"\"\"\n",
    "    scorer = rouge_scorer.RougeScorer(['rougeL'], use_stemmer=True)\n",
    "    scores = scorer.score(highlight, citation)\n",
    "    return scores['rougeL'].fmeasure\n",
    "\n",
    "def calculate_tfidf_score(highlight, citation):\n",
    "    \"\"\"Calculate TF-IDF similarity score.\"\"\"\n",
    "    vectorizer = TfidfVectorizer()\n",
    "    tfidf_matrix = vectorizer.fit_transform([highlight, citation])\n",
    "    \n",
    "    # Convert sparse matrix to dense array for cosine similarity calculation\n",
    "    dense_matrix = tfidf_matrix.toarray()\n",
    "    \n",
    "    # Calculate cosine similarity\n",
    "    similarity = 1 - cosine(dense_matrix[0], dense_matrix[1])\n",
    "    return similarity\n",
    "\n",
    "def process_data(data):\n",
    "    \"\"\"Process the data and reformat to show scores by citation type in columns.\"\"\"\n",
    "    results = []\n",
    "    \n",
    "    for item in data:\n",
    "        highlight = item['highlight']\n",
    "        result_entry = {'id': item['id'], 'highlight': highlight}\n",
    "        \n",
    "        # Process each citation type\n",
    "        for citation_type in ['base_citation', 'ba_citation', 'fo_citation']:\n",
    "            prefix = citation_type.split('_')[0]  # Extract 'base', 'ba', or 'fo'\n",
    "            \n",
    "            if citation_type in item and item[citation_type]:\n",
    "                citation = item[citation_type]\n",
    "                \n",
    "                # Calculate scores\n",
    "                emb_similarity = calculate_embedding_similarity(highlight, citation)\n",
    "                rouge_score = calculate_rouge_score(highlight, citation)\n",
    "                tfidf_score = calculate_tfidf_score(highlight, citation)\n",
    "                \n",
    "                # Add scores as columns with prefix\n",
    "                result_entry[f'{prefix}_emb_similarity'] = emb_similarity\n",
    "                result_entry[f'{prefix}_rouge_score'] = rouge_score\n",
    "                result_entry[f'{prefix}_tfidf_score'] = tfidf_score\n",
    "                \n",
    "            else:\n",
    "                # Set default values if citation doesn't exist\n",
    "                result_entry[f'{prefix}_emb_similarity'] = None\n",
    "                result_entry[f'{prefix}_rouge_score'] = None\n",
    "                result_entry[f'{prefix}_tfidf_score'] = None\n",
    "                \n",
    "        results.append(result_entry)\n",
    "    \n",
    "    return results\n",
    "\n",
    "# Process the data\n",
    "linear_final_results = process_data(linear_results)\n",
    "binary_final_results = process_data(binary_results)\n",
    "exclusion_final_results = process_data(exclusion_results)\n"
   ]
  },
  {
   "cell_type": "code",
   "execution_count": 29,
   "metadata": {},
   "outputs": [
    {
     "data": {
      "text/plain": [
       "base_emb_similarity   0.4150\n",
       "base_rouge_score      0.1879\n",
       "base_tfidf_score      0.1701\n",
       "ba_emb_similarity     0.6442\n",
       "ba_rouge_score        0.3303\n",
       "ba_tfidf_score        0.2898\n",
       "fo_emb_similarity     0.6456\n",
       "fo_rouge_score        0.3480\n",
       "fo_tfidf_score        0.3144\n",
       "dtype: float64"
      ]
     },
     "execution_count": 29,
     "metadata": {},
     "output_type": "execute_result"
    }
   ],
   "source": [
    "r = pd.DataFrame(linear_final_results) \n",
    "r.drop(['id', 'highlight'], axis=1).mean()"
   ]
  },
  {
   "cell_type": "code",
   "execution_count": 30,
   "metadata": {},
   "outputs": [
    {
     "data": {
      "text/plain": [
       "base_emb_similarity   0.4260\n",
       "base_rouge_score      0.1673\n",
       "base_tfidf_score      0.1448\n",
       "ba_emb_similarity     0.6403\n",
       "ba_rouge_score        0.3137\n",
       "ba_tfidf_score        0.2745\n",
       "fo_emb_similarity     0.6378\n",
       "fo_rouge_score        0.3302\n",
       "fo_tfidf_score        0.2923\n",
       "dtype: float64"
      ]
     },
     "execution_count": 30,
     "metadata": {},
     "output_type": "execute_result"
    }
   ],
   "source": [
    "r = pd.DataFrame(binary_final_results) \n",
    "r.drop(['id', 'highlight'], axis=1).mean()"
   ]
  },
  {
   "cell_type": "code",
   "execution_count": 31,
   "metadata": {},
   "outputs": [
    {
     "data": {
      "text/plain": [
       "base_emb_similarity   0.4007\n",
       "base_rouge_score      0.1688\n",
       "base_tfidf_score      0.1433\n",
       "ba_emb_similarity     0.6219\n",
       "ba_rouge_score        0.3161\n",
       "ba_tfidf_score        0.2895\n",
       "fo_emb_similarity     0.6041\n",
       "fo_rouge_score        0.3204\n",
       "fo_tfidf_score        0.2921\n",
       "dtype: float64"
      ]
     },
     "execution_count": 31,
     "metadata": {},
     "output_type": "execute_result"
    }
   ],
   "source": [
    "r = pd.DataFrame(exclusion_final_results) \n",
    "r.drop(['id', 'highlight'], axis=1).mean()"
   ]
  },
  {
   "cell_type": "code",
   "execution_count": 32,
   "metadata": {},
   "outputs": [
    {
     "data": {
      "text/html": [
       "<div>\n",
       "<style scoped>\n",
       "    .dataframe tbody tr th:only-of-type {\n",
       "        vertical-align: middle;\n",
       "    }\n",
       "\n",
       "    .dataframe tbody tr th {\n",
       "        vertical-align: top;\n",
       "    }\n",
       "\n",
       "    .dataframe thead th {\n",
       "        text-align: right;\n",
       "    }\n",
       "</style>\n",
       "<table border=\"1\" class=\"dataframe\">\n",
       "  <thead>\n",
       "    <tr style=\"text-align: right;\">\n",
       "      <th></th>\n",
       "      <th>Base_linear</th>\n",
       "      <th>Fo_linear</th>\n",
       "      <th>Ba_linear</th>\n",
       "      <th>Base_binary</th>\n",
       "      <th>Fo_binary</th>\n",
       "      <th>Ba_binary</th>\n",
       "    </tr>\n",
       "  </thead>\n",
       "  <tbody>\n",
       "    <tr>\n",
       "      <th>Embedding</th>\n",
       "      <td>0.4425</td>\n",
       "      <td>0.6380</td>\n",
       "      <td>0.6453</td>\n",
       "      <td>0.4260</td>\n",
       "      <td>0.6378</td>\n",
       "      <td>0.6403</td>\n",
       "    </tr>\n",
       "    <tr>\n",
       "      <th>Rouge</th>\n",
       "      <td>0.1945</td>\n",
       "      <td>0.3206</td>\n",
       "      <td>0.3099</td>\n",
       "      <td>0.1673</td>\n",
       "      <td>0.3302</td>\n",
       "      <td>0.3137</td>\n",
       "    </tr>\n",
       "    <tr>\n",
       "      <th>Tfidf</th>\n",
       "      <td>0.1664</td>\n",
       "      <td>0.2855</td>\n",
       "      <td>0.2708</td>\n",
       "      <td>0.1448</td>\n",
       "      <td>0.2923</td>\n",
       "      <td>0.2745</td>\n",
       "    </tr>\n",
       "  </tbody>\n",
       "</table>\n",
       "</div>"
      ],
      "text/plain": [
       "           Base_linear  Fo_linear  Ba_linear  Base_binary  Fo_binary  \\\n",
       "Embedding       0.4425     0.6380     0.6453       0.4260     0.6378   \n",
       "Rouge           0.1945     0.3206     0.3099       0.1673     0.3302   \n",
       "Tfidf           0.1664     0.2855     0.2708       0.1448     0.2923   \n",
       "\n",
       "           Ba_binary  \n",
       "Embedding     0.6403  \n",
       "Rouge         0.3137  \n",
       "Tfidf         0.2745  "
      ]
     },
     "execution_count": 32,
     "metadata": {},
     "output_type": "execute_result"
    }
   ],
   "source": [
    "df_linear = pd.DataFrame(linear_final_results)\n",
    "df_binary = pd.DataFrame(binary_final_results)\n",
    "df_exclusion = pd.DataFrame(exclusion_final_results)\n",
    "\n",
    "df_merged = pd.merge(df_linear, df_binary, on=['id', 'highlight'],suffixes=('_linear', '_binary'))\n",
    "\n",
    "df_exclusion = df_exclusion.add_suffix('_exclusion')\n",
    "df_exclusion = df_exclusion.rename(columns={'id_exclusion': 'id', 'highlight_exclusion': 'highlight'})\n",
    "\n",
    "df_merged = pd.merge(df_merged, df_exclusion, on=['id', 'highlight'])\n",
    "\n",
    "mean_series = df_merged.drop(['id', 'highlight'], axis=1).mean()\n",
    "\n",
    "data = {\n",
    "    'Base_linear': [\n",
    "        mean_series['base_emb_similarity_linear'],\n",
    "        mean_series['base_rouge_score_linear'],\n",
    "        mean_series['base_tfidf_score_linear']\n",
    "    ],\n",
    "    'Fo_linear': [\n",
    "        mean_series['fo_emb_similarity_linear'],\n",
    "        mean_series['fo_rouge_score_linear'],\n",
    "        mean_series['fo_tfidf_score_linear']\n",
    "    ],\n",
    "    'Ba_linear': [\n",
    "        mean_series['ba_emb_similarity_linear'],\n",
    "        mean_series['ba_rouge_score_linear'],\n",
    "        mean_series['ba_tfidf_score_linear']\n",
    "    ],\n",
    "    'Base_binary': [\n",
    "        mean_series['base_emb_similarity_binary'],\n",
    "        mean_series['base_rouge_score_binary'],\n",
    "        mean_series['base_tfidf_score_binary']\n",
    "    ],\n",
    "    'Fo_binary': [\n",
    "        mean_series['fo_emb_similarity_binary'],\n",
    "        mean_series['fo_rouge_score_binary'],\n",
    "        mean_series['fo_tfidf_score_binary']\n",
    "    ],\n",
    "    'Ba_binary': [\n",
    "        mean_series['ba_emb_similarity_binary'],\n",
    "        mean_series['ba_rouge_score_binary'],\n",
    "        mean_series['ba_tfidf_score_binary']\n",
    "    ]\n",
    "}\n",
    "\n",
    "table_df = pd.DataFrame(data, index=['Embedding', 'Rouge', 'Tfidf'])\n",
    "table_df"
   ]
  },
  {
   "cell_type": "code",
   "execution_count": null,
   "metadata": {},
   "outputs": [],
   "source": []
  },
  {
   "cell_type": "code",
   "execution_count": null,
   "metadata": {},
   "outputs": [],
   "source": []
  },
  {
   "cell_type": "code",
   "execution_count": null,
   "metadata": {},
   "outputs": [],
   "source": []
  },
  {
   "cell_type": "code",
   "execution_count": null,
   "metadata": {},
   "outputs": [],
   "source": []
  },
  {
   "cell_type": "code",
   "execution_count": null,
   "metadata": {},
   "outputs": [],
   "source": []
  },
  {
   "cell_type": "code",
   "execution_count": null,
   "metadata": {},
   "outputs": [],
   "source": []
  },
  {
   "cell_type": "code",
   "execution_count": null,
   "metadata": {},
   "outputs": [],
   "source": []
  },
  {
   "cell_type": "code",
   "execution_count": null,
   "metadata": {},
   "outputs": [],
   "source": []
  },
  {
   "cell_type": "code",
   "execution_count": null,
   "metadata": {},
   "outputs": [],
   "source": []
  }
 ],
 "metadata": {
  "kernelspec": {
   "display_name": "Python 3 (ipykernel)",
   "language": "python",
   "name": "python3"
  },
  "language_info": {
   "codemirror_mode": {
    "name": "ipython",
    "version": 3
   },
   "file_extension": ".py",
   "mimetype": "text/x-python",
   "name": "python",
   "nbconvert_exporter": "python",
   "pygments_lexer": "ipython3",
   "version": "3.10.9"
  }
 },
 "nbformat": 4,
 "nbformat_minor": 2
}
