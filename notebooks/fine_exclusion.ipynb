{
 "cells": [
  {
   "cell_type": "code",
   "execution_count": 1,
   "metadata": {},
   "outputs": [
    {
     "name": "stderr",
     "output_type": "stream",
     "text": [
      "/jet/home/jhwang4/.local/lib/python3.10/site-packages/tqdm/auto.py:21: TqdmWarning: IProgress not found. Please update jupyter and ipywidgets. See https://ipywidgets.readthedocs.io/en/stable/user_install.html\n",
      "  from .autonotebook import tqdm as notebook_tqdm\n"
     ]
    },
    {
     "name": "stdout",
     "output_type": "stream",
     "text": [
      "Using device: cuda\n"
     ]
    }
   ],
   "source": [
    "import sys \n",
    "import os \n",
    "sys.path.append(os.path.abspath(os.path.join(os.getcwd(), '..')))\n",
    "sys.path.append('/ocean/projects/cis250068p/jhwang4/idl-project')\n",
    "import torch as t\n",
    "import numpy as np\n",
    "import pandas as pd\n",
    "import torch.nn.functional as F\n",
    "from tqdm.auto import tqdm\n",
    "\n",
    "from transformers import GPTNeoXForCausalLM, AutoTokenizer\n",
    "from datasets import load_dataset, Dataset\n",
    "from sentence_transformers import SentenceTransformer, util\n",
    "\n",
    "from sklearn.feature_extraction.text import TfidfVectorizer\n",
    "from sklearn.metrics.pairwise import cosine_similarity\n",
    "\n",
    "import nltk\n",
    "from nltk.translate.bleu_score import sentence_bleu, SmoothingFunction\n",
    "from rouge_score import rouge_scorer\n",
    "from nltk.tokenize import sent_tokenize\n",
    "\n",
    "from sentence_transformers import SentenceTransformer\n",
    "from rouge_score import rouge_scorer\n",
    "from sklearn.feature_extraction.text import TfidfVectorizer\n",
    "import ast\n",
    "import re\n",
    "from scipy.spatial.distance import cosine\n",
    "from src.model import *\n",
    "from src.data import load_cnn_dataset\n",
    "#from src.utils import *\n",
    "from src.utils_batch_v2 import *\n",
    "#from src.search import *\n",
    "from src.search_batch_v2 import *\n"
   ]
  },
  {
   "cell_type": "code",
   "execution_count": 2,
   "metadata": {},
   "outputs": [
    {
     "name": "stderr",
     "output_type": "stream",
     "text": [
      "[nltk_data] Downloading package punkt_tab to\n",
      "[nltk_data]     /jet/home/jhwang4/nltk_data...\n",
      "[nltk_data]   Package punkt_tab is already up-to-date!\n"
     ]
    },
    {
     "data": {
      "text/plain": [
       "True"
      ]
     },
     "execution_count": 2,
     "metadata": {},
     "output_type": "execute_result"
    }
   ],
   "source": [
    "pd.set_option('display.max_colwidth', 200)\n",
    "pd.set_option('display.float_format', '{:.4f}'.format)\n",
    "nltk.download(\"punkt_tab\")\n"
   ]
  },
  {
   "cell_type": "code",
   "execution_count": 3,
   "metadata": {},
   "outputs": [
    {
     "data": {
      "text/plain": [
       "'cuda'"
      ]
     },
     "execution_count": 3,
     "metadata": {},
     "output_type": "execute_result"
    }
   ],
   "source": [
    "DEVICE"
   ]
  },
  {
   "cell_type": "code",
   "execution_count": 4,
   "metadata": {},
   "outputs": [
    {
     "name": "stdout",
     "output_type": "stream",
     "text": [
      "4\n"
     ]
    }
   ],
   "source": [
    "# Load the models\n",
    "fo_model, fo_tokenizer = load_ftfo_model()\n",
    "ba_model, ba_tokenizer = load_ftba_model()\n",
    "fo_model = fo_model.to(DEVICE).half()\n",
    "ba_model = ba_model.to(DEVICE).half()\n",
    "\n",
    "if t.cuda.device_count() > 1:\n",
    "    print(t.cuda.device_count())\n",
    "    fo_model = t.nn.DataParallel(fo_model)\n",
    "    ba_model = t.nn.DataParallel(ba_model)\n",
    "\n",
    "fo_model = t.compile(fo_model)\n",
    "ba_model = t.compile(ba_model)"
   ]
  },
  {
   "cell_type": "code",
   "execution_count": 5,
   "metadata": {},
   "outputs": [],
   "source": [
    "t.cuda.empty_cache()"
   ]
  },
  {
   "cell_type": "code",
   "execution_count": 6,
   "metadata": {},
   "outputs": [
    {
     "name": "stdout",
     "output_type": "stream",
     "text": [
      "Dataset loaded successfully\n",
      "Example dataset item: {'article': 'LONDON, England (Reuters) -- Harry Potter star Daniel Radcliffe gains access to a reported £20 million ($41.1 million) fortune as he turns 18 on Monday, but he insists the money won\\'t cast a spell on him. Daniel Radcliffe as Harry Potter in \"Harry Potter and the Order of the Phoenix\" To the disappointment of gossip columnists around the world, the young actor says he has no plans to fritter his cash away on fast cars, drink and celebrity parties. \"I don\\'t plan to be one of those people who, as soon as they turn 18, suddenly buy themselves a massive sports car collection or something similar,\" he told an Australian interviewer earlier this month. \"I don\\'t think I\\'ll be particularly extravagant. \"The things I like buying are things that cost about 10 pounds -- books and CDs and DVDs.\" At 18, Radcliffe will be able to gamble in a casino, buy a drink in a pub or see the horror film \"Hostel: Part II,\" currently six places below his number one movie on the UK box office chart. Details of how he\\'ll mark his landmark birthday are under wraps. His agent and publicist had no comment on his plans. \"I\\'ll definitely have some sort of party,\" he said in an interview. \"Hopefully none of you will be reading about it.\" Radcliffe\\'s earnings from the first five Potter films have been held in a trust fund which he has not been able to touch. Despite his growing fame and riches, the actor says he is keeping his feet firmly on the ground. \"People are always looking to say \\'kid star goes off the rails,\\'\" he told reporters last month. \"But I try very hard not to go that way because it would be too easy for them.\" His latest outing as the boy wizard in \"Harry Potter and the Order of the Phoenix\" is breaking records on both sides of the Atlantic and he will reprise the role in the last two films.  Watch I-Reporter give her review of Potter\\'s latest » . There is life beyond Potter, however. The Londoner has filmed a TV movie called \"My Boy Jack,\" about author Rudyard Kipling and his son, due for release later this year. He will also appear in \"December Boys,\" an Australian film about four boys who escape an orphanage. Earlier this year, he made his stage debut playing a tortured teenager in Peter Shaffer\\'s \"Equus.\" Meanwhile, he is braced for even closer media scrutiny now that he\\'s legally an adult: \"I just think I\\'m going to be more sort of fair game,\" he told Reuters. E-mail to a friend . Copyright 2007 Reuters. All rights reserved.This material may not be published, broadcast, rewritten, or redistributed.', 'highlights': \"Harry Potter star Daniel Radcliffe gets £20M fortune as he turns 18 Monday .\\nYoung actor says he has no plans to fritter his cash away .\\nRadcliffe's earnings from first five Potter films have been held in trust fund .\", 'id': '42c027e4ff9730fbb3de84c1af0d2c506e41c3e4'}\n"
     ]
    }
   ],
   "source": [
    "dataset = load_cnn_dataset(num_samples=15950)\n",
    "dataset = pd.DataFrame(dataset)"
   ]
  },
  {
   "cell_type": "code",
   "execution_count": 7,
   "metadata": {},
   "outputs": [
    {
     "name": "stderr",
     "output_type": "stream",
     "text": [
      "  0%|                                                                                                | 0/15950 [00:00<?, ?it/s]/ocean/projects/cis250068p/jhwang4/idl-project/src/utils_batch_v2.py:176: FutureWarning: `torch.cuda.amp.autocast(args...)` is deprecated. Please use `torch.amp.autocast('cuda', args...)` instead.\n",
      "  with t.no_grad(), autocast():\n",
      "W0425 02:21:02.436000 37256 torch/_logging/_internal.py:1081] [0/0] Profiler function <class 'torch.autograd.profiler.record_function'> will be ignored\n",
      "/ocean/projects/cis250068p/jhwang4/idl-project/src/utils_batch_v2.py:176: FutureWarning: `torch.cuda.amp.autocast(args...)` is deprecated. Please use `torch.amp.autocast('cuda', args...)` instead.\n",
      "  with t.no_grad(), autocast():\n",
      "/ocean/projects/cis250068p/jhwang4/idl-project/src/utils_batch_v2.py:176: FutureWarning: `torch.cuda.amp.autocast(args...)` is deprecated. Please use `torch.amp.autocast('cuda', args...)` instead.\n",
      "  with t.no_grad(), autocast():\n",
      "/jet/home/jhwang4/.local/lib/python3.10/site-packages/torch/_inductor/compile_fx.py:167: UserWarning: TensorFloat32 tensor cores for float32 matrix multiplication available but not enabled. Consider setting `torch.set_float32_matmul_precision('high')` for better performance.\n",
      "  warnings.warn(\n",
      "/ocean/projects/cis250068p/jhwang4/idl-project/src/utils_batch_v2.py:176: FutureWarning: `torch.cuda.amp.autocast(args...)` is deprecated. Please use `torch.amp.autocast('cuda', args...)` instead.\n",
      "  with t.no_grad(), autocast():\n",
      "  0%|                                                                                    | 1/15950 [00:29<128:31:42, 29.01s/it]/ocean/projects/cis250068p/jhwang4/idl-project/src/utils_batch_v2.py:176: FutureWarning: `torch.cuda.amp.autocast(args...)` is deprecated. Please use `torch.amp.autocast('cuda', args...)` instead.\n",
      "  with t.no_grad(), autocast():\n",
      "/ocean/projects/cis250068p/jhwang4/idl-project/src/utils_batch_v2.py:176: FutureWarning: `torch.cuda.amp.autocast(args...)` is deprecated. Please use `torch.amp.autocast('cuda', args...)` instead.\n",
      "  with t.no_grad(), autocast():\n",
      "/ocean/projects/cis250068p/jhwang4/idl-project/src/utils_batch_v2.py:176: FutureWarning: `torch.cuda.amp.autocast(args...)` is deprecated. Please use `torch.amp.autocast('cuda', args...)` instead.\n",
      "  with t.no_grad(), autocast():\n",
      "/ocean/projects/cis250068p/jhwang4/idl-project/src/utils_batch_v2.py:176: FutureWarning: `torch.cuda.amp.autocast(args...)` is deprecated. Please use `torch.amp.autocast('cuda', args...)` instead.\n",
      "  with t.no_grad(), autocast():\n",
      "  0%|                                                                                     | 7/15950 [01:02<18:33:31,  4.19s/it]/ocean/projects/cis250068p/jhwang4/idl-project/src/utils_batch_v2.py:176: FutureWarning: `torch.cuda.amp.autocast(args...)` is deprecated. Please use `torch.amp.autocast('cuda', args...)` instead.\n",
      "  with t.no_grad(), autocast():\n",
      "  0%|                                                                                    | 19/15950 [01:34<18:50:23,  4.26s/it]/ocean/projects/cis250068p/jhwang4/idl-project/src/utils_batch_v2.py:176: FutureWarning: `torch.cuda.amp.autocast(args...)` is deprecated. Please use `torch.amp.autocast('cuda', args...)` instead.\n",
      "  with t.no_grad(), autocast():\n",
      "  0%|▏                                                                                   | 28/15950 [01:55<19:36:35,  4.43s/it]/ocean/projects/cis250068p/jhwang4/idl-project/src/utils_batch_v2.py:176: FutureWarning: `torch.cuda.amp.autocast(args...)` is deprecated. Please use `torch.amp.autocast('cuda', args...)` instead.\n",
      "  with t.no_grad(), autocast():\n",
      "100%|██████████████████████████████████████████████████████████████████████████████████| 15950/15950 [5:58:10<00:00,  1.35s/it]\n"
     ]
    }
   ],
   "source": [
    "exclusion_results = exclusion_search_attribution_search(dataset, fo_model, fo_tokenizer, ba_model, ba_tokenizer, sentence_batch_size=8) # 1m43s, 8m32s "
   ]
  },
  {
   "cell_type": "code",
   "execution_count": 8,
   "metadata": {},
   "outputs": [
    {
     "name": "stderr",
     "output_type": "stream",
     "text": [
      "/opt/packages/AI/pytorch_23.02-1.13.1-py3/lib/python3.10/site-packages/scipy/spatial/distance.py:622: RuntimeWarning: invalid value encountered in double_scalars\n",
      "  dist = 1.0 - uv / np.sqrt(uu * vv)\n"
     ]
    }
   ],
   "source": [
    "EMB_MODEL    = SentenceTransformer('all-MiniLM-L6-v2')\n",
    "ROUGE_SCORER = rouge_scorer.RougeScorer(['rougeL'], use_stemmer=True)\n",
    "TFIDF_VEC    = TfidfVectorizer(\n",
    "    token_pattern=r\"(?u)\\b\\w+\\b\",\n",
    "    stop_words=None\n",
    ")\n",
    "\n",
    "def calculate_embedding_similarity(highlight, citation):\n",
    "    he = EMB_MODEL.encode([highlight])[0]\n",
    "    ce = EMB_MODEL.encode([citation])[0]\n",
    "    return 1 - cosine(he, ce)\n",
    "\n",
    "def calculate_rouge_score(highlight, citation):\n",
    "    return ROUGE_SCORER.score(highlight, citation)['rougeL'].fmeasure\n",
    "\n",
    "def calculate_tfidf_score(highlight, citation):\n",
    "    try:\n",
    "        mat = TFIDF_VEC.fit_transform([highlight, citation]).toarray()\n",
    "        return 1 - cosine(mat[0], mat[1])\n",
    "    except ValueError:\n",
    "        return 0.0\n",
    "\n",
    "def process_data(data):\n",
    "    results = []\n",
    "    for item in data:\n",
    "        hl = item['highlight']\n",
    "        rec = {'id': item['id'], 'highlight': hl}\n",
    "        for citation_type in ['base_citation','fo_citation','ba_citation']:\n",
    "            prefix = citation_type.split('_')[0]\n",
    "            cit = item.get(citation_type, None)\n",
    "            if cit:\n",
    "                rec[f'{prefix}_emb_similarity'] = calculate_embedding_similarity(hl, cit)\n",
    "                rec[f'{prefix}_rouge_score']     = calculate_rouge_score(hl, cit)\n",
    "                rec[f'{prefix}_tfidf_score']     = calculate_tfidf_score(hl, cit)\n",
    "            else:\n",
    "                rec[f'{prefix}_emb_similarity'] = None\n",
    "                rec[f'{prefix}_rouge_score']     = None\n",
    "                rec[f'{prefix}_tfidf_score']     = None\n",
    "        results.append(rec)\n",
    "    return results\n",
    "\n",
    "\n",
    "exclusion_final_results = process_data(exclusion_results)"
   ]
  },
  {
   "cell_type": "code",
   "execution_count": 9,
   "metadata": {},
   "outputs": [
    {
     "data": {
      "text/plain": [
       "base_emb_similarity   0.4774\n",
       "base_rouge_score      0.1968\n",
       "base_tfidf_score      0.1759\n",
       "fo_emb_similarity     0.5984\n",
       "fo_rouge_score        0.3235\n",
       "fo_tfidf_score        0.2821\n",
       "ba_emb_similarity     0.6421\n",
       "ba_rouge_score        0.3515\n",
       "ba_tfidf_score        0.3051\n",
       "dtype: float64"
      ]
     },
     "execution_count": 9,
     "metadata": {},
     "output_type": "execute_result"
    }
   ],
   "source": [
    "r = pd.DataFrame(exclusion_final_results) \n",
    "r.drop(['id', 'highlight'], axis=1).mean()"
   ]
  },
  {
   "cell_type": "code",
   "execution_count": 10,
   "metadata": {},
   "outputs": [],
   "source": [
    "df_exclusion = pd.DataFrame(exclusion_final_results)\n",
    "mean_series = df_exclusion.drop(['id', 'highlight'], axis=1).mean()\n",
    "\n",
    "data = {\n",
    "    'Base_exclusion': [\n",
    "        mean_series['base_emb_similarity'],\n",
    "        mean_series['base_rouge_score'],\n",
    "        mean_series['base_tfidf_score']\n",
    "    ],\n",
    "    'Fo_exclusion': [\n",
    "        mean_series['fo_emb_similarity'],\n",
    "        mean_series['fo_rouge_score'],\n",
    "        mean_series['fo_tfidf_score']\n",
    "    ],\n",
    "    'Ba_exclusion': [\n",
    "        mean_series['ba_emb_similarity'],\n",
    "        mean_series['ba_rouge_score'],\n",
    "        mean_series['ba_tfidf_score']\n",
    "    ]\n",
    "}\n",
    "\n",
    "table_df = pd.DataFrame(data, index=['Embedding', 'Rouge', 'Tfidf'])\n",
    "table_df\n",
    "table_df.to_csv(\"/ocean/projects/cis250068p/jhwang4/idl-project/notebooks/fine_exclusion_result.csv\", index=True)"
   ]
  },
  {
   "cell_type": "code",
   "execution_count": null,
   "metadata": {},
   "outputs": [],
   "source": []
  }
 ],
 "metadata": {
  "kernelspec": {
   "display_name": "Python 3 (ipykernel)",
   "language": "python",
   "name": "python3"
  }
 },
 "nbformat": 4,
 "nbformat_minor": 2
}
